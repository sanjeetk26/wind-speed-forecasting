{
  "nbformat": 4,
  "nbformat_minor": 0,
  "metadata": {
    "colab": {
      "name": "implementation1_weekly.ipynb",
      "provenance": []
    },
    "kernelspec": {
      "name": "python3",
      "display_name": "Python 3"
    },
    "language_info": {
      "name": "python"
    }
  },
  "cells": [
    {
      "cell_type": "code",
      "metadata": {
        "colab": {
          "base_uri": "https://localhost:8080/"
        },
        "id": "4GVjUPLF6rOi",
        "outputId": "d5eb8103-466c-4b1d-a42a-4ffa48b07c4f"
      },
      "source": [
        "from google.colab import drive\n",
        "drive.mount('/content/drive')"
      ],
      "execution_count": null,
      "outputs": [
        {
          "output_type": "stream",
          "name": "stdout",
          "text": [
            "Mounted at /content/drive\n"
          ]
        }
      ]
    },
    {
      "cell_type": "code",
      "metadata": {
        "colab": {
          "base_uri": "https://localhost:8080/"
        },
        "id": "GnAfMpaW21ef",
        "outputId": "c2fd4930-6043-43fa-dbd2-d80628faebf1"
      },
      "source": [
        "%cd /content/drive/MyDrive/Projects/wind_speed_forecasting/implementation1_univariate_single_step"
      ],
      "execution_count": null,
      "outputs": [
        {
          "output_type": "stream",
          "name": "stdout",
          "text": [
            "/content/drive/MyDrive/Projects/wind_speed_forecasting/implementation1_univariate_single_step\n"
          ]
        }
      ]
    },
    {
      "cell_type": "code",
      "metadata": {
        "id": "WIXQRHMo3_5w"
      },
      "source": [
        "import pandas as pd"
      ],
      "execution_count": null,
      "outputs": []
    },
    {
      "cell_type": "code",
      "metadata": {
        "id": "DTk2vQHN-Qk3"
      },
      "source": [
        "import numpy as np"
      ],
      "execution_count": null,
      "outputs": []
    },
    {
      "cell_type": "code",
      "metadata": {
        "id": "tXUT74Hs-lAz"
      },
      "source": [
        "from keras.models import Sequential\n",
        "from keras.layers import LSTM\n",
        "from keras.layers import Dense\n",
        " "
      ],
      "execution_count": null,
      "outputs": []
    },
    {
      "cell_type": "code",
      "metadata": {
        "id": "zefHCwnN9wVA"
      },
      "source": [
        "# split a univariate sequence into samples\n",
        "def split_sequence(sequence, n_steps):\n",
        "\tX, y = list(), list()\n",
        "\tfor i in range(len(sequence)):\n",
        "\t\t# find the end of this pattern\n",
        "\t\tend_ix = i + n_steps\n",
        "\t\t# check if we are beyond the sequence\n",
        "\t\tif end_ix > len(sequence)-1:\n",
        "\t\t\tbreak\n",
        "\t\t# gather input and output parts of the pattern\n",
        "\t\tseq_x, seq_y = sequence.iloc[i:end_ix], sequence.iloc[end_ix]\n",
        "\t\tX.append(seq_x)\n",
        "\t\ty.append(seq_y)\n",
        "\treturn np.array(X), np.array(y)"
      ],
      "execution_count": null,
      "outputs": []
    },
    {
      "cell_type": "code",
      "metadata": {
        "id": "8vmpp5y594dc"
      },
      "source": [
        "n_steps = 4 #4 weeks as input"
      ],
      "execution_count": null,
      "outputs": []
    },
    {
      "cell_type": "code",
      "metadata": {
        "id": "eSU1MFWX02j2"
      },
      "source": [
        "df=pd.read_csv('Rajasthan2.csv')"
      ],
      "execution_count": null,
      "outputs": []
    },
    {
      "cell_type": "code",
      "metadata": {
        "id": "O-WeR14X02kF"
      },
      "source": [
        "del df['Unnamed: 0']"
      ],
      "execution_count": null,
      "outputs": []
    },
    {
      "cell_type": "code",
      "metadata": {
        "colab": {
          "base_uri": "https://localhost:8080/",
          "height": 424
        },
        "id": "U4pClJfJ7Y9C",
        "outputId": "08348726-a258-4bf5-a726-d65eeac88f25"
      },
      "source": [
        "df"
      ],
      "execution_count": null,
      "outputs": [
        {
          "output_type": "execute_result",
          "data": {
            "text/html": [
              "<div>\n",
              "<style scoped>\n",
              "    .dataframe tbody tr th:only-of-type {\n",
              "        vertical-align: middle;\n",
              "    }\n",
              "\n",
              "    .dataframe tbody tr th {\n",
              "        vertical-align: top;\n",
              "    }\n",
              "\n",
              "    .dataframe thead th {\n",
              "        text-align: right;\n",
              "    }\n",
              "</style>\n",
              "<table border=\"1\" class=\"dataframe\">\n",
              "  <thead>\n",
              "    <tr style=\"text-align: right;\">\n",
              "      <th></th>\n",
              "      <th>Wind Speed</th>\n",
              "    </tr>\n",
              "  </thead>\n",
              "  <tbody>\n",
              "    <tr>\n",
              "      <th>0</th>\n",
              "      <td>3.147576</td>\n",
              "    </tr>\n",
              "    <tr>\n",
              "      <th>1</th>\n",
              "      <td>3.226448</td>\n",
              "    </tr>\n",
              "    <tr>\n",
              "      <th>2</th>\n",
              "      <td>1.910139</td>\n",
              "    </tr>\n",
              "    <tr>\n",
              "      <th>3</th>\n",
              "      <td>3.159724</td>\n",
              "    </tr>\n",
              "    <tr>\n",
              "      <th>4</th>\n",
              "      <td>3.435311</td>\n",
              "    </tr>\n",
              "    <tr>\n",
              "      <th>...</th>\n",
              "      <td>...</td>\n",
              "    </tr>\n",
              "    <tr>\n",
              "      <th>5470</th>\n",
              "      <td>2.446395</td>\n",
              "    </tr>\n",
              "    <tr>\n",
              "      <th>5471</th>\n",
              "      <td>1.120289</td>\n",
              "    </tr>\n",
              "    <tr>\n",
              "      <th>5472</th>\n",
              "      <td>1.904124</td>\n",
              "    </tr>\n",
              "    <tr>\n",
              "      <th>5473</th>\n",
              "      <td>1.675611</td>\n",
              "    </tr>\n",
              "    <tr>\n",
              "      <th>5474</th>\n",
              "      <td>3.950996</td>\n",
              "    </tr>\n",
              "  </tbody>\n",
              "</table>\n",
              "<p>5475 rows × 1 columns</p>\n",
              "</div>"
            ],
            "text/plain": [
              "      Wind Speed\n",
              "0       3.147576\n",
              "1       3.226448\n",
              "2       1.910139\n",
              "3       3.159724\n",
              "4       3.435311\n",
              "...          ...\n",
              "5470    2.446395\n",
              "5471    1.120289\n",
              "5472    1.904124\n",
              "5473    1.675611\n",
              "5474    3.950996\n",
              "\n",
              "[5475 rows x 1 columns]"
            ]
          },
          "metadata": {},
          "execution_count": 6
        }
      ]
    },
    {
      "cell_type": "code",
      "metadata": {
        "id": "8y4LzVyJ8Lma"
      },
      "source": [
        "df_rj1=pd.DataFrame(columns=['Wind Speed'])"
      ],
      "execution_count": null,
      "outputs": []
    },
    {
      "cell_type": "code",
      "metadata": {
        "id": "hMJ0BdRP8iqR"
      },
      "source": [
        "for i in range(int(len(df)/7)):\n",
        "  sum=0.0\n",
        "  for j in range(7):\n",
        "    if j>int(len(df)):\n",
        "      break\n",
        "    sum+=df['Wind Speed'].iloc[i+j]\n",
        "  sum=sum/7\n",
        "  df_rj1=df_rj1.append({'Wind Speed': sum}, ignore_index=True)"
      ],
      "execution_count": null,
      "outputs": []
    },
    {
      "cell_type": "code",
      "metadata": {
        "colab": {
          "base_uri": "https://localhost:8080/",
          "height": 424
        },
        "id": "9lDQTvQI9QJh",
        "outputId": "797579b8-36d0-410b-bf3a-b1143377653a"
      },
      "source": [
        "df_rj1"
      ],
      "execution_count": null,
      "outputs": [
        {
          "output_type": "execute_result",
          "data": {
            "text/html": [
              "<div>\n",
              "<style scoped>\n",
              "    .dataframe tbody tr th:only-of-type {\n",
              "        vertical-align: middle;\n",
              "    }\n",
              "\n",
              "    .dataframe tbody tr th {\n",
              "        vertical-align: top;\n",
              "    }\n",
              "\n",
              "    .dataframe thead th {\n",
              "        text-align: right;\n",
              "    }\n",
              "</style>\n",
              "<table border=\"1\" class=\"dataframe\">\n",
              "  <thead>\n",
              "    <tr style=\"text-align: right;\">\n",
              "      <th></th>\n",
              "      <th>Wind Speed</th>\n",
              "    </tr>\n",
              "  </thead>\n",
              "  <tbody>\n",
              "    <tr>\n",
              "      <th>0</th>\n",
              "      <td>2.933092</td>\n",
              "    </tr>\n",
              "    <tr>\n",
              "      <th>1</th>\n",
              "      <td>2.766003</td>\n",
              "    </tr>\n",
              "    <tr>\n",
              "      <th>2</th>\n",
              "      <td>2.683979</td>\n",
              "    </tr>\n",
              "    <tr>\n",
              "      <th>3</th>\n",
              "      <td>2.736255</td>\n",
              "    </tr>\n",
              "    <tr>\n",
              "      <th>4</th>\n",
              "      <td>2.464121</td>\n",
              "    </tr>\n",
              "    <tr>\n",
              "      <th>...</th>\n",
              "      <td>...</td>\n",
              "    </tr>\n",
              "    <tr>\n",
              "      <th>777</th>\n",
              "      <td>2.489588</td>\n",
              "    </tr>\n",
              "    <tr>\n",
              "      <th>778</th>\n",
              "      <td>2.355418</td>\n",
              "    </tr>\n",
              "    <tr>\n",
              "      <th>779</th>\n",
              "      <td>2.305836</td>\n",
              "    </tr>\n",
              "    <tr>\n",
              "      <th>780</th>\n",
              "      <td>2.372696</td>\n",
              "    </tr>\n",
              "    <tr>\n",
              "      <th>781</th>\n",
              "      <td>2.425842</td>\n",
              "    </tr>\n",
              "  </tbody>\n",
              "</table>\n",
              "<p>782 rows × 1 columns</p>\n",
              "</div>"
            ],
            "text/plain": [
              "     Wind Speed\n",
              "0      2.933092\n",
              "1      2.766003\n",
              "2      2.683979\n",
              "3      2.736255\n",
              "4      2.464121\n",
              "..          ...\n",
              "777    2.489588\n",
              "778    2.355418\n",
              "779    2.305836\n",
              "780    2.372696\n",
              "781    2.425842\n",
              "\n",
              "[782 rows x 1 columns]"
            ]
          },
          "metadata": {},
          "execution_count": 12
        }
      ]
    },
    {
      "cell_type": "code",
      "metadata": {
        "id": "K4rfZH0i02kI"
      },
      "source": [
        "df_rj1_train=df_rj1[0:520]\n",
        "df_rj1_test=df_rj1[520:]"
      ],
      "execution_count": null,
      "outputs": []
    },
    {
      "cell_type": "code",
      "metadata": {
        "id": "P4YEimCk02kL"
      },
      "source": [
        "X, y = split_sequence(df_rj1_train, n_steps)"
      ],
      "execution_count": null,
      "outputs": []
    },
    {
      "cell_type": "code",
      "metadata": {
        "colab": {
          "base_uri": "https://localhost:8080/"
        },
        "id": "9KNozVhI-cJw",
        "outputId": "9be93b1c-f498-4c7f-b563-705945c282cf"
      },
      "source": [
        "X.shape"
      ],
      "execution_count": null,
      "outputs": [
        {
          "output_type": "execute_result",
          "data": {
            "text/plain": [
              "(516, 4, 1)"
            ]
          },
          "metadata": {},
          "execution_count": 36
        }
      ]
    },
    {
      "cell_type": "code",
      "metadata": {
        "colab": {
          "base_uri": "https://localhost:8080/"
        },
        "id": "VA1kCoN802kP",
        "outputId": "ffd45065-06ec-4cc3-f818-d9cd335bf280"
      },
      "source": [
        "# reshape from [samples, timesteps] into [samples, timesteps, features]\n",
        "n_features = 1\n",
        "X = X.reshape((X.shape[0], X.shape[1], n_features))\n",
        "# define model\n",
        "model = Sequential()\n",
        "model.add(LSTM(50, activation='relu', return_sequences=True, input_shape=(n_steps, n_features)))\n",
        "model.add(LSTM(50, activation='relu'))\n",
        "model.add(Dense(1))\n",
        "model.compile(optimizer='adam', loss='mse')\n",
        "# fit model\n",
        "model.fit(X, y, epochs=100, verbose=1)"
      ],
      "execution_count": null,
      "outputs": [
        {
          "output_type": "stream",
          "name": "stdout",
          "text": [
            "Epoch 1/100\n",
            "17/17 [==============================] - 2s 6ms/step - loss: 8.3863\n",
            "Epoch 2/100\n",
            "17/17 [==============================] - 0s 6ms/step - loss: 4.6686\n",
            "Epoch 3/100\n",
            "17/17 [==============================] - 0s 6ms/step - loss: 1.1204\n",
            "Epoch 4/100\n",
            "17/17 [==============================] - 0s 6ms/step - loss: 0.6946\n",
            "Epoch 5/100\n",
            "17/17 [==============================] - 0s 6ms/step - loss: 0.4643\n",
            "Epoch 6/100\n",
            "17/17 [==============================] - 0s 6ms/step - loss: 0.3407\n",
            "Epoch 7/100\n",
            "17/17 [==============================] - 0s 7ms/step - loss: 0.2668\n",
            "Epoch 8/100\n",
            "17/17 [==============================] - 0s 7ms/step - loss: 0.2229\n",
            "Epoch 9/100\n",
            "17/17 [==============================] - 0s 8ms/step - loss: 0.2088\n",
            "Epoch 10/100\n",
            "17/17 [==============================] - 0s 8ms/step - loss: 0.2072\n",
            "Epoch 11/100\n",
            "17/17 [==============================] - 0s 6ms/step - loss: 0.2059\n",
            "Epoch 12/100\n",
            "17/17 [==============================] - 0s 6ms/step - loss: 0.2049\n",
            "Epoch 13/100\n",
            "17/17 [==============================] - 0s 6ms/step - loss: 0.2016\n",
            "Epoch 14/100\n",
            "17/17 [==============================] - 0s 6ms/step - loss: 0.1958\n",
            "Epoch 15/100\n",
            "17/17 [==============================] - 0s 6ms/step - loss: 0.1880\n",
            "Epoch 16/100\n",
            "17/17 [==============================] - 0s 6ms/step - loss: 0.1840\n",
            "Epoch 17/100\n",
            "17/17 [==============================] - 0s 6ms/step - loss: 0.1770\n",
            "Epoch 18/100\n",
            "17/17 [==============================] - 0s 6ms/step - loss: 0.1880\n",
            "Epoch 19/100\n",
            "17/17 [==============================] - 0s 7ms/step - loss: 0.1709\n",
            "Epoch 20/100\n",
            "17/17 [==============================] - 0s 8ms/step - loss: 0.1671\n",
            "Epoch 21/100\n",
            "17/17 [==============================] - 0s 8ms/step - loss: 0.1596\n",
            "Epoch 22/100\n",
            "17/17 [==============================] - 0s 8ms/step - loss: 0.1616\n",
            "Epoch 23/100\n",
            "17/17 [==============================] - 0s 8ms/step - loss: 0.1467\n",
            "Epoch 24/100\n",
            "17/17 [==============================] - 0s 6ms/step - loss: 0.1439\n",
            "Epoch 25/100\n",
            "17/17 [==============================] - 0s 6ms/step - loss: 0.1378\n",
            "Epoch 26/100\n",
            "17/17 [==============================] - 0s 6ms/step - loss: 0.1294\n",
            "Epoch 27/100\n",
            "17/17 [==============================] - 0s 6ms/step - loss: 0.1275\n",
            "Epoch 28/100\n",
            "17/17 [==============================] - 0s 6ms/step - loss: 0.1266\n",
            "Epoch 29/100\n",
            "17/17 [==============================] - 0s 8ms/step - loss: 0.1189\n",
            "Epoch 30/100\n",
            "17/17 [==============================] - 0s 7ms/step - loss: 0.1186\n",
            "Epoch 31/100\n",
            "17/17 [==============================] - 0s 7ms/step - loss: 0.1186\n",
            "Epoch 32/100\n",
            "17/17 [==============================] - 0s 7ms/step - loss: 0.1063\n",
            "Epoch 33/100\n",
            "17/17 [==============================] - 0s 6ms/step - loss: 0.1001\n",
            "Epoch 34/100\n",
            "17/17 [==============================] - 0s 6ms/step - loss: 0.1028\n",
            "Epoch 35/100\n",
            "17/17 [==============================] - 0s 6ms/step - loss: 0.0952\n",
            "Epoch 36/100\n",
            "17/17 [==============================] - 0s 6ms/step - loss: 0.0915\n",
            "Epoch 37/100\n",
            "17/17 [==============================] - 0s 6ms/step - loss: 0.0963\n",
            "Epoch 38/100\n",
            "17/17 [==============================] - 0s 6ms/step - loss: 0.0946\n",
            "Epoch 39/100\n",
            "17/17 [==============================] - 0s 6ms/step - loss: 0.1056\n",
            "Epoch 40/100\n",
            "17/17 [==============================] - 0s 7ms/step - loss: 0.0906\n",
            "Epoch 41/100\n",
            "17/17 [==============================] - 0s 6ms/step - loss: 0.1001\n",
            "Epoch 42/100\n",
            "17/17 [==============================] - 0s 7ms/step - loss: 0.0852\n",
            "Epoch 43/100\n",
            "17/17 [==============================] - 0s 8ms/step - loss: 0.0858\n",
            "Epoch 44/100\n",
            "17/17 [==============================] - 0s 7ms/step - loss: 0.0957\n",
            "Epoch 45/100\n",
            "17/17 [==============================] - 0s 8ms/step - loss: 0.0926\n",
            "Epoch 46/100\n",
            "17/17 [==============================] - 0s 7ms/step - loss: 0.0832\n",
            "Epoch 47/100\n",
            "17/17 [==============================] - 0s 7ms/step - loss: 0.0833\n",
            "Epoch 48/100\n",
            "17/17 [==============================] - 0s 7ms/step - loss: 0.0823\n",
            "Epoch 49/100\n",
            "17/17 [==============================] - 0s 9ms/step - loss: 0.0880\n",
            "Epoch 50/100\n",
            "17/17 [==============================] - 0s 7ms/step - loss: 0.0825\n",
            "Epoch 51/100\n",
            "17/17 [==============================] - 0s 6ms/step - loss: 0.0795\n",
            "Epoch 52/100\n",
            "17/17 [==============================] - 0s 6ms/step - loss: 0.0916\n",
            "Epoch 53/100\n",
            "17/17 [==============================] - 0s 6ms/step - loss: 0.1029\n",
            "Epoch 54/100\n",
            "17/17 [==============================] - 0s 6ms/step - loss: 0.0975\n",
            "Epoch 55/100\n",
            "17/17 [==============================] - 0s 6ms/step - loss: 0.0903\n",
            "Epoch 56/100\n",
            "17/17 [==============================] - 0s 8ms/step - loss: 0.0776\n",
            "Epoch 57/100\n",
            "17/17 [==============================] - 0s 9ms/step - loss: 0.0766\n",
            "Epoch 58/100\n",
            "17/17 [==============================] - 0s 7ms/step - loss: 0.0823\n",
            "Epoch 59/100\n",
            "17/17 [==============================] - 0s 7ms/step - loss: 0.0798\n",
            "Epoch 60/100\n",
            "17/17 [==============================] - 0s 7ms/step - loss: 0.0768\n",
            "Epoch 61/100\n",
            "17/17 [==============================] - 0s 7ms/step - loss: 0.0752\n",
            "Epoch 62/100\n",
            "17/17 [==============================] - 0s 6ms/step - loss: 0.0766\n",
            "Epoch 63/100\n",
            "17/17 [==============================] - 0s 7ms/step - loss: 0.0908\n",
            "Epoch 64/100\n",
            "17/17 [==============================] - 0s 7ms/step - loss: 0.0821\n",
            "Epoch 65/100\n",
            "17/17 [==============================] - 0s 8ms/step - loss: 0.0750\n",
            "Epoch 66/100\n",
            "17/17 [==============================] - 0s 6ms/step - loss: 0.0775\n",
            "Epoch 67/100\n",
            "17/17 [==============================] - 0s 6ms/step - loss: 0.0738\n",
            "Epoch 68/100\n",
            "17/17 [==============================] - 0s 6ms/step - loss: 0.0848\n",
            "Epoch 69/100\n",
            "17/17 [==============================] - 0s 6ms/step - loss: 0.0822\n",
            "Epoch 70/100\n",
            "17/17 [==============================] - 0s 7ms/step - loss: 0.0719\n",
            "Epoch 71/100\n",
            "17/17 [==============================] - 0s 6ms/step - loss: 0.0693\n",
            "Epoch 72/100\n",
            "17/17 [==============================] - 0s 7ms/step - loss: 0.0688\n",
            "Epoch 73/100\n",
            "17/17 [==============================] - 0s 7ms/step - loss: 0.0673\n",
            "Epoch 74/100\n",
            "17/17 [==============================] - 0s 8ms/step - loss: 0.0750\n",
            "Epoch 75/100\n",
            "17/17 [==============================] - 0s 8ms/step - loss: 0.0702\n",
            "Epoch 76/100\n",
            "17/17 [==============================] - 0s 8ms/step - loss: 0.0745\n",
            "Epoch 77/100\n",
            "17/17 [==============================] - 0s 6ms/step - loss: 0.0674\n",
            "Epoch 78/100\n",
            "17/17 [==============================] - 0s 6ms/step - loss: 0.0751\n",
            "Epoch 79/100\n",
            "17/17 [==============================] - 0s 6ms/step - loss: 0.0646\n",
            "Epoch 80/100\n",
            "17/17 [==============================] - 0s 6ms/step - loss: 0.0737\n",
            "Epoch 81/100\n",
            "17/17 [==============================] - 0s 7ms/step - loss: 0.0673\n",
            "Epoch 82/100\n",
            "17/17 [==============================] - 0s 6ms/step - loss: 0.0614\n",
            "Epoch 83/100\n",
            "17/17 [==============================] - 0s 6ms/step - loss: 0.0618\n",
            "Epoch 84/100\n",
            "17/17 [==============================] - 0s 6ms/step - loss: 0.0616\n",
            "Epoch 85/100\n",
            "17/17 [==============================] - 0s 6ms/step - loss: 0.0591\n",
            "Epoch 86/100\n",
            "17/17 [==============================] - 0s 6ms/step - loss: 0.0632\n",
            "Epoch 87/100\n",
            "17/17 [==============================] - 0s 7ms/step - loss: 0.0573\n",
            "Epoch 88/100\n",
            "17/17 [==============================] - 0s 6ms/step - loss: 0.0705\n",
            "Epoch 89/100\n",
            "17/17 [==============================] - 0s 6ms/step - loss: 0.0586\n",
            "Epoch 90/100\n",
            "17/17 [==============================] - 0s 6ms/step - loss: 0.0614\n",
            "Epoch 91/100\n",
            "17/17 [==============================] - 0s 8ms/step - loss: 0.0586\n",
            "Epoch 92/100\n",
            "17/17 [==============================] - 0s 7ms/step - loss: 0.0701\n",
            "Epoch 93/100\n",
            "17/17 [==============================] - 0s 6ms/step - loss: 0.0565\n",
            "Epoch 94/100\n",
            "17/17 [==============================] - 0s 7ms/step - loss: 0.0557\n",
            "Epoch 95/100\n",
            "17/17 [==============================] - 0s 6ms/step - loss: 0.0574\n",
            "Epoch 96/100\n",
            "17/17 [==============================] - 0s 6ms/step - loss: 0.0525\n",
            "Epoch 97/100\n",
            "17/17 [==============================] - 0s 6ms/step - loss: 0.0508\n",
            "Epoch 98/100\n",
            "17/17 [==============================] - 0s 7ms/step - loss: 0.0569\n",
            "Epoch 99/100\n",
            "17/17 [==============================] - 0s 6ms/step - loss: 0.0605\n",
            "Epoch 100/100\n",
            "17/17 [==============================] - 0s 7ms/step - loss: 0.0542\n"
          ]
        },
        {
          "output_type": "execute_result",
          "data": {
            "text/plain": [
              "<keras.callbacks.History at 0x7f88bb95e490>"
            ]
          },
          "metadata": {},
          "execution_count": 37
        }
      ]
    },
    {
      "cell_type": "code",
      "metadata": {
        "id": "6J2Civvm02kW"
      },
      "source": [
        "def get_metrics(X,y):\n",
        "  size=X.shape[0]\n",
        "  mse=0.0\n",
        "  mae=0.0\n",
        "  mape=0.0\n",
        "  for i in range(size):\n",
        "    yhat = model.predict(X[i].reshape((1, n_steps, n_features)),verbose=0)\n",
        "    mse+=(yhat-y[i])*(yhat-y[i])\n",
        "    mae+=abs((yhat-y[i]))\n",
        "    mape+=abs((y[i]-yhat)/y[i])\n",
        "  \n",
        "  mse=mse/size\n",
        "  mae=mae/size\n",
        "  mape=mape/size\n",
        "  print(\"MSE= \",mse)\n",
        "  print(\"MAPE= \",mae)\n",
        "  print(\"MAPE= \",mape)"
      ],
      "execution_count": null,
      "outputs": []
    },
    {
      "cell_type": "code",
      "metadata": {
        "colab": {
          "base_uri": "https://localhost:8080/"
        },
        "id": "dgab4jyr3Kws",
        "outputId": "189e134b-0962-4e48-cca1-08f5cd863d6d"
      },
      "source": [
        "get_metrics(X,y)"
      ],
      "execution_count": null,
      "outputs": [
        {
          "output_type": "stream",
          "name": "stdout",
          "text": [
            "MSE=  [[0.05537127]]\n",
            "MAPE=  [[0.19131828]]\n",
            "MAPE=  [[0.07102837]]\n"
          ]
        }
      ]
    },
    {
      "cell_type": "code",
      "metadata": {
        "colab": {
          "base_uri": "https://localhost:8080/"
        },
        "id": "gDVDHHLbBMw0",
        "outputId": "4eaac10c-4f16-4bd5-de2a-d37249cfebeb"
      },
      "source": [
        "print(len(x))\n",
        "print(y.shape)"
      ],
      "execution_count": null,
      "outputs": [
        {
          "output_type": "stream",
          "name": "stdout",
          "text": [
            "782\n",
            "(516, 1)\n"
          ]
        }
      ]
    },
    {
      "cell_type": "code",
      "metadata": {
        "id": "GCVX5M_zB7uq"
      },
      "source": [
        "size=X.shape[0]\n",
        "yhat=np.zeros(size)\n",
        "for i in range(size):\n",
        "  yhat[i]=(model.predict(X[i].reshape((1, n_steps, n_features)),verbose=0))"
      ],
      "execution_count": null,
      "outputs": []
    },
    {
      "cell_type": "code",
      "metadata": {
        "colab": {
          "base_uri": "https://localhost:8080/"
        },
        "id": "XGTiCDyECZlI",
        "outputId": "9dec3ed2-4efa-44d2-d928-18d3a2caee18"
      },
      "source": [
        "print(yhat[0].shape)"
      ],
      "execution_count": null,
      "outputs": [
        {
          "output_type": "stream",
          "name": "stdout",
          "text": [
            "(1, 1)\n"
          ]
        }
      ]
    },
    {
      "cell_type": "code",
      "metadata": {
        "colab": {
          "base_uri": "https://localhost:8080/"
        },
        "id": "TxpLJsYmDQ-Y",
        "outputId": "bd1a07a8-d4ac-4936-bded-115b93ccec1e"
      },
      "source": [
        "yhat.shape"
      ],
      "execution_count": null,
      "outputs": [
        {
          "output_type": "execute_result",
          "data": {
            "text/plain": [
              "(516,)"
            ]
          },
          "metadata": {},
          "execution_count": 59
        }
      ]
    },
    {
      "cell_type": "code",
      "metadata": {
        "colab": {
          "base_uri": "https://localhost:8080/",
          "height": 497
        },
        "id": "TnzOiss8Ab1i",
        "outputId": "e81526ad-791a-40c2-b113-0f0be1306f68"
      },
      "source": [
        "# x axis values\n",
        "x = list(range(516))\n",
        "plt.figure(figsize=(15, 8))\n",
        "plt.plot(x, y,label='Actual')\n",
        "\n",
        "plt.xlabel('Week')\n",
        "plt.ylabel('Wind Speed')\n",
        "\n",
        "plt.plot(x,yhat,label='Predicted')\n",
        "plt.legend(loc=\"upper right\")\n",
        "from matplotlib.pyplot import figure\n",
        "\n",
        "\n",
        "plt.show()"
      ],
      "execution_count": null,
      "outputs": [
        {
          "output_type": "display_data",
          "data": {
            "image/png": "[encoded data removed]",
            "text/plain": [
              "<Figure size 1080x576 with 1 Axes>"
            ]
          },
          "metadata": {
            "needs_background": "light"
          }
        }
      ]
    },
    {
      "cell_type": "code",
      "metadata": {
        "id": "4RCQHKh13Kwt"
      },
      "source": [
        "X, y = split_sequence(df_rj1_test, n_steps)"
      ],
      "execution_count": null,
      "outputs": []
    },
    {
      "cell_type": "code",
      "metadata": {
        "colab": {
          "base_uri": "https://localhost:8080/"
        },
        "id": "HGPUH0Eu3Kwt",
        "outputId": "6012391c-076f-4056-b285-774c919fb2cb"
      },
      "source": [
        "get_metrics(X,y)"
      ],
      "execution_count": null,
      "outputs": [
        {
          "output_type": "stream",
          "name": "stdout",
          "text": [
            "MSE=  [[0.01908849]]\n",
            "MAPE=  [[0.10774211]]\n",
            "MAPE=  [[0.03934306]]\n"
          ]
        }
      ]
    },
    {
      "cell_type": "code",
      "metadata": {
        "colab": {
          "base_uri": "https://localhost:8080/"
        },
        "id": "_lHiW5fc3Kwv",
        "outputId": "52c37435-e7d6-4062-84f9-a43919c1bba3"
      },
      "source": [
        "print(X[1],y[1])\n",
        "print(model.predict(X[1].reshape((1, n_steps, n_features)),verbose=0))"
      ],
      "execution_count": null,
      "outputs": [
        {
          "output_type": "stream",
          "name": "stdout",
          "text": [
            "[[4.9259159 ]\n",
            " [4.57050451]\n",
            " [4.2170311 ]\n",
            " [4.06206466]] [3.89500374]\n",
            "[[3.9524944]]\n"
          ]
        }
      ]
    },
    {
      "cell_type": "code",
      "metadata": {
        "id": "yfUXpBNc02kZ"
      },
      "source": [
        "import matplotlib.pyplot as plt"
      ],
      "execution_count": null,
      "outputs": []
    },
    {
      "cell_type": "markdown",
      "metadata": {
        "id": "K5G616_O3VME"
      },
      "source": [
        "For Rajasthan2"
      ]
    },
    {
      "cell_type": "code",
      "metadata": {
        "id": "RhEeEavLFk9q"
      },
      "source": [
        "df=pd.read_csv('Rajasthan2.csv')"
      ],
      "execution_count": null,
      "outputs": []
    },
    {
      "cell_type": "code",
      "metadata": {
        "id": "MTyv3l2uFk9t"
      },
      "source": [
        "del df['Unnamed: 0']"
      ],
      "execution_count": null,
      "outputs": []
    },
    {
      "cell_type": "code",
      "metadata": {
        "colab": {
          "base_uri": "https://localhost:8080/",
          "height": 424
        },
        "id": "yiydnxZCFk9v",
        "outputId": "3fd5716e-f694-434d-cdd6-53388863af78"
      },
      "source": [
        "df"
      ],
      "execution_count": null,
      "outputs": [
        {
          "output_type": "execute_result",
          "data": {
            "text/html": [
              "<div>\n",
              "<style scoped>\n",
              "    .dataframe tbody tr th:only-of-type {\n",
              "        vertical-align: middle;\n",
              "    }\n",
              "\n",
              "    .dataframe tbody tr th {\n",
              "        vertical-align: top;\n",
              "    }\n",
              "\n",
              "    .dataframe thead th {\n",
              "        text-align: right;\n",
              "    }\n",
              "</style>\n",
              "<table border=\"1\" class=\"dataframe\">\n",
              "  <thead>\n",
              "    <tr style=\"text-align: right;\">\n",
              "      <th></th>\n",
              "      <th>Wind Speed</th>\n",
              "    </tr>\n",
              "  </thead>\n",
              "  <tbody>\n",
              "    <tr>\n",
              "      <th>0</th>\n",
              "      <td>2.981399</td>\n",
              "    </tr>\n",
              "    <tr>\n",
              "      <th>1</th>\n",
              "      <td>3.200646</td>\n",
              "    </tr>\n",
              "    <tr>\n",
              "      <th>2</th>\n",
              "      <td>3.281240</td>\n",
              "    </tr>\n",
              "    <tr>\n",
              "      <th>3</th>\n",
              "      <td>3.219543</td>\n",
              "    </tr>\n",
              "    <tr>\n",
              "      <th>4</th>\n",
              "      <td>2.868555</td>\n",
              "    </tr>\n",
              "    <tr>\n",
              "      <th>...</th>\n",
              "      <td>...</td>\n",
              "    </tr>\n",
              "    <tr>\n",
              "      <th>5470</th>\n",
              "      <td>2.482506</td>\n",
              "    </tr>\n",
              "    <tr>\n",
              "      <th>5471</th>\n",
              "      <td>1.691885</td>\n",
              "    </tr>\n",
              "    <tr>\n",
              "      <th>5472</th>\n",
              "      <td>1.598947</td>\n",
              "    </tr>\n",
              "    <tr>\n",
              "      <th>5473</th>\n",
              "      <td>1.365050</td>\n",
              "    </tr>\n",
              "    <tr>\n",
              "      <th>5474</th>\n",
              "      <td>3.393304</td>\n",
              "    </tr>\n",
              "  </tbody>\n",
              "</table>\n",
              "<p>5475 rows × 1 columns</p>\n",
              "</div>"
            ],
            "text/plain": [
              "      Wind Speed\n",
              "0       2.981399\n",
              "1       3.200646\n",
              "2       3.281240\n",
              "3       3.219543\n",
              "4       2.868555\n",
              "...          ...\n",
              "5470    2.482506\n",
              "5471    1.691885\n",
              "5472    1.598947\n",
              "5473    1.365050\n",
              "5474    3.393304\n",
              "\n",
              "[5475 rows x 1 columns]"
            ]
          },
          "metadata": {},
          "execution_count": 75
        }
      ]
    },
    {
      "cell_type": "code",
      "metadata": {
        "id": "p7zvO8_MFk9y"
      },
      "source": [
        "df_rj1=pd.DataFrame(columns=['Wind Speed'])"
      ],
      "execution_count": null,
      "outputs": []
    },
    {
      "cell_type": "code",
      "metadata": {
        "id": "RufFLB79Fk9z"
      },
      "source": [
        "for i in range(int(len(df)/7)):\n",
        "  sum=0.0\n",
        "  for j in range(7):\n",
        "    if j>int(len(df)):\n",
        "      break\n",
        "    sum+=df['Wind Speed'].iloc[i+j]\n",
        "  sum=sum/7\n",
        "  df_rj1=df_rj1.append({'Wind Speed': sum}, ignore_index=True)"
      ],
      "execution_count": null,
      "outputs": []
    },
    {
      "cell_type": "code",
      "metadata": {
        "colab": {
          "base_uri": "https://localhost:8080/",
          "height": 424
        },
        "id": "XmshjOU-Fk91",
        "outputId": "ec7ce1cf-5e71-46f1-e924-dd15f1af09a8"
      },
      "source": [
        "df_rj1"
      ],
      "execution_count": null,
      "outputs": [
        {
          "output_type": "execute_result",
          "data": {
            "text/html": [
              "<div>\n",
              "<style scoped>\n",
              "    .dataframe tbody tr th:only-of-type {\n",
              "        vertical-align: middle;\n",
              "    }\n",
              "\n",
              "    .dataframe tbody tr th {\n",
              "        vertical-align: top;\n",
              "    }\n",
              "\n",
              "    .dataframe thead th {\n",
              "        text-align: right;\n",
              "    }\n",
              "</style>\n",
              "<table border=\"1\" class=\"dataframe\">\n",
              "  <thead>\n",
              "    <tr style=\"text-align: right;\">\n",
              "      <th></th>\n",
              "      <th>Wind Speed</th>\n",
              "    </tr>\n",
              "  </thead>\n",
              "  <tbody>\n",
              "    <tr>\n",
              "      <th>0</th>\n",
              "      <td>2.898174</td>\n",
              "    </tr>\n",
              "    <tr>\n",
              "      <th>1</th>\n",
              "      <td>2.692179</td>\n",
              "    </tr>\n",
              "    <tr>\n",
              "      <th>2</th>\n",
              "      <td>2.528197</td>\n",
              "    </tr>\n",
              "    <tr>\n",
              "      <th>3</th>\n",
              "      <td>2.433620</td>\n",
              "    </tr>\n",
              "    <tr>\n",
              "      <th>4</th>\n",
              "      <td>2.409127</td>\n",
              "    </tr>\n",
              "    <tr>\n",
              "      <th>...</th>\n",
              "      <td>...</td>\n",
              "    </tr>\n",
              "    <tr>\n",
              "      <th>777</th>\n",
              "      <td>2.799798</td>\n",
              "    </tr>\n",
              "    <tr>\n",
              "      <th>778</th>\n",
              "      <td>2.784766</td>\n",
              "    </tr>\n",
              "    <tr>\n",
              "      <th>779</th>\n",
              "      <td>2.799074</td>\n",
              "    </tr>\n",
              "    <tr>\n",
              "      <th>780</th>\n",
              "      <td>2.619620</td>\n",
              "    </tr>\n",
              "    <tr>\n",
              "      <th>781</th>\n",
              "      <td>2.404060</td>\n",
              "    </tr>\n",
              "  </tbody>\n",
              "</table>\n",
              "<p>782 rows × 1 columns</p>\n",
              "</div>"
            ],
            "text/plain": [
              "     Wind Speed\n",
              "0      2.898174\n",
              "1      2.692179\n",
              "2      2.528197\n",
              "3      2.433620\n",
              "4      2.409127\n",
              "..          ...\n",
              "777    2.799798\n",
              "778    2.784766\n",
              "779    2.799074\n",
              "780    2.619620\n",
              "781    2.404060\n",
              "\n",
              "[782 rows x 1 columns]"
            ]
          },
          "metadata": {},
          "execution_count": 78
        }
      ]
    },
    {
      "cell_type": "code",
      "metadata": {
        "id": "zJ_IZ5YoFk92"
      },
      "source": [
        "df_rj1_train=df_rj1[0:520]\n",
        "df_rj1_test=df_rj1[520:]"
      ],
      "execution_count": null,
      "outputs": []
    },
    {
      "cell_type": "code",
      "metadata": {
        "id": "KhSWdw64Fk93"
      },
      "source": [
        "X, y = split_sequence(df_rj1_train, n_steps)"
      ],
      "execution_count": null,
      "outputs": []
    },
    {
      "cell_type": "code",
      "metadata": {
        "colab": {
          "base_uri": "https://localhost:8080/"
        },
        "id": "kYlxdh0PFk95",
        "outputId": "a0f303cc-5e7f-44f3-c6ff-31cd4ba21b17"
      },
      "source": [
        "X.shape"
      ],
      "execution_count": null,
      "outputs": [
        {
          "output_type": "execute_result",
          "data": {
            "text/plain": [
              "(516, 4, 1)"
            ]
          },
          "metadata": {},
          "execution_count": 81
        }
      ]
    },
    {
      "cell_type": "code",
      "metadata": {
        "colab": {
          "base_uri": "https://localhost:8080/"
        },
        "id": "KJ7YaMOlFk97",
        "outputId": "07afa195-e988-46fd-aba5-92fda014055f"
      },
      "source": [
        "# reshape from [samples, timesteps] into [samples, timesteps, features]\n",
        "n_features = 1\n",
        "X = X.reshape((X.shape[0], X.shape[1], n_features))\n",
        "# define model\n",
        "model = Sequential()\n",
        "model.add(LSTM(50, activation='relu', return_sequences=True, input_shape=(n_steps, n_features)))\n",
        "model.add(LSTM(50, activation='relu'))\n",
        "model.add(Dense(1))\n",
        "model.compile(optimizer='adam', loss='mse')\n",
        "# fit model\n",
        "model.fit(X, y, epochs=100, verbose=1)"
      ],
      "execution_count": null,
      "outputs": [
        {
          "output_type": "stream",
          "name": "stdout",
          "text": [
            "Epoch 1/100\n",
            "17/17 [==============================] - 2s 7ms/step - loss: 7.0353\n",
            "Epoch 2/100\n",
            "17/17 [==============================] - 0s 6ms/step - loss: 5.3680\n",
            "Epoch 3/100\n",
            "17/17 [==============================] - 0s 7ms/step - loss: 1.7212\n",
            "Epoch 4/100\n",
            "17/17 [==============================] - 0s 6ms/step - loss: 0.7058\n",
            "Epoch 5/100\n",
            "17/17 [==============================] - 0s 6ms/step - loss: 0.5426\n",
            "Epoch 6/100\n",
            "17/17 [==============================] - 0s 6ms/step - loss: 0.3975\n",
            "Epoch 7/100\n",
            "17/17 [==============================] - 0s 7ms/step - loss: 0.2743\n",
            "Epoch 8/100\n",
            "17/17 [==============================] - 0s 7ms/step - loss: 0.1842\n",
            "Epoch 9/100\n",
            "17/17 [==============================] - 0s 6ms/step - loss: 0.1272\n",
            "Epoch 10/100\n",
            "17/17 [==============================] - 0s 6ms/step - loss: 0.1125\n",
            "Epoch 11/100\n",
            "17/17 [==============================] - 0s 6ms/step - loss: 0.1175\n",
            "Epoch 12/100\n",
            "17/17 [==============================] - 0s 7ms/step - loss: 0.1357\n",
            "Epoch 13/100\n",
            "17/17 [==============================] - 0s 8ms/step - loss: 0.1070\n",
            "Epoch 14/100\n",
            "17/17 [==============================] - 0s 6ms/step - loss: 0.1060\n",
            "Epoch 15/100\n",
            "17/17 [==============================] - 0s 6ms/step - loss: 0.1028\n",
            "Epoch 16/100\n",
            "17/17 [==============================] - 0s 8ms/step - loss: 0.1021\n",
            "Epoch 17/100\n",
            "17/17 [==============================] - 0s 7ms/step - loss: 0.1033\n",
            "Epoch 18/100\n",
            "17/17 [==============================] - 0s 6ms/step - loss: 0.0978\n",
            "Epoch 19/100\n",
            "17/17 [==============================] - 0s 6ms/step - loss: 0.0964\n",
            "Epoch 20/100\n",
            "17/17 [==============================] - 0s 7ms/step - loss: 0.0940\n",
            "Epoch 21/100\n",
            "17/17 [==============================] - 0s 7ms/step - loss: 0.0937\n",
            "Epoch 22/100\n",
            "17/17 [==============================] - 0s 6ms/step - loss: 0.0888\n",
            "Epoch 23/100\n",
            "17/17 [==============================] - 0s 6ms/step - loss: 0.0846\n",
            "Epoch 24/100\n",
            "17/17 [==============================] - 0s 7ms/step - loss: 0.0808\n",
            "Epoch 25/100\n",
            "17/17 [==============================] - 0s 7ms/step - loss: 0.0766\n",
            "Epoch 26/100\n",
            "17/17 [==============================] - 0s 7ms/step - loss: 0.0750\n",
            "Epoch 27/100\n",
            "17/17 [==============================] - 0s 7ms/step - loss: 0.0715\n",
            "Epoch 28/100\n",
            "17/17 [==============================] - 0s 8ms/step - loss: 0.0697\n",
            "Epoch 29/100\n",
            "17/17 [==============================] - 0s 8ms/step - loss: 0.0616\n",
            "Epoch 30/100\n",
            "17/17 [==============================] - 0s 8ms/step - loss: 0.0751\n",
            "Epoch 31/100\n",
            "17/17 [==============================] - 0s 6ms/step - loss: 0.0606\n",
            "Epoch 32/100\n",
            "17/17 [==============================] - 0s 7ms/step - loss: 0.0623\n",
            "Epoch 33/100\n",
            "17/17 [==============================] - 0s 7ms/step - loss: 0.0610\n",
            "Epoch 34/100\n",
            "17/17 [==============================] - 0s 6ms/step - loss: 0.0581\n",
            "Epoch 35/100\n",
            "17/17 [==============================] - 0s 6ms/step - loss: 0.0508\n",
            "Epoch 36/100\n",
            "17/17 [==============================] - 0s 6ms/step - loss: 0.0528\n",
            "Epoch 37/100\n",
            "17/17 [==============================] - 0s 7ms/step - loss: 0.0475\n",
            "Epoch 38/100\n",
            "17/17 [==============================] - 0s 6ms/step - loss: 0.0523\n",
            "Epoch 39/100\n",
            "17/17 [==============================] - 0s 6ms/step - loss: 0.0512\n",
            "Epoch 40/100\n",
            "17/17 [==============================] - 0s 6ms/step - loss: 0.0457\n",
            "Epoch 41/100\n",
            "17/17 [==============================] - 0s 6ms/step - loss: 0.0618\n",
            "Epoch 42/100\n",
            "17/17 [==============================] - 0s 8ms/step - loss: 0.0461\n",
            "Epoch 43/100\n",
            "17/17 [==============================] - 0s 7ms/step - loss: 0.0443\n",
            "Epoch 44/100\n",
            "17/17 [==============================] - 0s 6ms/step - loss: 0.0501\n",
            "Epoch 45/100\n",
            "17/17 [==============================] - 0s 7ms/step - loss: 0.0502\n",
            "Epoch 46/100\n",
            "17/17 [==============================] - 0s 8ms/step - loss: 0.0460\n",
            "Epoch 47/100\n",
            "17/17 [==============================] - 0s 7ms/step - loss: 0.0496\n",
            "Epoch 48/100\n",
            "17/17 [==============================] - 0s 6ms/step - loss: 0.0637\n",
            "Epoch 49/100\n",
            "17/17 [==============================] - 0s 7ms/step - loss: 0.0454\n",
            "Epoch 50/100\n",
            "17/17 [==============================] - 0s 8ms/step - loss: 0.0419\n",
            "Epoch 51/100\n",
            "17/17 [==============================] - 0s 7ms/step - loss: 0.0464\n",
            "Epoch 52/100\n",
            "17/17 [==============================] - 0s 6ms/step - loss: 0.0443\n",
            "Epoch 53/100\n",
            "17/17 [==============================] - 0s 6ms/step - loss: 0.0504\n",
            "Epoch 54/100\n",
            "17/17 [==============================] - 0s 7ms/step - loss: 0.0422\n",
            "Epoch 55/100\n",
            "17/17 [==============================] - 0s 7ms/step - loss: 0.0458\n",
            "Epoch 56/100\n",
            "17/17 [==============================] - 0s 7ms/step - loss: 0.0465\n",
            "Epoch 57/100\n",
            "17/17 [==============================] - 0s 7ms/step - loss: 0.0466\n",
            "Epoch 58/100\n",
            "17/17 [==============================] - 0s 6ms/step - loss: 0.0437\n",
            "Epoch 59/100\n",
            "17/17 [==============================] - 0s 8ms/step - loss: 0.0411\n",
            "Epoch 60/100\n",
            "17/17 [==============================] - 0s 7ms/step - loss: 0.0414\n",
            "Epoch 61/100\n",
            "17/17 [==============================] - 0s 7ms/step - loss: 0.0467\n",
            "Epoch 62/100\n",
            "17/17 [==============================] - 0s 6ms/step - loss: 0.0430\n",
            "Epoch 63/100\n",
            "17/17 [==============================] - 0s 6ms/step - loss: 0.0410\n",
            "Epoch 64/100\n",
            "17/17 [==============================] - 0s 7ms/step - loss: 0.0402\n",
            "Epoch 65/100\n",
            "17/17 [==============================] - 0s 6ms/step - loss: 0.0520\n",
            "Epoch 66/100\n",
            "17/17 [==============================] - 0s 6ms/step - loss: 0.0476\n",
            "Epoch 67/100\n",
            "17/17 [==============================] - 0s 6ms/step - loss: 0.0452\n",
            "Epoch 68/100\n",
            "17/17 [==============================] - 0s 6ms/step - loss: 0.0408\n",
            "Epoch 69/100\n",
            "17/17 [==============================] - 0s 7ms/step - loss: 0.0458\n",
            "Epoch 70/100\n",
            "17/17 [==============================] - 0s 6ms/step - loss: 0.0414\n",
            "Epoch 71/100\n",
            "17/17 [==============================] - 0s 6ms/step - loss: 0.0460\n",
            "Epoch 72/100\n",
            "17/17 [==============================] - 0s 5ms/step - loss: 0.0415\n",
            "Epoch 73/100\n",
            "17/17 [==============================] - 0s 6ms/step - loss: 0.0417\n",
            "Epoch 74/100\n",
            "17/17 [==============================] - 0s 6ms/step - loss: 0.0394\n",
            "Epoch 75/100\n",
            "17/17 [==============================] - 0s 7ms/step - loss: 0.0407\n",
            "Epoch 76/100\n",
            "17/17 [==============================] - 0s 7ms/step - loss: 0.0410\n",
            "Epoch 77/100\n",
            "17/17 [==============================] - 0s 7ms/step - loss: 0.0392\n",
            "Epoch 78/100\n",
            "17/17 [==============================] - 0s 7ms/step - loss: 0.0427\n",
            "Epoch 79/100\n",
            "17/17 [==============================] - 0s 7ms/step - loss: 0.0400\n",
            "Epoch 80/100\n",
            "17/17 [==============================] - 0s 7ms/step - loss: 0.0443\n",
            "Epoch 81/100\n",
            "17/17 [==============================] - 0s 6ms/step - loss: 0.0424\n",
            "Epoch 82/100\n",
            "17/17 [==============================] - 0s 6ms/step - loss: 0.0400\n",
            "Epoch 83/100\n",
            "17/17 [==============================] - 0s 7ms/step - loss: 0.0389\n",
            "Epoch 84/100\n",
            "17/17 [==============================] - 0s 6ms/step - loss: 0.0386\n",
            "Epoch 85/100\n",
            "17/17 [==============================] - 0s 7ms/step - loss: 0.0452\n",
            "Epoch 86/100\n",
            "17/17 [==============================] - 0s 6ms/step - loss: 0.0375\n",
            "Epoch 87/100\n",
            "17/17 [==============================] - 0s 7ms/step - loss: 0.0366\n",
            "Epoch 88/100\n",
            "17/17 [==============================] - 0s 7ms/step - loss: 0.0396\n",
            "Epoch 89/100\n",
            "17/17 [==============================] - 0s 6ms/step - loss: 0.0403\n",
            "Epoch 90/100\n",
            "17/17 [==============================] - 0s 7ms/step - loss: 0.0410\n",
            "Epoch 91/100\n",
            "17/17 [==============================] - 0s 6ms/step - loss: 0.0490\n",
            "Epoch 92/100\n",
            "17/17 [==============================] - 0s 7ms/step - loss: 0.0604\n",
            "Epoch 93/100\n",
            "17/17 [==============================] - 0s 7ms/step - loss: 0.0434\n",
            "Epoch 94/100\n",
            "17/17 [==============================] - 0s 7ms/step - loss: 0.0362\n",
            "Epoch 95/100\n",
            "17/17 [==============================] - 0s 8ms/step - loss: 0.0364\n",
            "Epoch 96/100\n",
            "17/17 [==============================] - 0s 7ms/step - loss: 0.0386\n",
            "Epoch 97/100\n",
            "17/17 [==============================] - 0s 6ms/step - loss: 0.0453\n",
            "Epoch 98/100\n",
            "17/17 [==============================] - 0s 6ms/step - loss: 0.0359\n",
            "Epoch 99/100\n",
            "17/17 [==============================] - 0s 6ms/step - loss: 0.0388\n",
            "Epoch 100/100\n",
            "17/17 [==============================] - 0s 7ms/step - loss: 0.0370\n"
          ]
        },
        {
          "output_type": "execute_result",
          "data": {
            "text/plain": [
              "<keras.callbacks.History at 0x7f88bc1dce10>"
            ]
          },
          "metadata": {},
          "execution_count": 82
        }
      ]
    },
    {
      "cell_type": "code",
      "metadata": {
        "id": "7mkthhbmFk99"
      },
      "source": [
        "def get_metrics(X,y):\n",
        "  size=X.shape[0]\n",
        "  mse=0.0\n",
        "  mae=0.0\n",
        "  mape=0.0\n",
        "  for i in range(size):\n",
        "    yhat = model.predict(X[i].reshape((1, n_steps, n_features)),verbose=0)\n",
        "    mse+=(yhat-y[i])*(yhat-y[i])\n",
        "    mae+=abs((yhat-y[i]))\n",
        "    mape+=abs((y[i]-yhat)/y[i])\n",
        "  \n",
        "  mse=mse/size\n",
        "  mae=mae/size\n",
        "  mape=mape/size\n",
        "  print(\"MSE= \",mse)\n",
        "  print(\"MAPE= \",mae)\n",
        "  print(\"MAPE= \",mape)"
      ],
      "execution_count": null,
      "outputs": []
    },
    {
      "cell_type": "code",
      "metadata": {
        "colab": {
          "base_uri": "https://localhost:8080/"
        },
        "id": "M6p00osrFk9-",
        "outputId": "eeed7377-0569-4d7c-ffb7-3c22609a2e71"
      },
      "source": [
        "get_metrics(X,y)"
      ],
      "execution_count": null,
      "outputs": [
        {
          "output_type": "stream",
          "name": "stdout",
          "text": [
            "MSE=  [[0.03479665]]\n",
            "MAPE=  [[0.14717665]]\n",
            "MAPE=  [[0.0578114]]\n"
          ]
        }
      ]
    },
    {
      "cell_type": "code",
      "metadata": {
        "colab": {
          "base_uri": "https://localhost:8080/"
        },
        "id": "Km5lSAQGFk9_",
        "outputId": "e642d21d-53ac-4c4e-b640-2ee67ea94130"
      },
      "source": [
        "print(len(x))\n",
        "print(y.shape)"
      ],
      "execution_count": null,
      "outputs": [
        {
          "output_type": "stream",
          "name": "stdout",
          "text": [
            "516\n",
            "(516, 1)\n"
          ]
        }
      ]
    },
    {
      "cell_type": "code",
      "metadata": {
        "id": "eyLrLeAfFk-A"
      },
      "source": [
        "size=X.shape[0]\n",
        "yhat=np.zeros(size)\n",
        "for i in range(size):\n",
        "  yhat[i]=(model.predict(X[i].reshape((1, n_steps, n_features)),verbose=0))"
      ],
      "execution_count": null,
      "outputs": []
    },
    {
      "cell_type": "code",
      "metadata": {
        "colab": {
          "base_uri": "https://localhost:8080/"
        },
        "id": "D8A9WiPJFk-A",
        "outputId": "fb3a0b85-63fb-4083-9c73-7f5e2bf9d674"
      },
      "source": [
        "print(yhat[0].shape)"
      ],
      "execution_count": null,
      "outputs": [
        {
          "output_type": "stream",
          "name": "stdout",
          "text": [
            "()\n"
          ]
        }
      ]
    },
    {
      "cell_type": "code",
      "metadata": {
        "colab": {
          "base_uri": "https://localhost:8080/"
        },
        "id": "H0hlA9rFFk-B",
        "outputId": "47511024-dbca-46ad-b15c-709b698ded73"
      },
      "source": [
        "yhat.shape"
      ],
      "execution_count": null,
      "outputs": [
        {
          "output_type": "execute_result",
          "data": {
            "text/plain": [
              "(516,)"
            ]
          },
          "metadata": {},
          "execution_count": 88
        }
      ]
    },
    {
      "cell_type": "code",
      "metadata": {
        "colab": {
          "base_uri": "https://localhost:8080/",
          "height": 497
        },
        "id": "KgP9DUStFk-C",
        "outputId": "34b0be52-2fa8-4322-c518-1f547f021c2e"
      },
      "source": [
        "# x axis values\n",
        "x = list(range(516))\n",
        "plt.figure(figsize=(15, 8))\n",
        "plt.plot(x, y,label='Actual')\n",
        "\n",
        "plt.xlabel('Week')\n",
        "plt.ylabel('Wind Speed')\n",
        "\n",
        "plt.plot(x,yhat,label='Predicted')\n",
        "plt.legend(loc=\"upper right\")\n",
        "from matplotlib.pyplot import figure\n",
        "\n",
        "\n",
        "plt.show()"
      ],
      "execution_count": null,
      "outputs": [
        {
          "output_type": "display_data",
          "data": {
            "image/png": "[encoded data removed]",
            "text/plain": [
              "<Figure size 1080x576 with 1 Axes>"
            ]
          },
          "metadata": {
            "needs_background": "light"
          }
        }
      ]
    },
    {
      "cell_type": "code",
      "metadata": {
        "id": "6D_7dfd0Fk-D"
      },
      "source": [
        "X, y = split_sequence(df_rj1_test, n_steps)"
      ],
      "execution_count": null,
      "outputs": []
    },
    {
      "cell_type": "code",
      "metadata": {
        "colab": {
          "base_uri": "https://localhost:8080/"
        },
        "id": "RztsGEhYFk-D",
        "outputId": "36b419db-005c-4fe4-cefc-5686adbc8002"
      },
      "source": [
        "get_metrics(X,y)"
      ],
      "execution_count": null,
      "outputs": [
        {
          "output_type": "stream",
          "name": "stdout",
          "text": [
            "MSE=  [[0.04320576]]\n",
            "MAPE=  [[0.16280768]]\n",
            "MAPE=  [[0.06737359]]\n"
          ]
        }
      ]
    },
    {
      "cell_type": "code",
      "metadata": {
        "colab": {
          "base_uri": "https://localhost:8080/"
        },
        "id": "ut6v0pUhFk-E",
        "outputId": "9f0cf241-627f-43bf-c87e-9a54cb6b5570"
      },
      "source": [
        "print(X[1],y[1])\n",
        "print(model.predict(X[1].reshape((1, n_steps, n_features)),verbose=0))"
      ],
      "execution_count": null,
      "outputs": [
        {
          "output_type": "stream",
          "name": "stdout",
          "text": [
            "[[3.75101175]\n",
            " [3.62371511]\n",
            " [3.70262093]\n",
            " [3.78593902]] [3.81221831]\n",
            "[[3.6918879]]\n"
          ]
        }
      ]
    },
    {
      "cell_type": "code",
      "metadata": {
        "id": "ll802eqcFk-F"
      },
      "source": [
        "import matplotlib.pyplot as plt"
      ],
      "execution_count": null,
      "outputs": []
    },
    {
      "cell_type": "markdown",
      "metadata": {
        "id": "NlI0_DOlFk-G"
      },
      "source": [
        "For Rajasthan3"
      ]
    },
    {
      "cell_type": "code",
      "metadata": {
        "id": "A0tnhdD3Gm50"
      },
      "source": [
        ""
      ],
      "execution_count": null,
      "outputs": []
    },
    {
      "cell_type": "code",
      "metadata": {
        "id": "CizTVKfOGnIG"
      },
      "source": [
        "df=pd.read_csv('Rajasthan3.csv')"
      ],
      "execution_count": null,
      "outputs": []
    },
    {
      "cell_type": "code",
      "metadata": {
        "id": "1TgdhwVZGnIK"
      },
      "source": [
        "del df['Unnamed: 0']"
      ],
      "execution_count": null,
      "outputs": []
    },
    {
      "cell_type": "code",
      "metadata": {
        "colab": {
          "base_uri": "https://localhost:8080/",
          "height": 424
        },
        "id": "3h6W9sMBGnIN",
        "outputId": "5e2748d7-5111-475e-fd56-de06037560a7"
      },
      "source": [
        "df"
      ],
      "execution_count": null,
      "outputs": [
        {
          "output_type": "execute_result",
          "data": {
            "text/html": [
              "<div>\n",
              "<style scoped>\n",
              "    .dataframe tbody tr th:only-of-type {\n",
              "        vertical-align: middle;\n",
              "    }\n",
              "\n",
              "    .dataframe tbody tr th {\n",
              "        vertical-align: top;\n",
              "    }\n",
              "\n",
              "    .dataframe thead th {\n",
              "        text-align: right;\n",
              "    }\n",
              "</style>\n",
              "<table border=\"1\" class=\"dataframe\">\n",
              "  <thead>\n",
              "    <tr style=\"text-align: right;\">\n",
              "      <th></th>\n",
              "      <th>Wind Speed</th>\n",
              "    </tr>\n",
              "  </thead>\n",
              "  <tbody>\n",
              "    <tr>\n",
              "      <th>0</th>\n",
              "      <td>1.899589</td>\n",
              "    </tr>\n",
              "    <tr>\n",
              "      <th>1</th>\n",
              "      <td>2.017345</td>\n",
              "    </tr>\n",
              "    <tr>\n",
              "      <th>2</th>\n",
              "      <td>1.965550</td>\n",
              "    </tr>\n",
              "    <tr>\n",
              "      <th>3</th>\n",
              "      <td>2.110519</td>\n",
              "    </tr>\n",
              "    <tr>\n",
              "      <th>4</th>\n",
              "      <td>3.011898</td>\n",
              "    </tr>\n",
              "    <tr>\n",
              "      <th>...</th>\n",
              "      <td>...</td>\n",
              "    </tr>\n",
              "    <tr>\n",
              "      <th>5470</th>\n",
              "      <td>2.369528</td>\n",
              "    </tr>\n",
              "    <tr>\n",
              "      <th>5471</th>\n",
              "      <td>1.901246</td>\n",
              "    </tr>\n",
              "    <tr>\n",
              "      <th>5472</th>\n",
              "      <td>2.024929</td>\n",
              "    </tr>\n",
              "    <tr>\n",
              "      <th>5473</th>\n",
              "      <td>1.607879</td>\n",
              "    </tr>\n",
              "    <tr>\n",
              "      <th>5474</th>\n",
              "      <td>3.284778</td>\n",
              "    </tr>\n",
              "  </tbody>\n",
              "</table>\n",
              "<p>5475 rows × 1 columns</p>\n",
              "</div>"
            ],
            "text/plain": [
              "      Wind Speed\n",
              "0       1.899589\n",
              "1       2.017345\n",
              "2       1.965550\n",
              "3       2.110519\n",
              "4       3.011898\n",
              "...          ...\n",
              "5470    2.369528\n",
              "5471    1.901246\n",
              "5472    2.024929\n",
              "5473    1.607879\n",
              "5474    3.284778\n",
              "\n",
              "[5475 rows x 1 columns]"
            ]
          },
          "metadata": {},
          "execution_count": 95
        }
      ]
    },
    {
      "cell_type": "code",
      "metadata": {
        "id": "ZL_hRpd2GnIR"
      },
      "source": [
        "df_rj1=pd.DataFrame(columns=['Wind Speed'])"
      ],
      "execution_count": null,
      "outputs": []
    },
    {
      "cell_type": "code",
      "metadata": {
        "id": "5weGlQAjGnIU"
      },
      "source": [
        "for i in range(int(len(df)/7)):\n",
        "  sum=0.0\n",
        "  for j in range(7):\n",
        "    if j>int(len(df)):\n",
        "      break\n",
        "    sum+=df['Wind Speed'].iloc[i+j]\n",
        "  sum=sum/7\n",
        "  df_rj1=df_rj1.append({'Wind Speed': sum}, ignore_index=True)"
      ],
      "execution_count": null,
      "outputs": []
    },
    {
      "cell_type": "code",
      "metadata": {
        "colab": {
          "base_uri": "https://localhost:8080/",
          "height": 424
        },
        "id": "w_6hh4LLGnIW",
        "outputId": "2f4e8d61-2434-4277-8561-6beb8ade9aa1"
      },
      "source": [
        "df_rj1"
      ],
      "execution_count": null,
      "outputs": [
        {
          "output_type": "execute_result",
          "data": {
            "text/html": [
              "<div>\n",
              "<style scoped>\n",
              "    .dataframe tbody tr th:only-of-type {\n",
              "        vertical-align: middle;\n",
              "    }\n",
              "\n",
              "    .dataframe tbody tr th {\n",
              "        vertical-align: top;\n",
              "    }\n",
              "\n",
              "    .dataframe thead th {\n",
              "        text-align: right;\n",
              "    }\n",
              "</style>\n",
              "<table border=\"1\" class=\"dataframe\">\n",
              "  <thead>\n",
              "    <tr style=\"text-align: right;\">\n",
              "      <th></th>\n",
              "      <th>Wind Speed</th>\n",
              "    </tr>\n",
              "  </thead>\n",
              "  <tbody>\n",
              "    <tr>\n",
              "      <th>0</th>\n",
              "      <td>2.492706</td>\n",
              "    </tr>\n",
              "    <tr>\n",
              "      <th>1</th>\n",
              "      <td>2.608172</td>\n",
              "    </tr>\n",
              "    <tr>\n",
              "      <th>2</th>\n",
              "      <td>2.659979</td>\n",
              "    </tr>\n",
              "    <tr>\n",
              "      <th>3</th>\n",
              "      <td>2.788557</td>\n",
              "    </tr>\n",
              "    <tr>\n",
              "      <th>4</th>\n",
              "      <td>2.807839</td>\n",
              "    </tr>\n",
              "    <tr>\n",
              "      <th>...</th>\n",
              "      <td>...</td>\n",
              "    </tr>\n",
              "    <tr>\n",
              "      <th>777</th>\n",
              "      <td>2.838889</td>\n",
              "    </tr>\n",
              "    <tr>\n",
              "      <th>778</th>\n",
              "      <td>2.854370</td>\n",
              "    </tr>\n",
              "    <tr>\n",
              "      <th>779</th>\n",
              "      <td>2.885293</td>\n",
              "    </tr>\n",
              "    <tr>\n",
              "      <th>780</th>\n",
              "      <td>2.726699</td>\n",
              "    </tr>\n",
              "    <tr>\n",
              "      <th>781</th>\n",
              "      <td>2.487119</td>\n",
              "    </tr>\n",
              "  </tbody>\n",
              "</table>\n",
              "<p>782 rows × 1 columns</p>\n",
              "</div>"
            ],
            "text/plain": [
              "     Wind Speed\n",
              "0      2.492706\n",
              "1      2.608172\n",
              "2      2.659979\n",
              "3      2.788557\n",
              "4      2.807839\n",
              "..          ...\n",
              "777    2.838889\n",
              "778    2.854370\n",
              "779    2.885293\n",
              "780    2.726699\n",
              "781    2.487119\n",
              "\n",
              "[782 rows x 1 columns]"
            ]
          },
          "metadata": {},
          "execution_count": 98
        }
      ]
    },
    {
      "cell_type": "code",
      "metadata": {
        "id": "j45Q9yPMGnIY"
      },
      "source": [
        "df_rj1_train=df_rj1[0:520]\n",
        "df_rj1_test=df_rj1[520:]"
      ],
      "execution_count": null,
      "outputs": []
    },
    {
      "cell_type": "code",
      "metadata": {
        "id": "OEL9QJm1GnIa"
      },
      "source": [
        "X, y = split_sequence(df_rj1_train, n_steps)"
      ],
      "execution_count": null,
      "outputs": []
    },
    {
      "cell_type": "code",
      "metadata": {
        "colab": {
          "base_uri": "https://localhost:8080/"
        },
        "id": "ma4k5TqnGnId",
        "outputId": "59bb263a-3a81-4dd6-dd51-24baa56904c6"
      },
      "source": [
        "X.shape"
      ],
      "execution_count": null,
      "outputs": [
        {
          "output_type": "execute_result",
          "data": {
            "text/plain": [
              "(516, 4, 1)"
            ]
          },
          "metadata": {},
          "execution_count": 101
        }
      ]
    },
    {
      "cell_type": "code",
      "metadata": {
        "colab": {
          "base_uri": "https://localhost:8080/"
        },
        "id": "Ixi85y-NGnIe",
        "outputId": "ab4408bf-0941-4f61-b0f9-e16fac6ad924"
      },
      "source": [
        "# reshape from [samples, timesteps] into [samples, timesteps, features]\n",
        "n_features = 1\n",
        "X = X.reshape((X.shape[0], X.shape[1], n_features))\n",
        "# define model\n",
        "model = Sequential()\n",
        "model.add(LSTM(50, activation='relu', return_sequences=True, input_shape=(n_steps, n_features)))\n",
        "model.add(LSTM(50, activation='relu'))\n",
        "model.add(Dense(1))\n",
        "model.compile(optimizer='adam', loss='mse')\n",
        "# fit model\n",
        "model.fit(X, y, epochs=100, verbose=1)"
      ],
      "execution_count": null,
      "outputs": [
        {
          "output_type": "stream",
          "name": "stdout",
          "text": [
            "Epoch 1/100\n",
            "17/17 [==============================] - 2s 6ms/step - loss: 6.9170\n",
            "Epoch 2/100\n",
            "17/17 [==============================] - 0s 6ms/step - loss: 4.3293\n",
            "Epoch 3/100\n",
            "17/17 [==============================] - 0s 6ms/step - loss: 0.8742\n",
            "Epoch 4/100\n",
            "17/17 [==============================] - 0s 6ms/step - loss: 0.4881\n",
            "Epoch 5/100\n",
            "17/17 [==============================] - 0s 6ms/step - loss: 0.3351\n",
            "Epoch 6/100\n",
            "17/17 [==============================] - 0s 6ms/step - loss: 0.2611\n",
            "Epoch 7/100\n",
            "17/17 [==============================] - 0s 7ms/step - loss: 0.2072\n",
            "Epoch 8/100\n",
            "17/17 [==============================] - 0s 6ms/step - loss: 0.1891\n",
            "Epoch 9/100\n",
            "17/17 [==============================] - 0s 7ms/step - loss: 0.1653\n",
            "Epoch 10/100\n",
            "17/17 [==============================] - 0s 7ms/step - loss: 0.1501\n",
            "Epoch 11/100\n",
            "17/17 [==============================] - 0s 6ms/step - loss: 0.1433\n",
            "Epoch 12/100\n",
            "17/17 [==============================] - 0s 6ms/step - loss: 0.1415\n",
            "Epoch 13/100\n",
            "17/17 [==============================] - 0s 6ms/step - loss: 0.1405\n",
            "Epoch 14/100\n",
            "17/17 [==============================] - 0s 6ms/step - loss: 0.1341\n",
            "Epoch 15/100\n",
            "17/17 [==============================] - 0s 7ms/step - loss: 0.1351\n",
            "Epoch 16/100\n",
            "17/17 [==============================] - 0s 6ms/step - loss: 0.1335\n",
            "Epoch 17/100\n",
            "17/17 [==============================] - 0s 6ms/step - loss: 0.1337\n",
            "Epoch 18/100\n",
            "17/17 [==============================] - 0s 6ms/step - loss: 0.1336\n",
            "Epoch 19/100\n",
            "17/17 [==============================] - 0s 6ms/step - loss: 0.1307\n",
            "Epoch 20/100\n",
            "17/17 [==============================] - 0s 6ms/step - loss: 0.1305\n",
            "Epoch 21/100\n",
            "17/17 [==============================] - 0s 6ms/step - loss: 0.1305\n",
            "Epoch 22/100\n",
            "17/17 [==============================] - 0s 6ms/step - loss: 0.1293\n",
            "Epoch 23/100\n",
            "17/17 [==============================] - 0s 6ms/step - loss: 0.1298\n",
            "Epoch 24/100\n",
            "17/17 [==============================] - 0s 6ms/step - loss: 0.1270\n",
            "Epoch 25/100\n",
            "17/17 [==============================] - 0s 6ms/step - loss: 0.1287\n",
            "Epoch 26/100\n",
            "17/17 [==============================] - 0s 6ms/step - loss: 0.1261\n",
            "Epoch 27/100\n",
            "17/17 [==============================] - 0s 6ms/step - loss: 0.1264\n",
            "Epoch 28/100\n",
            "17/17 [==============================] - 0s 7ms/step - loss: 0.1245\n",
            "Epoch 29/100\n",
            "17/17 [==============================] - 0s 6ms/step - loss: 0.1295\n",
            "Epoch 30/100\n",
            "17/17 [==============================] - 0s 6ms/step - loss: 0.1230\n",
            "Epoch 31/100\n",
            "17/17 [==============================] - 0s 7ms/step - loss: 0.1230\n",
            "Epoch 32/100\n",
            "17/17 [==============================] - 0s 6ms/step - loss: 0.1214\n",
            "Epoch 33/100\n",
            "17/17 [==============================] - 0s 7ms/step - loss: 0.1262\n",
            "Epoch 34/100\n",
            "17/17 [==============================] - 0s 6ms/step - loss: 0.1210\n",
            "Epoch 35/100\n",
            "17/17 [==============================] - 0s 6ms/step - loss: 0.1177\n",
            "Epoch 36/100\n",
            "17/17 [==============================] - 0s 6ms/step - loss: 0.1160\n",
            "Epoch 37/100\n",
            "17/17 [==============================] - 0s 6ms/step - loss: 0.1163\n",
            "Epoch 38/100\n",
            "17/17 [==============================] - 0s 6ms/step - loss: 0.1239\n",
            "Epoch 39/100\n",
            "17/17 [==============================] - 0s 6ms/step - loss: 0.1135\n",
            "Epoch 40/100\n",
            "17/17 [==============================] - 0s 6ms/step - loss: 0.1158\n",
            "Epoch 41/100\n",
            "17/17 [==============================] - 0s 6ms/step - loss: 0.1153\n",
            "Epoch 42/100\n",
            "17/17 [==============================] - 0s 7ms/step - loss: 0.1113\n",
            "Epoch 43/100\n",
            "17/17 [==============================] - 0s 6ms/step - loss: 0.1100\n",
            "Epoch 44/100\n",
            "17/17 [==============================] - 0s 6ms/step - loss: 0.1095\n",
            "Epoch 45/100\n",
            "17/17 [==============================] - 0s 6ms/step - loss: 0.1049\n",
            "Epoch 46/100\n",
            "17/17 [==============================] - 0s 6ms/step - loss: 0.1056\n",
            "Epoch 47/100\n",
            "17/17 [==============================] - 0s 6ms/step - loss: 0.1016\n",
            "Epoch 48/100\n",
            "17/17 [==============================] - 0s 6ms/step - loss: 0.1022\n",
            "Epoch 49/100\n",
            "17/17 [==============================] - 0s 6ms/step - loss: 0.1003\n",
            "Epoch 50/100\n",
            "17/17 [==============================] - 0s 6ms/step - loss: 0.0972\n",
            "Epoch 51/100\n",
            "17/17 [==============================] - 0s 7ms/step - loss: 0.0918\n",
            "Epoch 52/100\n",
            "17/17 [==============================] - 0s 6ms/step - loss: 0.1001\n",
            "Epoch 53/100\n",
            "17/17 [==============================] - 0s 7ms/step - loss: 0.0923\n",
            "Epoch 54/100\n",
            "17/17 [==============================] - 0s 8ms/step - loss: 0.0891\n",
            "Epoch 55/100\n",
            "17/17 [==============================] - 0s 6ms/step - loss: 0.0860\n",
            "Epoch 56/100\n",
            "17/17 [==============================] - 0s 6ms/step - loss: 0.0815\n",
            "Epoch 57/100\n",
            "17/17 [==============================] - 0s 7ms/step - loss: 0.0809\n",
            "Epoch 58/100\n",
            "17/17 [==============================] - 0s 6ms/step - loss: 0.0791\n",
            "Epoch 59/100\n",
            "17/17 [==============================] - 0s 6ms/step - loss: 0.0765\n",
            "Epoch 60/100\n",
            "17/17 [==============================] - 0s 6ms/step - loss: 0.0765\n",
            "Epoch 61/100\n",
            "17/17 [==============================] - 0s 7ms/step - loss: 0.0750\n",
            "Epoch 62/100\n",
            "17/17 [==============================] - 0s 6ms/step - loss: 0.0667\n",
            "Epoch 63/100\n",
            "17/17 [==============================] - 0s 7ms/step - loss: 0.0661\n",
            "Epoch 64/100\n",
            "17/17 [==============================] - 0s 7ms/step - loss: 0.0637\n",
            "Epoch 65/100\n",
            "17/17 [==============================] - 0s 6ms/step - loss: 0.0659\n",
            "Epoch 66/100\n",
            "17/17 [==============================] - 0s 6ms/step - loss: 0.0586\n",
            "Epoch 67/100\n",
            "17/17 [==============================] - 0s 6ms/step - loss: 0.0583\n",
            "Epoch 68/100\n",
            "17/17 [==============================] - 0s 6ms/step - loss: 0.0515\n",
            "Epoch 69/100\n",
            "17/17 [==============================] - 0s 6ms/step - loss: 0.0498\n",
            "Epoch 70/100\n",
            "17/17 [==============================] - 0s 6ms/step - loss: 0.0491\n",
            "Epoch 71/100\n",
            "17/17 [==============================] - 0s 6ms/step - loss: 0.0484\n",
            "Epoch 72/100\n",
            "17/17 [==============================] - 0s 7ms/step - loss: 0.0413\n",
            "Epoch 73/100\n",
            "17/17 [==============================] - 0s 7ms/step - loss: 0.0407\n",
            "Epoch 74/100\n",
            "17/17 [==============================] - 0s 6ms/step - loss: 0.0390\n",
            "Epoch 75/100\n",
            "17/17 [==============================] - 0s 7ms/step - loss: 0.0339\n",
            "Epoch 76/100\n",
            "17/17 [==============================] - 0s 7ms/step - loss: 0.0327\n",
            "Epoch 77/100\n",
            "17/17 [==============================] - 0s 8ms/step - loss: 0.0311\n",
            "Epoch 78/100\n",
            "17/17 [==============================] - 0s 7ms/step - loss: 0.0311\n",
            "Epoch 79/100\n",
            "17/17 [==============================] - 0s 7ms/step - loss: 0.0326\n",
            "Epoch 80/100\n",
            "17/17 [==============================] - 0s 6ms/step - loss: 0.0309\n",
            "Epoch 81/100\n",
            "17/17 [==============================] - 0s 7ms/step - loss: 0.0302\n",
            "Epoch 82/100\n",
            "17/17 [==============================] - 0s 6ms/step - loss: 0.0316\n",
            "Epoch 83/100\n",
            "17/17 [==============================] - 0s 6ms/step - loss: 0.0302\n",
            "Epoch 84/100\n",
            "17/17 [==============================] - 0s 6ms/step - loss: 0.0296\n",
            "Epoch 85/100\n",
            "17/17 [==============================] - 0s 6ms/step - loss: 0.0285\n",
            "Epoch 86/100\n",
            "17/17 [==============================] - 0s 6ms/step - loss: 0.0284\n",
            "Epoch 87/100\n",
            "17/17 [==============================] - 0s 6ms/step - loss: 0.0308\n",
            "Epoch 88/100\n",
            "17/17 [==============================] - 0s 6ms/step - loss: 0.0270\n",
            "Epoch 89/100\n",
            "17/17 [==============================] - 0s 7ms/step - loss: 0.0264\n",
            "Epoch 90/100\n",
            "17/17 [==============================] - 0s 6ms/step - loss: 0.0278\n",
            "Epoch 91/100\n",
            "17/17 [==============================] - 0s 6ms/step - loss: 0.0270\n",
            "Epoch 92/100\n",
            "17/17 [==============================] - 0s 6ms/step - loss: 0.0261\n",
            "Epoch 93/100\n",
            "17/17 [==============================] - 0s 6ms/step - loss: 0.0279\n",
            "Epoch 94/100\n",
            "17/17 [==============================] - 0s 6ms/step - loss: 0.0286\n",
            "Epoch 95/100\n",
            "17/17 [==============================] - 0s 6ms/step - loss: 0.0272\n",
            "Epoch 96/100\n",
            "17/17 [==============================] - 0s 6ms/step - loss: 0.0293\n",
            "Epoch 97/100\n",
            "17/17 [==============================] - 0s 6ms/step - loss: 0.0262\n",
            "Epoch 98/100\n",
            "17/17 [==============================] - 0s 6ms/step - loss: 0.0256\n",
            "Epoch 99/100\n",
            "17/17 [==============================] - 0s 6ms/step - loss: 0.0248\n",
            "Epoch 100/100\n",
            "17/17 [==============================] - 0s 6ms/step - loss: 0.0248\n"
          ]
        },
        {
          "output_type": "execute_result",
          "data": {
            "text/plain": [
              "<keras.callbacks.History at 0x7f88b6395d10>"
            ]
          },
          "metadata": {},
          "execution_count": 102
        }
      ]
    },
    {
      "cell_type": "code",
      "metadata": {
        "id": "uTbJjdjvGnIi"
      },
      "source": [
        "def get_metrics(X,y):\n",
        "  size=X.shape[0]\n",
        "  mse=0.0\n",
        "  mae=0.0\n",
        "  mape=0.0\n",
        "  for i in range(size):\n",
        "    yhat = model.predict(X[i].reshape((1, n_steps, n_features)),verbose=0)\n",
        "    mse+=(yhat-y[i])*(yhat-y[i])\n",
        "    mae+=abs((yhat-y[i]))\n",
        "    mape+=abs((y[i]-yhat)/y[i])\n",
        "  \n",
        "  mse=mse/size\n",
        "  mae=mae/size\n",
        "  mape=mape/size\n",
        "  print(\"MSE= \",mse)\n",
        "  print(\"MAPE= \",mae)\n",
        "  print(\"MAPE= \",mape)"
      ],
      "execution_count": null,
      "outputs": []
    },
    {
      "cell_type": "code",
      "metadata": {
        "colab": {
          "base_uri": "https://localhost:8080/"
        },
        "id": "c5D5uRU7GnIj",
        "outputId": "bcde3a1a-1945-4ec5-950f-ce23af11868e"
      },
      "source": [
        "get_metrics(X,y)"
      ],
      "execution_count": null,
      "outputs": [
        {
          "output_type": "stream",
          "name": "stdout",
          "text": [
            "MSE=  [[0.02414183]]\n",
            "MAPE=  [[0.11746705]]\n",
            "MAPE=  [[0.04677416]]\n"
          ]
        }
      ]
    },
    {
      "cell_type": "code",
      "metadata": {
        "colab": {
          "base_uri": "https://localhost:8080/"
        },
        "id": "gHeIXpWaGnIk",
        "outputId": "14e67513-ba23-4629-d197-6460293bf155"
      },
      "source": [
        "print(len(x))\n",
        "print(y.shape)"
      ],
      "execution_count": null,
      "outputs": [
        {
          "output_type": "stream",
          "name": "stdout",
          "text": [
            "516\n",
            "(516, 1)\n"
          ]
        }
      ]
    },
    {
      "cell_type": "code",
      "metadata": {
        "id": "w0b91ifGGnIk"
      },
      "source": [
        "size=X.shape[0]\n",
        "yhat=np.zeros(size)\n",
        "for i in range(size):\n",
        "  yhat[i]=(model.predict(X[i].reshape((1, n_steps, n_features)),verbose=0))"
      ],
      "execution_count": null,
      "outputs": []
    },
    {
      "cell_type": "code",
      "metadata": {
        "colab": {
          "base_uri": "https://localhost:8080/"
        },
        "id": "J1I-muJGGnIl",
        "outputId": "13272dc0-b3f6-42ca-b00d-ad419cfd98cd"
      },
      "source": [
        "print(yhat[0].shape)"
      ],
      "execution_count": null,
      "outputs": [
        {
          "output_type": "stream",
          "name": "stdout",
          "text": [
            "()\n"
          ]
        }
      ]
    },
    {
      "cell_type": "code",
      "metadata": {
        "colab": {
          "base_uri": "https://localhost:8080/"
        },
        "id": "awotgqSqGnIm",
        "outputId": "761a3c0a-a81f-424f-be69-f02b4b22263f"
      },
      "source": [
        "yhat.shape"
      ],
      "execution_count": null,
      "outputs": [
        {
          "output_type": "execute_result",
          "data": {
            "text/plain": [
              "(516,)"
            ]
          },
          "metadata": {},
          "execution_count": 108
        }
      ]
    },
    {
      "cell_type": "code",
      "metadata": {
        "colab": {
          "base_uri": "https://localhost:8080/",
          "height": 497
        },
        "id": "XNplCQafGnIm",
        "outputId": "9507bcd7-ef50-4e30-aade-e7ff63015cee"
      },
      "source": [
        "# x axis values\n",
        "x = list(range(516))\n",
        "plt.figure(figsize=(15, 8))\n",
        "plt.plot(x, y,label='Actual')\n",
        "\n",
        "plt.xlabel('Week')\n",
        "plt.ylabel('Wind Speed')\n",
        "\n",
        "plt.plot(x,yhat,label='Predicted')\n",
        "plt.legend(loc=\"upper right\")\n",
        "from matplotlib.pyplot import figure\n",
        "\n",
        "\n",
        "plt.show()"
      ],
      "execution_count": null,
      "outputs": [
        {
          "output_type": "display_data",
          "data": {
            "image/png": "[encoded data removed]",
            "text/plain": [
              "<Figure size 1080x576 with 1 Axes>"
            ]
          },
          "metadata": {
            "needs_background": "light"
          }
        }
      ]
    },
    {
      "cell_type": "code",
      "metadata": {
        "id": "6wUJh-_TGnIn"
      },
      "source": [
        "X, y = split_sequence(df_rj1_test, n_steps)"
      ],
      "execution_count": null,
      "outputs": []
    },
    {
      "cell_type": "code",
      "metadata": {
        "colab": {
          "base_uri": "https://localhost:8080/"
        },
        "id": "HHAo5JyWGnIo",
        "outputId": "20b1f4b4-774b-4497-e66a-b1ab00a69c8b"
      },
      "source": [
        "get_metrics(X,y)"
      ],
      "execution_count": null,
      "outputs": [
        {
          "output_type": "stream",
          "name": "stdout",
          "text": [
            "MSE=  [[0.02575687]]\n",
            "MAPE=  [[0.12565129]]\n",
            "MAPE=  [[0.05202759]]\n"
          ]
        }
      ]
    },
    {
      "cell_type": "code",
      "metadata": {
        "colab": {
          "base_uri": "https://localhost:8080/"
        },
        "id": "KjU4pHASGnIp",
        "outputId": "84aaf109-eae8-4526-a69d-64e975cb2ee8"
      },
      "source": [
        "print(X[1],y[1])\n",
        "print(model.predict(X[1].reshape((1, n_steps, n_features)),verbose=0))"
      ],
      "execution_count": null,
      "outputs": [
        {
          "output_type": "stream",
          "name": "stdout",
          "text": [
            "[[5.17436606]\n",
            " [4.82479862]\n",
            " [4.59070823]\n",
            " [4.40091826]] [4.06383822]\n",
            "[[3.9019046]]\n"
          ]
        }
      ]
    },
    {
      "cell_type": "code",
      "metadata": {
        "id": "MieHgnCFGnIp"
      },
      "source": [
        "import matplotlib.pyplot as plt"
      ],
      "execution_count": null,
      "outputs": []
    },
    {
      "cell_type": "markdown",
      "metadata": {
        "id": "RuhaNQj8GnIq"
      },
      "source": [
        "For Rajasthan4"
      ]
    },
    {
      "cell_type": "code",
      "metadata": {
        "id": "NaLQFUkgGuN9"
      },
      "source": [
        ""
      ],
      "execution_count": null,
      "outputs": []
    },
    {
      "cell_type": "code",
      "metadata": {
        "id": "QPcR9ZG0Guco"
      },
      "source": [
        "df=pd.read_csv('Rajasthan4.csv')"
      ],
      "execution_count": null,
      "outputs": []
    },
    {
      "cell_type": "code",
      "metadata": {
        "id": "PvbvQoTRGucp"
      },
      "source": [
        "del df['Unnamed: 0']"
      ],
      "execution_count": null,
      "outputs": []
    },
    {
      "cell_type": "code",
      "metadata": {
        "colab": {
          "base_uri": "https://localhost:8080/",
          "height": 424
        },
        "id": "pwL6-Ku0Gucr",
        "outputId": "be1b0644-3842-41fc-9b3b-768d3647b739"
      },
      "source": [
        "df"
      ],
      "execution_count": null,
      "outputs": [
        {
          "output_type": "execute_result",
          "data": {
            "text/html": [
              "<div>\n",
              "<style scoped>\n",
              "    .dataframe tbody tr th:only-of-type {\n",
              "        vertical-align: middle;\n",
              "    }\n",
              "\n",
              "    .dataframe tbody tr th {\n",
              "        vertical-align: top;\n",
              "    }\n",
              "\n",
              "    .dataframe thead th {\n",
              "        text-align: right;\n",
              "    }\n",
              "</style>\n",
              "<table border=\"1\" class=\"dataframe\">\n",
              "  <thead>\n",
              "    <tr style=\"text-align: right;\">\n",
              "      <th></th>\n",
              "      <th>Wind Speed</th>\n",
              "    </tr>\n",
              "  </thead>\n",
              "  <tbody>\n",
              "    <tr>\n",
              "      <th>0</th>\n",
              "      <td>2.031432</td>\n",
              "    </tr>\n",
              "    <tr>\n",
              "      <th>1</th>\n",
              "      <td>2.330494</td>\n",
              "    </tr>\n",
              "    <tr>\n",
              "      <th>2</th>\n",
              "      <td>2.095144</td>\n",
              "    </tr>\n",
              "    <tr>\n",
              "      <th>3</th>\n",
              "      <td>2.331069</td>\n",
              "    </tr>\n",
              "    <tr>\n",
              "      <th>4</th>\n",
              "      <td>3.469066</td>\n",
              "    </tr>\n",
              "    <tr>\n",
              "      <th>...</th>\n",
              "      <td>...</td>\n",
              "    </tr>\n",
              "    <tr>\n",
              "      <th>5470</th>\n",
              "      <td>3.672130</td>\n",
              "    </tr>\n",
              "    <tr>\n",
              "      <th>5471</th>\n",
              "      <td>3.239627</td>\n",
              "    </tr>\n",
              "    <tr>\n",
              "      <th>5472</th>\n",
              "      <td>2.964070</td>\n",
              "    </tr>\n",
              "    <tr>\n",
              "      <th>5473</th>\n",
              "      <td>2.876066</td>\n",
              "    </tr>\n",
              "    <tr>\n",
              "      <th>5474</th>\n",
              "      <td>2.652159</td>\n",
              "    </tr>\n",
              "  </tbody>\n",
              "</table>\n",
              "<p>5475 rows × 1 columns</p>\n",
              "</div>"
            ],
            "text/plain": [
              "      Wind Speed\n",
              "0       2.031432\n",
              "1       2.330494\n",
              "2       2.095144\n",
              "3       2.331069\n",
              "4       3.469066\n",
              "...          ...\n",
              "5470    3.672130\n",
              "5471    3.239627\n",
              "5472    2.964070\n",
              "5473    2.876066\n",
              "5474    2.652159\n",
              "\n",
              "[5475 rows x 1 columns]"
            ]
          },
          "metadata": {},
          "execution_count": 116
        }
      ]
    },
    {
      "cell_type": "code",
      "metadata": {
        "id": "QXf1eI5HGucs"
      },
      "source": [
        "df_rj1=pd.DataFrame(columns=['Wind Speed'])"
      ],
      "execution_count": null,
      "outputs": []
    },
    {
      "cell_type": "code",
      "metadata": {
        "id": "BN1uTFlhGuct"
      },
      "source": [
        "for i in range(int(len(df)/7)):\n",
        "  sum=0.0\n",
        "  for j in range(7):\n",
        "    if j>int(len(df)):\n",
        "      break\n",
        "    sum+=df['Wind Speed'].iloc[i+j]\n",
        "  sum=sum/7\n",
        "  df_rj1=df_rj1.append({'Wind Speed': sum}, ignore_index=True)"
      ],
      "execution_count": null,
      "outputs": []
    },
    {
      "cell_type": "code",
      "metadata": {
        "colab": {
          "base_uri": "https://localhost:8080/",
          "height": 424
        },
        "id": "V9VbXWmsGuct",
        "outputId": "40540aff-1215-4405-cd4c-d49c8aebc83e"
      },
      "source": [
        "df_rj1"
      ],
      "execution_count": null,
      "outputs": [
        {
          "output_type": "execute_result",
          "data": {
            "text/html": [
              "<div>\n",
              "<style scoped>\n",
              "    .dataframe tbody tr th:only-of-type {\n",
              "        vertical-align: middle;\n",
              "    }\n",
              "\n",
              "    .dataframe tbody tr th {\n",
              "        vertical-align: top;\n",
              "    }\n",
              "\n",
              "    .dataframe thead th {\n",
              "        text-align: right;\n",
              "    }\n",
              "</style>\n",
              "<table border=\"1\" class=\"dataframe\">\n",
              "  <thead>\n",
              "    <tr style=\"text-align: right;\">\n",
              "      <th></th>\n",
              "      <th>Wind Speed</th>\n",
              "    </tr>\n",
              "  </thead>\n",
              "  <tbody>\n",
              "    <tr>\n",
              "      <th>0</th>\n",
              "      <td>2.783947</td>\n",
              "    </tr>\n",
              "    <tr>\n",
              "      <th>1</th>\n",
              "      <td>2.921720</td>\n",
              "    </tr>\n",
              "    <tr>\n",
              "      <th>2</th>\n",
              "      <td>2.983031</td>\n",
              "    </tr>\n",
              "    <tr>\n",
              "      <th>3</th>\n",
              "      <td>3.142834</td>\n",
              "    </tr>\n",
              "    <tr>\n",
              "      <th>4</th>\n",
              "      <td>3.156986</td>\n",
              "    </tr>\n",
              "    <tr>\n",
              "      <th>...</th>\n",
              "      <td>...</td>\n",
              "    </tr>\n",
              "    <tr>\n",
              "      <th>777</th>\n",
              "      <td>2.354000</td>\n",
              "    </tr>\n",
              "    <tr>\n",
              "      <th>778</th>\n",
              "      <td>2.591902</td>\n",
              "    </tr>\n",
              "    <tr>\n",
              "      <th>779</th>\n",
              "      <td>2.695127</td>\n",
              "    </tr>\n",
              "    <tr>\n",
              "      <th>780</th>\n",
              "      <td>2.878345</td>\n",
              "    </tr>\n",
              "    <tr>\n",
              "      <th>781</th>\n",
              "      <td>2.851849</td>\n",
              "    </tr>\n",
              "  </tbody>\n",
              "</table>\n",
              "<p>782 rows × 1 columns</p>\n",
              "</div>"
            ],
            "text/plain": [
              "     Wind Speed\n",
              "0      2.783947\n",
              "1      2.921720\n",
              "2      2.983031\n",
              "3      3.142834\n",
              "4      3.156986\n",
              "..          ...\n",
              "777    2.354000\n",
              "778    2.591902\n",
              "779    2.695127\n",
              "780    2.878345\n",
              "781    2.851849\n",
              "\n",
              "[782 rows x 1 columns]"
            ]
          },
          "metadata": {},
          "execution_count": 119
        }
      ]
    },
    {
      "cell_type": "code",
      "metadata": {
        "id": "T05cxM7cGucv"
      },
      "source": [
        "df_rj1_train=df_rj1[0:520]\n",
        "df_rj1_test=df_rj1[520:]"
      ],
      "execution_count": null,
      "outputs": []
    },
    {
      "cell_type": "code",
      "metadata": {
        "id": "0PlUiZMXGuc2"
      },
      "source": [
        "X, y = split_sequence(df_rj1_train, n_steps)"
      ],
      "execution_count": null,
      "outputs": []
    },
    {
      "cell_type": "code",
      "metadata": {
        "colab": {
          "base_uri": "https://localhost:8080/"
        },
        "id": "8SlHG_vzGuc3",
        "outputId": "dcd8d11b-3ff3-4078-f736-950dad5121cf"
      },
      "source": [
        "X.shape"
      ],
      "execution_count": null,
      "outputs": [
        {
          "output_type": "execute_result",
          "data": {
            "text/plain": [
              "(516, 4, 1)"
            ]
          },
          "metadata": {},
          "execution_count": 122
        }
      ]
    },
    {
      "cell_type": "code",
      "metadata": {
        "colab": {
          "base_uri": "https://localhost:8080/"
        },
        "id": "AQe9h6g_Guc5",
        "outputId": "6cb78cb6-07ce-4b08-af30-f6df4d234484"
      },
      "source": [
        "# reshape from [samples, timesteps] into [samples, timesteps, features]\n",
        "n_features = 1\n",
        "X = X.reshape((X.shape[0], X.shape[1], n_features))\n",
        "# define model\n",
        "model = Sequential()\n",
        "model.add(LSTM(50, activation='relu', return_sequences=True, input_shape=(n_steps, n_features)))\n",
        "model.add(LSTM(50, activation='relu'))\n",
        "model.add(Dense(1))\n",
        "model.compile(optimizer='adam', loss='mse')\n",
        "# fit model\n",
        "model.fit(X, y, epochs=100, verbose=1)"
      ],
      "execution_count": null,
      "outputs": [
        {
          "output_type": "stream",
          "name": "stdout",
          "text": [
            "Epoch 1/100\n",
            "17/17 [==============================] - 3s 6ms/step - loss: 6.8878\n",
            "Epoch 2/100\n",
            "17/17 [==============================] - 0s 6ms/step - loss: 3.5514\n",
            "Epoch 3/100\n",
            "17/17 [==============================] - 0s 6ms/step - loss: 0.6840\n",
            "Epoch 4/100\n",
            "17/17 [==============================] - 0s 6ms/step - loss: 0.3978\n",
            "Epoch 5/100\n",
            "17/17 [==============================] - 0s 6ms/step - loss: 0.3142\n",
            "Epoch 6/100\n",
            "17/17 [==============================] - 0s 5ms/step - loss: 0.2675\n",
            "Epoch 7/100\n",
            "17/17 [==============================] - 0s 6ms/step - loss: 0.2096\n",
            "Epoch 8/100\n",
            "17/17 [==============================] - 0s 6ms/step - loss: 0.1954\n",
            "Epoch 9/100\n",
            "17/17 [==============================] - 0s 6ms/step - loss: 0.1799\n",
            "Epoch 10/100\n",
            "17/17 [==============================] - 0s 6ms/step - loss: 0.1699\n",
            "Epoch 11/100\n",
            "17/17 [==============================] - 0s 6ms/step - loss: 0.1633\n",
            "Epoch 12/100\n",
            "17/17 [==============================] - 0s 6ms/step - loss: 0.1576\n",
            "Epoch 13/100\n",
            "17/17 [==============================] - 0s 7ms/step - loss: 0.1527\n",
            "Epoch 14/100\n",
            "17/17 [==============================] - 0s 6ms/step - loss: 0.1445\n",
            "Epoch 15/100\n",
            "17/17 [==============================] - 0s 6ms/step - loss: 0.1444\n",
            "Epoch 16/100\n",
            "17/17 [==============================] - 0s 6ms/step - loss: 0.1347\n",
            "Epoch 17/100\n",
            "17/17 [==============================] - 0s 6ms/step - loss: 0.1261\n",
            "Epoch 18/100\n",
            "17/17 [==============================] - 0s 6ms/step - loss: 0.1198\n",
            "Epoch 19/100\n",
            "17/17 [==============================] - 0s 6ms/step - loss: 0.1132\n",
            "Epoch 20/100\n",
            "17/17 [==============================] - 0s 6ms/step - loss: 0.0996\n",
            "Epoch 21/100\n",
            "17/17 [==============================] - 0s 6ms/step - loss: 0.0932\n",
            "Epoch 22/100\n",
            "17/17 [==============================] - 0s 6ms/step - loss: 0.0813\n",
            "Epoch 23/100\n",
            "17/17 [==============================] - 0s 6ms/step - loss: 0.0759\n",
            "Epoch 24/100\n",
            "17/17 [==============================] - 0s 6ms/step - loss: 0.0734\n",
            "Epoch 25/100\n",
            "17/17 [==============================] - 0s 7ms/step - loss: 0.0679\n",
            "Epoch 26/100\n",
            "17/17 [==============================] - 0s 7ms/step - loss: 0.0580\n",
            "Epoch 27/100\n",
            "17/17 [==============================] - 0s 6ms/step - loss: 0.0539\n",
            "Epoch 28/100\n",
            "17/17 [==============================] - 0s 6ms/step - loss: 0.0506\n",
            "Epoch 29/100\n",
            "17/17 [==============================] - 0s 6ms/step - loss: 0.0490\n",
            "Epoch 30/100\n",
            "17/17 [==============================] - 0s 6ms/step - loss: 0.0479\n",
            "Epoch 31/100\n",
            "17/17 [==============================] - 0s 6ms/step - loss: 0.0615\n",
            "Epoch 32/100\n",
            "17/17 [==============================] - 0s 7ms/step - loss: 0.0461\n",
            "Epoch 33/100\n",
            "17/17 [==============================] - 0s 6ms/step - loss: 0.0445\n",
            "Epoch 34/100\n",
            "17/17 [==============================] - 0s 5ms/step - loss: 0.0539\n",
            "Epoch 35/100\n",
            "17/17 [==============================] - 0s 7ms/step - loss: 0.0459\n",
            "Epoch 36/100\n",
            "17/17 [==============================] - 0s 6ms/step - loss: 0.0464\n",
            "Epoch 37/100\n",
            "17/17 [==============================] - 0s 6ms/step - loss: 0.0433\n",
            "Epoch 38/100\n",
            "17/17 [==============================] - 0s 6ms/step - loss: 0.0556\n",
            "Epoch 39/100\n",
            "17/17 [==============================] - 0s 6ms/step - loss: 0.0431\n",
            "Epoch 40/100\n",
            "17/17 [==============================] - 0s 6ms/step - loss: 0.0463\n",
            "Epoch 41/100\n",
            "17/17 [==============================] - 0s 6ms/step - loss: 0.0473\n",
            "Epoch 42/100\n",
            "17/17 [==============================] - 0s 6ms/step - loss: 0.0445\n",
            "Epoch 43/100\n",
            "17/17 [==============================] - 0s 6ms/step - loss: 0.0463\n",
            "Epoch 44/100\n",
            "17/17 [==============================] - 0s 6ms/step - loss: 0.0426\n",
            "Epoch 45/100\n",
            "17/17 [==============================] - 0s 6ms/step - loss: 0.0433\n",
            "Epoch 46/100\n",
            "17/17 [==============================] - 0s 6ms/step - loss: 0.0514\n",
            "Epoch 47/100\n",
            "17/17 [==============================] - 0s 7ms/step - loss: 0.0431\n",
            "Epoch 48/100\n",
            "17/17 [==============================] - 0s 6ms/step - loss: 0.0446\n",
            "Epoch 49/100\n",
            "17/17 [==============================] - 0s 6ms/step - loss: 0.0463\n",
            "Epoch 50/100\n",
            "17/17 [==============================] - 0s 6ms/step - loss: 0.0417\n",
            "Epoch 51/100\n",
            "17/17 [==============================] - 0s 6ms/step - loss: 0.0436\n",
            "Epoch 52/100\n",
            "17/17 [==============================] - 0s 6ms/step - loss: 0.0444\n",
            "Epoch 53/100\n",
            "17/17 [==============================] - 0s 7ms/step - loss: 0.0474\n",
            "Epoch 54/100\n",
            "17/17 [==============================] - 0s 6ms/step - loss: 0.0428\n",
            "Epoch 55/100\n",
            "17/17 [==============================] - 0s 6ms/step - loss: 0.0412\n",
            "Epoch 56/100\n",
            "17/17 [==============================] - 0s 6ms/step - loss: 0.0428\n",
            "Epoch 57/100\n",
            "17/17 [==============================] - 0s 6ms/step - loss: 0.0413\n",
            "Epoch 58/100\n",
            "17/17 [==============================] - 0s 6ms/step - loss: 0.0414\n",
            "Epoch 59/100\n",
            "17/17 [==============================] - 0s 6ms/step - loss: 0.0423\n",
            "Epoch 60/100\n",
            "17/17 [==============================] - 0s 6ms/step - loss: 0.0406\n",
            "Epoch 61/100\n",
            "17/17 [==============================] - 0s 6ms/step - loss: 0.0418\n",
            "Epoch 62/100\n",
            "17/17 [==============================] - 0s 6ms/step - loss: 0.0429\n",
            "Epoch 63/100\n",
            "17/17 [==============================] - 0s 6ms/step - loss: 0.0495\n",
            "Epoch 64/100\n",
            "17/17 [==============================] - 0s 6ms/step - loss: 0.0476\n",
            "Epoch 65/100\n",
            "17/17 [==============================] - 0s 7ms/step - loss: 0.0400\n",
            "Epoch 66/100\n",
            "17/17 [==============================] - 0s 6ms/step - loss: 0.0399\n",
            "Epoch 67/100\n",
            "17/17 [==============================] - 0s 6ms/step - loss: 0.0413\n",
            "Epoch 68/100\n",
            "17/17 [==============================] - 0s 7ms/step - loss: 0.0410\n",
            "Epoch 69/100\n",
            "17/17 [==============================] - 0s 6ms/step - loss: 0.0394\n",
            "Epoch 70/100\n",
            "17/17 [==============================] - 0s 6ms/step - loss: 0.0404\n",
            "Epoch 71/100\n",
            "17/17 [==============================] - 0s 6ms/step - loss: 0.0391\n",
            "Epoch 72/100\n",
            "17/17 [==============================] - 0s 7ms/step - loss: 0.0402\n",
            "Epoch 73/100\n",
            "17/17 [==============================] - 0s 7ms/step - loss: 0.0390\n",
            "Epoch 74/100\n",
            "17/17 [==============================] - 0s 6ms/step - loss: 0.0391\n",
            "Epoch 75/100\n",
            "17/17 [==============================] - 0s 6ms/step - loss: 0.0411\n",
            "Epoch 76/100\n",
            "17/17 [==============================] - 0s 7ms/step - loss: 0.0427\n",
            "Epoch 77/100\n",
            "17/17 [==============================] - 0s 6ms/step - loss: 0.0437\n",
            "Epoch 78/100\n",
            "17/17 [==============================] - 0s 6ms/step - loss: 0.0433\n",
            "Epoch 79/100\n",
            "17/17 [==============================] - 0s 6ms/step - loss: 0.0636\n",
            "Epoch 80/100\n",
            "17/17 [==============================] - 0s 6ms/step - loss: 0.0491\n",
            "Epoch 81/100\n",
            "17/17 [==============================] - 0s 6ms/step - loss: 0.0401\n",
            "Epoch 82/100\n",
            "17/17 [==============================] - 0s 6ms/step - loss: 0.0435\n",
            "Epoch 83/100\n",
            "17/17 [==============================] - 0s 6ms/step - loss: 0.0397\n",
            "Epoch 84/100\n",
            "17/17 [==============================] - 0s 6ms/step - loss: 0.0408\n",
            "Epoch 85/100\n",
            "17/17 [==============================] - 0s 6ms/step - loss: 0.0394\n",
            "Epoch 86/100\n",
            "17/17 [==============================] - 0s 6ms/step - loss: 0.0426\n",
            "Epoch 87/100\n",
            "17/17 [==============================] - 0s 6ms/step - loss: 0.0423\n",
            "Epoch 88/100\n",
            "17/17 [==============================] - 0s 6ms/step - loss: 0.0414\n",
            "Epoch 89/100\n",
            "17/17 [==============================] - 0s 6ms/step - loss: 0.0389\n",
            "Epoch 90/100\n",
            "17/17 [==============================] - 0s 7ms/step - loss: 0.0389\n",
            "Epoch 91/100\n",
            "17/17 [==============================] - 0s 6ms/step - loss: 0.0393\n",
            "Epoch 92/100\n",
            "17/17 [==============================] - 0s 6ms/step - loss: 0.0522\n",
            "Epoch 93/100\n",
            "17/17 [==============================] - 0s 6ms/step - loss: 0.0454\n",
            "Epoch 94/100\n",
            "17/17 [==============================] - 0s 6ms/step - loss: 0.0395\n",
            "Epoch 95/100\n",
            "17/17 [==============================] - 0s 7ms/step - loss: 0.0442\n",
            "Epoch 96/100\n",
            "17/17 [==============================] - 0s 6ms/step - loss: 0.0380\n",
            "Epoch 97/100\n",
            "17/17 [==============================] - 0s 6ms/step - loss: 0.0430\n",
            "Epoch 98/100\n",
            "17/17 [==============================] - 0s 6ms/step - loss: 0.0408\n",
            "Epoch 99/100\n",
            "17/17 [==============================] - 0s 6ms/step - loss: 0.0372\n",
            "Epoch 100/100\n",
            "17/17 [==============================] - 0s 6ms/step - loss: 0.0362\n"
          ]
        },
        {
          "output_type": "execute_result",
          "data": {
            "text/plain": [
              "<keras.callbacks.History at 0x7f88b4df8c10>"
            ]
          },
          "metadata": {},
          "execution_count": 123
        }
      ]
    },
    {
      "cell_type": "code",
      "metadata": {
        "id": "Jm1LOl6fGuc7"
      },
      "source": [
        "def get_metrics(X,y):\n",
        "  size=X.shape[0]\n",
        "  mse=0.0\n",
        "  mae=0.0\n",
        "  mape=0.0\n",
        "  for i in range(size):\n",
        "    yhat = model.predict(X[i].reshape((1, n_steps, n_features)),verbose=0)\n",
        "    mse+=(yhat-y[i])*(yhat-y[i])\n",
        "    mae+=abs((yhat-y[i]))\n",
        "    mape+=abs((y[i]-yhat)/y[i])\n",
        "  \n",
        "  mse=mse/size\n",
        "  mae=mae/size\n",
        "  mape=mape/size\n",
        "  print(\"MSE= \",mse)\n",
        "  print(\"MAPE= \",mae)\n",
        "  print(\"MAPE= \",mape)"
      ],
      "execution_count": null,
      "outputs": []
    },
    {
      "cell_type": "code",
      "metadata": {
        "colab": {
          "base_uri": "https://localhost:8080/"
        },
        "id": "Q_xfE45TGuc8",
        "outputId": "ae320d9e-0030-478f-cc85-00e04137d4de"
      },
      "source": [
        "get_metrics(X,y)"
      ],
      "execution_count": null,
      "outputs": [
        {
          "output_type": "stream",
          "name": "stdout",
          "text": [
            "MSE=  [[0.03544873]]\n",
            "MAPE=  [[0.14809302]]\n",
            "MAPE=  [[0.05789859]]\n"
          ]
        }
      ]
    },
    {
      "cell_type": "code",
      "metadata": {
        "colab": {
          "base_uri": "https://localhost:8080/"
        },
        "id": "ZG-Q1WseGuc9",
        "outputId": "d9258810-7c34-4912-86cc-7a6cd8704346"
      },
      "source": [
        "print(len(x))\n",
        "print(y.shape)"
      ],
      "execution_count": null,
      "outputs": [
        {
          "output_type": "stream",
          "name": "stdout",
          "text": [
            "516\n",
            "(516, 1)\n"
          ]
        }
      ]
    },
    {
      "cell_type": "code",
      "metadata": {
        "id": "h_KJ6GWGGuc9"
      },
      "source": [
        "size=X.shape[0]\n",
        "yhat=np.zeros(size)\n",
        "for i in range(size):\n",
        "  yhat[i]=(model.predict(X[i].reshape((1, n_steps, n_features)),verbose=0))"
      ],
      "execution_count": null,
      "outputs": []
    },
    {
      "cell_type": "code",
      "metadata": {
        "colab": {
          "base_uri": "https://localhost:8080/"
        },
        "id": "14ja-DsRGuc-",
        "outputId": "085bff78-0f21-41a8-a8cf-7b6a7c14231f"
      },
      "source": [
        "print(yhat[0].shape)"
      ],
      "execution_count": null,
      "outputs": [
        {
          "output_type": "stream",
          "name": "stdout",
          "text": [
            "()\n"
          ]
        }
      ]
    },
    {
      "cell_type": "code",
      "metadata": {
        "colab": {
          "base_uri": "https://localhost:8080/"
        },
        "id": "wNqHsoGvGuc_",
        "outputId": "a9e16f5e-2fb4-4ce0-d65f-f63a5351a550"
      },
      "source": [
        "yhat.shape"
      ],
      "execution_count": null,
      "outputs": [
        {
          "output_type": "execute_result",
          "data": {
            "text/plain": [
              "(516,)"
            ]
          },
          "metadata": {},
          "execution_count": 129
        }
      ]
    },
    {
      "cell_type": "code",
      "metadata": {
        "colab": {
          "base_uri": "https://localhost:8080/",
          "height": 497
        },
        "id": "kmkUNDeIGuc_",
        "outputId": "1c63c31b-1ecb-43c6-90ba-8695432c0979"
      },
      "source": [
        "# x axis values\n",
        "x = list(range(516))\n",
        "plt.figure(figsize=(15, 8))\n",
        "plt.plot(x, y,label='Actual')\n",
        "\n",
        "plt.xlabel('Week')\n",
        "plt.ylabel('Wind Speed')\n",
        "\n",
        "plt.plot(x,yhat,label='Predicted')\n",
        "plt.legend(loc=\"upper right\")\n",
        "from matplotlib.pyplot import figure\n",
        "\n",
        "\n",
        "plt.show()"
      ],
      "execution_count": null,
      "outputs": [
        {
          "output_type": "display_data",
          "data": {
            "image/png": "[encoded data removed]",
            "text/plain": [
              "<Figure size 1080x576 with 1 Axes>"
            ]
          },
          "metadata": {
            "needs_background": "light"
          }
        }
      ]
    },
    {
      "cell_type": "code",
      "metadata": {
        "id": "C4xeVBz0GudA"
      },
      "source": [
        "X, y = split_sequence(df_rj1_test, n_steps)"
      ],
      "execution_count": null,
      "outputs": []
    },
    {
      "cell_type": "code",
      "metadata": {
        "colab": {
          "base_uri": "https://localhost:8080/"
        },
        "id": "bbKV_L0GGudB",
        "outputId": "dc32eaa0-3323-479f-ac8f-215f4149b3c3"
      },
      "source": [
        "get_metrics(X,y)"
      ],
      "execution_count": null,
      "outputs": [
        {
          "output_type": "stream",
          "name": "stdout",
          "text": [
            "MSE=  [[0.04210686]]\n",
            "MAPE=  [[0.15980494]]\n",
            "MAPE=  [[0.05725265]]\n"
          ]
        }
      ]
    },
    {
      "cell_type": "code",
      "metadata": {
        "colab": {
          "base_uri": "https://localhost:8080/"
        },
        "id": "Scq2Q2bXGudB",
        "outputId": "34dc6d9f-b17c-4137-ec47-61edeedf0bd7"
      },
      "source": [
        "print(X[1],y[1])\n",
        "print(model.predict(X[1].reshape((1, n_steps, n_features)),verbose=0))"
      ],
      "execution_count": null,
      "outputs": [
        {
          "output_type": "stream",
          "name": "stdout",
          "text": [
            "[[3.20824577]\n",
            " [2.7320162 ]\n",
            " [2.3543394 ]\n",
            " [2.16630666]] [2.15042238]\n",
            "[[2.058191]]\n"
          ]
        }
      ]
    },
    {
      "cell_type": "code",
      "metadata": {
        "id": "vPiYHrehGudC"
      },
      "source": [
        "import matplotlib.pyplot as plt"
      ],
      "execution_count": null,
      "outputs": []
    },
    {
      "cell_type": "markdown",
      "metadata": {
        "id": "ybanqvspGudC"
      },
      "source": [
        "For Rajasthan5"
      ]
    },
    {
      "cell_type": "code",
      "metadata": {
        "id": "ynnx60Q2G26X"
      },
      "source": [
        ""
      ],
      "execution_count": null,
      "outputs": []
    },
    {
      "cell_type": "code",
      "metadata": {
        "id": "iOqYwZ15G3Iw"
      },
      "source": [
        "df=pd.read_csv('Rajasthan5.csv')"
      ],
      "execution_count": null,
      "outputs": []
    },
    {
      "cell_type": "code",
      "metadata": {
        "id": "lyxLU6tzG3Iy"
      },
      "source": [
        "del df['Unnamed: 0']"
      ],
      "execution_count": null,
      "outputs": []
    },
    {
      "cell_type": "code",
      "metadata": {
        "colab": {
          "base_uri": "https://localhost:8080/",
          "height": 424
        },
        "id": "mEE3Vt5dG3Iz",
        "outputId": "3fa755fa-29df-4799-a860-274913ebf194"
      },
      "source": [
        "df"
      ],
      "execution_count": null,
      "outputs": [
        {
          "output_type": "execute_result",
          "data": {
            "text/html": [
              "<div>\n",
              "<style scoped>\n",
              "    .dataframe tbody tr th:only-of-type {\n",
              "        vertical-align: middle;\n",
              "    }\n",
              "\n",
              "    .dataframe tbody tr th {\n",
              "        vertical-align: top;\n",
              "    }\n",
              "\n",
              "    .dataframe thead th {\n",
              "        text-align: right;\n",
              "    }\n",
              "</style>\n",
              "<table border=\"1\" class=\"dataframe\">\n",
              "  <thead>\n",
              "    <tr style=\"text-align: right;\">\n",
              "      <th></th>\n",
              "      <th>Wind Speed</th>\n",
              "    </tr>\n",
              "  </thead>\n",
              "  <tbody>\n",
              "    <tr>\n",
              "      <th>0</th>\n",
              "      <td>3.297849</td>\n",
              "    </tr>\n",
              "    <tr>\n",
              "      <th>1</th>\n",
              "      <td>3.509373</td>\n",
              "    </tr>\n",
              "    <tr>\n",
              "      <th>2</th>\n",
              "      <td>2.420728</td>\n",
              "    </tr>\n",
              "    <tr>\n",
              "      <th>3</th>\n",
              "      <td>2.562473</td>\n",
              "    </tr>\n",
              "    <tr>\n",
              "      <th>4</th>\n",
              "      <td>3.345174</td>\n",
              "    </tr>\n",
              "    <tr>\n",
              "      <th>...</th>\n",
              "      <td>...</td>\n",
              "    </tr>\n",
              "    <tr>\n",
              "      <th>5105</th>\n",
              "      <td>1.331392</td>\n",
              "    </tr>\n",
              "    <tr>\n",
              "      <th>5106</th>\n",
              "      <td>1.370222</td>\n",
              "    </tr>\n",
              "    <tr>\n",
              "      <th>5107</th>\n",
              "      <td>1.627515</td>\n",
              "    </tr>\n",
              "    <tr>\n",
              "      <th>5108</th>\n",
              "      <td>2.886212</td>\n",
              "    </tr>\n",
              "    <tr>\n",
              "      <th>5109</th>\n",
              "      <td>3.463374</td>\n",
              "    </tr>\n",
              "  </tbody>\n",
              "</table>\n",
              "<p>5110 rows × 1 columns</p>\n",
              "</div>"
            ],
            "text/plain": [
              "      Wind Speed\n",
              "0       3.297849\n",
              "1       3.509373\n",
              "2       2.420728\n",
              "3       2.562473\n",
              "4       3.345174\n",
              "...          ...\n",
              "5105    1.331392\n",
              "5106    1.370222\n",
              "5107    1.627515\n",
              "5108    2.886212\n",
              "5109    3.463374\n",
              "\n",
              "[5110 rows x 1 columns]"
            ]
          },
          "metadata": {},
          "execution_count": 137
        }
      ]
    },
    {
      "cell_type": "code",
      "metadata": {
        "id": "5STy1WWlG3I1"
      },
      "source": [
        "df_rj1=pd.DataFrame(columns=['Wind Speed'])"
      ],
      "execution_count": null,
      "outputs": []
    },
    {
      "cell_type": "code",
      "metadata": {
        "id": "PgbYs5EQG3I2"
      },
      "source": [
        "for i in range(int(len(df)/7)):\n",
        "  sum=0.0\n",
        "  for j in range(7):\n",
        "    if j>int(len(df)):\n",
        "      break\n",
        "    sum+=df['Wind Speed'].iloc[i+j]\n",
        "  sum=sum/7\n",
        "  df_rj1=df_rj1.append({'Wind Speed': sum}, ignore_index=True)"
      ],
      "execution_count": null,
      "outputs": []
    },
    {
      "cell_type": "code",
      "metadata": {
        "colab": {
          "base_uri": "https://localhost:8080/",
          "height": 424
        },
        "id": "kHC94H6IG3I4",
        "outputId": "dccb7dd4-40c6-43a9-c735-cb61f3a2bcaa"
      },
      "source": [
        "df_rj1"
      ],
      "execution_count": null,
      "outputs": [
        {
          "output_type": "execute_result",
          "data": {
            "text/html": [
              "<div>\n",
              "<style scoped>\n",
              "    .dataframe tbody tr th:only-of-type {\n",
              "        vertical-align: middle;\n",
              "    }\n",
              "\n",
              "    .dataframe tbody tr th {\n",
              "        vertical-align: top;\n",
              "    }\n",
              "\n",
              "    .dataframe thead th {\n",
              "        text-align: right;\n",
              "    }\n",
              "</style>\n",
              "<table border=\"1\" class=\"dataframe\">\n",
              "  <thead>\n",
              "    <tr style=\"text-align: right;\">\n",
              "      <th></th>\n",
              "      <th>Wind Speed</th>\n",
              "    </tr>\n",
              "  </thead>\n",
              "  <tbody>\n",
              "    <tr>\n",
              "      <th>0</th>\n",
              "      <td>3.034748</td>\n",
              "    </tr>\n",
              "    <tr>\n",
              "      <th>1</th>\n",
              "      <td>2.925654</td>\n",
              "    </tr>\n",
              "    <tr>\n",
              "      <th>2</th>\n",
              "      <td>2.808413</td>\n",
              "    </tr>\n",
              "    <tr>\n",
              "      <th>3</th>\n",
              "      <td>2.810027</td>\n",
              "    </tr>\n",
              "    <tr>\n",
              "      <th>4</th>\n",
              "      <td>2.628054</td>\n",
              "    </tr>\n",
              "    <tr>\n",
              "      <th>...</th>\n",
              "      <td>...</td>\n",
              "    </tr>\n",
              "    <tr>\n",
              "      <th>725</th>\n",
              "      <td>2.373680</td>\n",
              "    </tr>\n",
              "    <tr>\n",
              "      <th>726</th>\n",
              "      <td>2.177523</td>\n",
              "    </tr>\n",
              "    <tr>\n",
              "      <th>727</th>\n",
              "      <td>2.063401</td>\n",
              "    </tr>\n",
              "    <tr>\n",
              "      <th>728</th>\n",
              "      <td>2.103298</td>\n",
              "    </tr>\n",
              "    <tr>\n",
              "      <th>729</th>\n",
              "      <td>2.159287</td>\n",
              "    </tr>\n",
              "  </tbody>\n",
              "</table>\n",
              "<p>730 rows × 1 columns</p>\n",
              "</div>"
            ],
            "text/plain": [
              "     Wind Speed\n",
              "0      3.034748\n",
              "1      2.925654\n",
              "2      2.808413\n",
              "3      2.810027\n",
              "4      2.628054\n",
              "..          ...\n",
              "725    2.373680\n",
              "726    2.177523\n",
              "727    2.063401\n",
              "728    2.103298\n",
              "729    2.159287\n",
              "\n",
              "[730 rows x 1 columns]"
            ]
          },
          "metadata": {},
          "execution_count": 140
        }
      ]
    },
    {
      "cell_type": "code",
      "metadata": {
        "id": "Y6lICQSMG3I5"
      },
      "source": [
        "df_rj1_train=df_rj1[0:520]\n",
        "df_rj1_test=df_rj1[520:]"
      ],
      "execution_count": null,
      "outputs": []
    },
    {
      "cell_type": "code",
      "metadata": {
        "id": "waxNKJC_G3I7"
      },
      "source": [
        "X, y = split_sequence(df_rj1_train, n_steps)"
      ],
      "execution_count": null,
      "outputs": []
    },
    {
      "cell_type": "code",
      "metadata": {
        "colab": {
          "base_uri": "https://localhost:8080/"
        },
        "id": "eYD1bE0BG3I8",
        "outputId": "643007b2-2630-4302-c8c1-3c7457f864e2"
      },
      "source": [
        "X.shape"
      ],
      "execution_count": null,
      "outputs": [
        {
          "output_type": "execute_result",
          "data": {
            "text/plain": [
              "(516, 4, 1)"
            ]
          },
          "metadata": {},
          "execution_count": 143
        }
      ]
    },
    {
      "cell_type": "code",
      "metadata": {
        "colab": {
          "base_uri": "https://localhost:8080/"
        },
        "id": "8kBVQBC-G3I9",
        "outputId": "c07beee9-e0cd-46ce-cd57-fdd385f954f3"
      },
      "source": [
        "# reshape from [samples, timesteps] into [samples, timesteps, features]\n",
        "n_features = 1\n",
        "X = X.reshape((X.shape[0], X.shape[1], n_features))\n",
        "# define model\n",
        "model = Sequential()\n",
        "model.add(LSTM(50, activation='relu', return_sequences=True, input_shape=(n_steps, n_features)))\n",
        "model.add(LSTM(50, activation='relu'))\n",
        "model.add(Dense(1))\n",
        "model.compile(optimizer='adam', loss='mse')\n",
        "# fit model\n",
        "model.fit(X, y, epochs=100, verbose=1)"
      ],
      "execution_count": null,
      "outputs": [
        {
          "output_type": "stream",
          "name": "stdout",
          "text": [
            "Epoch 1/100\n",
            "17/17 [==============================] - 2s 7ms/step - loss: 7.4809\n",
            "Epoch 2/100\n",
            "17/17 [==============================] - 0s 6ms/step - loss: 3.4242\n",
            "Epoch 3/100\n",
            "17/17 [==============================] - 0s 7ms/step - loss: 1.3074\n",
            "Epoch 4/100\n",
            "17/17 [==============================] - 0s 7ms/step - loss: 0.7139\n",
            "Epoch 5/100\n",
            "17/17 [==============================] - 0s 6ms/step - loss: 0.4934\n",
            "Epoch 6/100\n",
            "17/17 [==============================] - 0s 7ms/step - loss: 0.3480\n",
            "Epoch 7/100\n",
            "17/17 [==============================] - 0s 7ms/step - loss: 0.2640\n",
            "Epoch 8/100\n",
            "17/17 [==============================] - 0s 7ms/step - loss: 0.2173\n",
            "Epoch 9/100\n",
            "17/17 [==============================] - 0s 7ms/step - loss: 0.1769\n",
            "Epoch 10/100\n",
            "17/17 [==============================] - 0s 7ms/step - loss: 0.1501\n",
            "Epoch 11/100\n",
            "17/17 [==============================] - 0s 7ms/step - loss: 0.1430\n",
            "Epoch 12/100\n",
            "17/17 [==============================] - 0s 7ms/step - loss: 0.1420\n",
            "Epoch 13/100\n",
            "17/17 [==============================] - 0s 7ms/step - loss: 0.1320\n",
            "Epoch 14/100\n",
            "17/17 [==============================] - 0s 7ms/step - loss: 0.1246\n",
            "Epoch 15/100\n",
            "17/17 [==============================] - 0s 6ms/step - loss: 0.1237\n",
            "Epoch 16/100\n",
            "17/17 [==============================] - 0s 6ms/step - loss: 0.1214\n",
            "Epoch 17/100\n",
            "17/17 [==============================] - 0s 7ms/step - loss: 0.1187\n",
            "Epoch 18/100\n",
            "17/17 [==============================] - 0s 7ms/step - loss: 0.1190\n",
            "Epoch 19/100\n",
            "17/17 [==============================] - 0s 7ms/step - loss: 0.1148\n",
            "Epoch 20/100\n",
            "17/17 [==============================] - 0s 6ms/step - loss: 0.1130\n",
            "Epoch 21/100\n",
            "17/17 [==============================] - 0s 7ms/step - loss: 0.1098\n",
            "Epoch 22/100\n",
            "17/17 [==============================] - 0s 7ms/step - loss: 0.1044\n",
            "Epoch 23/100\n",
            "17/17 [==============================] - 0s 6ms/step - loss: 0.1088\n",
            "Epoch 24/100\n",
            "17/17 [==============================] - 0s 7ms/step - loss: 0.1015\n",
            "Epoch 25/100\n",
            "17/17 [==============================] - 0s 7ms/step - loss: 0.1016\n",
            "Epoch 26/100\n",
            "17/17 [==============================] - 0s 7ms/step - loss: 0.0999\n",
            "Epoch 27/100\n",
            "17/17 [==============================] - 0s 7ms/step - loss: 0.0975\n",
            "Epoch 28/100\n",
            "17/17 [==============================] - 0s 7ms/step - loss: 0.0959\n",
            "Epoch 29/100\n",
            "17/17 [==============================] - 0s 7ms/step - loss: 0.1009\n",
            "Epoch 30/100\n",
            "17/17 [==============================] - 0s 7ms/step - loss: 0.0833\n",
            "Epoch 31/100\n",
            "17/17 [==============================] - 0s 7ms/step - loss: 0.0857\n",
            "Epoch 32/100\n",
            "17/17 [==============================] - 0s 7ms/step - loss: 0.0747\n",
            "Epoch 33/100\n",
            "17/17 [==============================] - 0s 8ms/step - loss: 0.0704\n",
            "Epoch 34/100\n",
            "17/17 [==============================] - 0s 7ms/step - loss: 0.0667\n",
            "Epoch 35/100\n",
            "17/17 [==============================] - 0s 7ms/step - loss: 0.0654\n",
            "Epoch 36/100\n",
            "17/17 [==============================] - 0s 7ms/step - loss: 0.0645\n",
            "Epoch 37/100\n",
            "17/17 [==============================] - 0s 7ms/step - loss: 0.0642\n",
            "Epoch 38/100\n",
            "17/17 [==============================] - 0s 8ms/step - loss: 0.0570\n",
            "Epoch 39/100\n",
            "17/17 [==============================] - 0s 7ms/step - loss: 0.0561\n",
            "Epoch 40/100\n",
            "17/17 [==============================] - 0s 7ms/step - loss: 0.0553\n",
            "Epoch 41/100\n",
            "17/17 [==============================] - 0s 7ms/step - loss: 0.0557\n",
            "Epoch 42/100\n",
            "17/17 [==============================] - 0s 8ms/step - loss: 0.0576\n",
            "Epoch 43/100\n",
            "17/17 [==============================] - 0s 7ms/step - loss: 0.0559\n",
            "Epoch 44/100\n",
            "17/17 [==============================] - 0s 8ms/step - loss: 0.0573\n",
            "Epoch 45/100\n",
            "17/17 [==============================] - 0s 7ms/step - loss: 0.0658\n",
            "Epoch 46/100\n",
            "17/17 [==============================] - 0s 7ms/step - loss: 0.0571\n",
            "Epoch 47/100\n",
            "17/17 [==============================] - 0s 6ms/step - loss: 0.0558\n",
            "Epoch 48/100\n",
            "17/17 [==============================] - 0s 6ms/step - loss: 0.0517\n",
            "Epoch 49/100\n",
            "17/17 [==============================] - 0s 6ms/step - loss: 0.0556\n",
            "Epoch 50/100\n",
            "17/17 [==============================] - 0s 7ms/step - loss: 0.0522\n",
            "Epoch 51/100\n",
            "17/17 [==============================] - 0s 7ms/step - loss: 0.0552\n",
            "Epoch 52/100\n",
            "17/17 [==============================] - 0s 6ms/step - loss: 0.0531\n",
            "Epoch 53/100\n",
            "17/17 [==============================] - 0s 7ms/step - loss: 0.0505\n",
            "Epoch 54/100\n",
            "17/17 [==============================] - 0s 7ms/step - loss: 0.0600\n",
            "Epoch 55/100\n",
            "17/17 [==============================] - 0s 6ms/step - loss: 0.0659\n",
            "Epoch 56/100\n",
            "17/17 [==============================] - 0s 6ms/step - loss: 0.0551\n",
            "Epoch 57/100\n",
            "17/17 [==============================] - 0s 7ms/step - loss: 0.0499\n",
            "Epoch 58/100\n",
            "17/17 [==============================] - 0s 6ms/step - loss: 0.0494\n",
            "Epoch 59/100\n",
            "17/17 [==============================] - 0s 7ms/step - loss: 0.0577\n",
            "Epoch 60/100\n",
            "17/17 [==============================] - 0s 7ms/step - loss: 0.0639\n",
            "Epoch 61/100\n",
            "17/17 [==============================] - 0s 7ms/step - loss: 0.0471\n",
            "Epoch 62/100\n",
            "17/17 [==============================] - 0s 7ms/step - loss: 0.0494\n",
            "Epoch 63/100\n",
            "17/17 [==============================] - 0s 7ms/step - loss: 0.0480\n",
            "Epoch 64/100\n",
            "17/17 [==============================] - 0s 8ms/step - loss: 0.0498\n",
            "Epoch 65/100\n",
            "17/17 [==============================] - 0s 8ms/step - loss: 0.0506\n",
            "Epoch 66/100\n",
            "17/17 [==============================] - 0s 7ms/step - loss: 0.0509\n",
            "Epoch 67/100\n",
            "17/17 [==============================] - 0s 7ms/step - loss: 0.0453\n",
            "Epoch 68/100\n",
            "17/17 [==============================] - 0s 7ms/step - loss: 0.0486\n",
            "Epoch 69/100\n",
            "17/17 [==============================] - 0s 7ms/step - loss: 0.0469\n",
            "Epoch 70/100\n",
            "17/17 [==============================] - 0s 7ms/step - loss: 0.0438\n",
            "Epoch 71/100\n",
            "17/17 [==============================] - 0s 8ms/step - loss: 0.0488\n",
            "Epoch 72/100\n",
            "17/17 [==============================] - 0s 8ms/step - loss: 0.0508\n",
            "Epoch 73/100\n",
            "17/17 [==============================] - 0s 9ms/step - loss: 0.0489\n",
            "Epoch 74/100\n",
            "17/17 [==============================] - 0s 7ms/step - loss: 0.0462\n",
            "Epoch 75/100\n",
            "17/17 [==============================] - 0s 7ms/step - loss: 0.0418\n",
            "Epoch 76/100\n",
            "17/17 [==============================] - 0s 7ms/step - loss: 0.0517\n",
            "Epoch 77/100\n",
            "17/17 [==============================] - 0s 7ms/step - loss: 0.0468\n",
            "Epoch 78/100\n",
            "17/17 [==============================] - 0s 6ms/step - loss: 0.0459\n",
            "Epoch 79/100\n",
            "17/17 [==============================] - 0s 6ms/step - loss: 0.0425\n",
            "Epoch 80/100\n",
            "17/17 [==============================] - 0s 7ms/step - loss: 0.0464\n",
            "Epoch 81/100\n",
            "17/17 [==============================] - 0s 7ms/step - loss: 0.0420\n",
            "Epoch 82/100\n",
            "17/17 [==============================] - 0s 7ms/step - loss: 0.0386\n",
            "Epoch 83/100\n",
            "17/17 [==============================] - 0s 7ms/step - loss: 0.0385\n",
            "Epoch 84/100\n",
            "17/17 [==============================] - 0s 7ms/step - loss: 0.0394\n",
            "Epoch 85/100\n",
            "17/17 [==============================] - 0s 7ms/step - loss: 0.0408\n",
            "Epoch 86/100\n",
            "17/17 [==============================] - 0s 7ms/step - loss: 0.0372\n",
            "Epoch 87/100\n",
            "17/17 [==============================] - 0s 8ms/step - loss: 0.0370\n",
            "Epoch 88/100\n",
            "17/17 [==============================] - 0s 7ms/step - loss: 0.0388\n",
            "Epoch 89/100\n",
            "17/17 [==============================] - 0s 7ms/step - loss: 0.0367\n",
            "Epoch 90/100\n",
            "17/17 [==============================] - 0s 6ms/step - loss: 0.0376\n",
            "Epoch 91/100\n",
            "17/17 [==============================] - 0s 7ms/step - loss: 0.0347\n",
            "Epoch 92/100\n",
            "17/17 [==============================] - 0s 7ms/step - loss: 0.0352\n",
            "Epoch 93/100\n",
            "17/17 [==============================] - 0s 9ms/step - loss: 0.0333\n",
            "Epoch 94/100\n",
            "17/17 [==============================] - 0s 8ms/step - loss: 0.0345\n",
            "Epoch 95/100\n",
            "17/17 [==============================] - 0s 7ms/step - loss: 0.0401\n",
            "Epoch 96/100\n",
            "17/17 [==============================] - 0s 8ms/step - loss: 0.0337\n",
            "Epoch 97/100\n",
            "17/17 [==============================] - 0s 7ms/step - loss: 0.0326\n",
            "Epoch 98/100\n",
            "17/17 [==============================] - 0s 8ms/step - loss: 0.0304\n",
            "Epoch 99/100\n",
            "17/17 [==============================] - 0s 7ms/step - loss: 0.0310\n",
            "Epoch 100/100\n",
            "17/17 [==============================] - 0s 6ms/step - loss: 0.0343\n"
          ]
        },
        {
          "output_type": "execute_result",
          "data": {
            "text/plain": [
              "<keras.callbacks.History at 0x7f88b9112510>"
            ]
          },
          "metadata": {},
          "execution_count": 144
        }
      ]
    },
    {
      "cell_type": "code",
      "metadata": {
        "id": "n_1gDZocG3JB"
      },
      "source": [
        "def get_metrics(X,y):\n",
        "  size=X.shape[0]\n",
        "  mse=0.0\n",
        "  mae=0.0\n",
        "  mape=0.0\n",
        "  for i in range(size):\n",
        "    yhat = model.predict(X[i].reshape((1, n_steps, n_features)),verbose=0)\n",
        "    mse+=(yhat-y[i])*(yhat-y[i])\n",
        "    mae+=abs((yhat-y[i]))\n",
        "    mape+=abs((y[i]-yhat)/y[i])\n",
        "  \n",
        "  mse=mse/size\n",
        "  mae=mae/size\n",
        "  mape=mape/size\n",
        "  print(\"MSE= \",mse)\n",
        "  print(\"MAPE= \",mae)\n",
        "  print(\"MAPE= \",mape)"
      ],
      "execution_count": null,
      "outputs": []
    },
    {
      "cell_type": "code",
      "metadata": {
        "colab": {
          "base_uri": "https://localhost:8080/"
        },
        "id": "_B0Zr-7PG3JB",
        "outputId": "c410b01d-912f-41f0-94b2-cc6f7e036faf"
      },
      "source": [
        "get_metrics(X,y)"
      ],
      "execution_count": null,
      "outputs": [
        {
          "output_type": "stream",
          "name": "stdout",
          "text": [
            "MSE=  [[0.03847073]]\n",
            "MAPE=  [[0.15856412]]\n",
            "MAPE=  [[0.06158661]]\n"
          ]
        }
      ]
    },
    {
      "cell_type": "code",
      "metadata": {
        "colab": {
          "base_uri": "https://localhost:8080/"
        },
        "id": "W0yfi_UOG3JC",
        "outputId": "0f1f7839-af2c-4bd3-a286-85f79e967fcb"
      },
      "source": [
        "print(len(x))\n",
        "print(y.shape)"
      ],
      "execution_count": null,
      "outputs": [
        {
          "output_type": "stream",
          "name": "stdout",
          "text": [
            "516\n",
            "(516, 1)\n"
          ]
        }
      ]
    },
    {
      "cell_type": "code",
      "metadata": {
        "id": "YtTSk_McG3JD"
      },
      "source": [
        "size=X.shape[0]\n",
        "yhat=np.zeros(size)\n",
        "for i in range(size):\n",
        "  yhat[i]=(model.predict(X[i].reshape((1, n_steps, n_features)),verbose=0))"
      ],
      "execution_count": null,
      "outputs": []
    },
    {
      "cell_type": "code",
      "metadata": {
        "colab": {
          "base_uri": "https://localhost:8080/"
        },
        "id": "BLD5Bx5HG3JE",
        "outputId": "6c528536-3c7e-4ed0-fa2c-32b8ebd2800b"
      },
      "source": [
        "print(yhat[0].shape)"
      ],
      "execution_count": null,
      "outputs": [
        {
          "output_type": "stream",
          "name": "stdout",
          "text": [
            "()\n"
          ]
        }
      ]
    },
    {
      "cell_type": "code",
      "metadata": {
        "colab": {
          "base_uri": "https://localhost:8080/"
        },
        "id": "k5877RoDG3JF",
        "outputId": "cc665395-b85d-41bb-a9ae-480cff3fb569"
      },
      "source": [
        "yhat.shape"
      ],
      "execution_count": null,
      "outputs": [
        {
          "output_type": "execute_result",
          "data": {
            "text/plain": [
              "(516,)"
            ]
          },
          "metadata": {},
          "execution_count": 150
        }
      ]
    },
    {
      "cell_type": "code",
      "metadata": {
        "colab": {
          "base_uri": "https://localhost:8080/",
          "height": 500
        },
        "id": "qlSSVl8gG3JF",
        "outputId": "cfe1d02f-9198-4f41-bbd1-61e2533a739b"
      },
      "source": [
        "# x axis values\n",
        "x = list(range(516))\n",
        "plt.figure(figsize=(15, 8))\n",
        "plt.plot(x, y,label='Actual')\n",
        "\n",
        "plt.xlabel('Week')\n",
        "plt.ylabel('Wind Speed')\n",
        "\n",
        "plt.plot(x,yhat,label='Predicted')\n",
        "plt.legend(loc=\"upper right\")\n",
        "from matplotlib.pyplot import figure\n",
        "\n",
        "\n",
        "plt.show()"
      ],
      "execution_count": null,
      "outputs": [
        {
          "output_type": "display_data",
          "data": {
            "image/png": "[encoded data removed]",
            "text/plain": [
              "<Figure size 1080x576 with 1 Axes>"
            ]
          },
          "metadata": {
            "needs_background": "light"
          }
        }
      ]
    },
    {
      "cell_type": "code",
      "metadata": {
        "id": "YR2DdyQEG3JG"
      },
      "source": [
        "X, y = split_sequence(df_rj1_test, n_steps)"
      ],
      "execution_count": null,
      "outputs": []
    },
    {
      "cell_type": "code",
      "metadata": {
        "colab": {
          "base_uri": "https://localhost:8080/"
        },
        "id": "D45dTFiYG3JH",
        "outputId": "a791dc3f-6d4f-4825-c39d-d7f04210b28b"
      },
      "source": [
        "get_metrics(X,y)"
      ],
      "execution_count": null,
      "outputs": [
        {
          "output_type": "stream",
          "name": "stdout",
          "text": [
            "MSE=  [[0.05317394]]\n",
            "MAPE=  [[0.17790904]]\n",
            "MAPE=  [[0.07402492]]\n"
          ]
        }
      ]
    },
    {
      "cell_type": "code",
      "metadata": {
        "colab": {
          "base_uri": "https://localhost:8080/"
        },
        "id": "6FI7UmZjG3JI",
        "outputId": "d7980f1e-5634-49a3-a3e3-207c3179bbbb"
      },
      "source": [
        "print(X[1],y[1])\n",
        "print(model.predict(X[1].reshape((1, n_steps, n_features)),verbose=0))"
      ],
      "execution_count": null,
      "outputs": [
        {
          "output_type": "stream",
          "name": "stdout",
          "text": [
            "[[4.87376624]\n",
            " [4.84847486]\n",
            " [4.89891203]\n",
            " [5.03554514]] [5.30859604]\n",
            "[[5.2148247]]\n"
          ]
        }
      ]
    },
    {
      "cell_type": "code",
      "metadata": {
        "id": "g1rDZoOXG3JJ"
      },
      "source": [
        "import matplotlib.pyplot as plt"
      ],
      "execution_count": null,
      "outputs": []
    },
    {
      "cell_type": "markdown",
      "metadata": {
        "id": "qLFrTY08G3JJ"
      },
      "source": [
        "For Rajasthan3"
      ]
    }
  ]
}