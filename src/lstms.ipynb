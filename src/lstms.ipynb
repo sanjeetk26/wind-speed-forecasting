{
  "nbformat": 4,
  "nbformat_minor": 0,
  "metadata": {
    "colab": {
      "name": "implementation1.ipynb",
      "provenance": []
    },
    "kernelspec": {
      "name": "python3",
      "display_name": "Python 3"
    },
    "language_info": {
      "name": "python"
    }
  },
  "cells": [
    {
      "cell_type": "code",
      "metadata": {
        "colab": {
          "base_uri": "https://localhost:8080/"
        },
        "id": "GnAfMpaW21ef",
        "outputId": "1777ee94-d214-4184-d559-a7502f41000f"
      },
      "source": [
        "%cd /content/drive/MyDrive/Projects/wind_speed_forecasting/implementation1_univariate_single_step"
      ],
      "execution_count": null,
      "outputs": [
        {
          "output_type": "stream",
          "name": "stdout",
          "text": [
            "/content/drive/MyDrive/Projects/wind_speed_forecasting/implementation1_univariate_single_step\n"
          ]
        }
      ]
    },
    {
      "cell_type": "code",
      "metadata": {
        "id": "WIXQRHMo3_5w"
      },
      "source": [
        "import pandas as pd"
      ],
      "execution_count": null,
      "outputs": []
    },
    {
      "cell_type": "code",
      "metadata": {
        "colab": {
          "base_uri": "https://localhost:8080/"
        },
        "id": "68qMeObWQVq-",
        "outputId": "4fe37753-ecb4-4517-b5de-619f61964a9b"
      },
      "source": [
        "!ls"
      ],
      "execution_count": null,
      "outputs": [
        {
          "output_type": "stream",
          "name": "stdout",
          "text": [
            "data\t\t       Rajasthan1.csv  Rajasthan3.csv  Rajasthan5.csv\n",
            "implementation1.ipynb  Rajasthan2.csv  Rajasthan4.csv\n"
          ]
        }
      ]
    },
    {
      "cell_type": "markdown",
      "metadata": {
        "id": "GYW0BGs58kO5"
      },
      "source": [
        "Data Prep"
      ]
    },
    {
      "cell_type": "code",
      "metadata": {
        "colab": {
          "base_uri": "https://localhost:8080/",
          "height": 132
        },
        "id": "1tQDOg8qrfk-",
        "outputId": "7b4794ed-4790-480b-bfb3-abdb8f6e9956"
      },
      "source": [
        "Making the daily data"
      ],
      "execution_count": null,
      "outputs": [
        {
          "output_type": "error",
          "ename": "SyntaxError",
          "evalue": "ignored",
          "traceback": [
            "\u001b[0;36m  File \u001b[0;32m\"<ipython-input-99-a5f8c1959a16>\"\u001b[0;36m, line \u001b[0;32m1\u001b[0m\n\u001b[0;31m    Making the daily data\u001b[0m\n\u001b[0m             ^\u001b[0m\n\u001b[0;31mSyntaxError\u001b[0m\u001b[0;31m:\u001b[0m invalid syntax\n"
          ]
        }
      ]
    },
    {
      "cell_type": "code",
      "metadata": {
        "colab": {
          "base_uri": "https://localhost:8080/"
        },
        "id": "rcGqxK4xaw3K",
        "outputId": "cf9f63f3-3b26-49a9-eeb0-41b114489f30"
      },
      "source": [
        "import os\n",
        "\n",
        "folders = os.listdir('./data')\n",
        "print(arr)\n",
        "\n",
        "for x in folders:\n",
        "  files=os.listdir('./data/'+x)\n",
        "  df_main=pd.DataFrame(columns=['Wind Speed'])\n",
        "\n",
        "  for y in files:\n",
        "    f1=pd.read_csv('./data/'+x+'/'+y, skiprows=[0,1])\n",
        "    for i in range(int(len(f1)/24)): #loopng over days\n",
        "      sum=0.0\n",
        "      for j in range(24): #looping over hours\n",
        "        sum+=f1['Wind Speed'].iloc[i*24+j]\n",
        "      # print(sum)\n",
        "      sum=sum/24\n",
        "      df_main=df_main.append({'Wind Speed': sum}, ignore_index=True)\n",
        "  df_main.to_csv(x+'.csv')\n",
        "  \n"
      ],
      "execution_count": null,
      "outputs": [
        {
          "output_type": "stream",
          "name": "stdout",
          "text": [
            "['Rajasthan5', 'Rajasthan4', 'Rajasthan3', 'Rajasthan2', 'Rajasthan1']\n"
          ]
        }
      ]
    },
    {
      "cell_type": "code",
      "metadata": {
        "id": "aoD54y6sZmXT"
      },
      "source": [
        ""
      ],
      "execution_count": null,
      "outputs": []
    },
    {
      "cell_type": "markdown",
      "metadata": {
        "id": "hyctTOBBUOqj"
      },
      "source": [
        "Ignore this part \n",
        "\n",
        "\n",
        "vvvvvvvvvvvvvvvvvvvvvvvvvvvvvvvvvvvvvvvvvvvvvvvvvvvvvvvvvvvvvvvvvvvvvvvvvvvvvvvvvvvvvv"
      ]
    },
    {
      "cell_type": "code",
      "metadata": {
        "id": "mW2BoSsSUNmy"
      },
      "source": [
        "ddf1=pd.read_csv('data/Rajasthan3/20012_26.25_73.05_2001.csv', skiprows=[0,1])"
      ],
      "execution_count": null,
      "outputs": []
    },
    {
      "cell_type": "code",
      "metadata": {
        "colab": {
          "base_uri": "https://localhost:8080/",
          "height": 441
        },
        "id": "SdkTDY-CWwYn",
        "outputId": "87c21e12-ae68-41cf-d4c1-405a35d02e80"
      },
      "source": [
        "ddf1"
      ],
      "execution_count": null,
      "outputs": [
        {
          "output_type": "execute_result",
          "data": {
            "text/html": [
              "<div>\n",
              "<style scoped>\n",
              "    .dataframe tbody tr th:only-of-type {\n",
              "        vertical-align: middle;\n",
              "    }\n",
              "\n",
              "    .dataframe tbody tr th {\n",
              "        vertical-align: top;\n",
              "    }\n",
              "\n",
              "    .dataframe thead th {\n",
              "        text-align: right;\n",
              "    }\n",
              "</style>\n",
              "<table border=\"1\" class=\"dataframe\">\n",
              "  <thead>\n",
              "    <tr style=\"text-align: right;\">\n",
              "      <th></th>\n",
              "      <th>Year</th>\n",
              "      <th>Month</th>\n",
              "      <th>Day</th>\n",
              "      <th>Hour</th>\n",
              "      <th>Minute</th>\n",
              "      <th>DHI</th>\n",
              "      <th>DNI</th>\n",
              "      <th>GHI</th>\n",
              "      <th>Clearsky DHI</th>\n",
              "      <th>Clearsky DNI</th>\n",
              "      <th>Clearsky GHI</th>\n",
              "      <th>Dew Point</th>\n",
              "      <th>Temperature</th>\n",
              "      <th>Pressure</th>\n",
              "      <th>Relative Humidity</th>\n",
              "      <th>Solar Zenith Angle</th>\n",
              "      <th>Snow Depth</th>\n",
              "      <th>Wind Speed</th>\n",
              "      <th>Unnamed: 18</th>\n",
              "    </tr>\n",
              "  </thead>\n",
              "  <tbody>\n",
              "    <tr>\n",
              "      <th>0</th>\n",
              "      <td>2001</td>\n",
              "      <td>1</td>\n",
              "      <td>1</td>\n",
              "      <td>0</td>\n",
              "      <td>0</td>\n",
              "      <td>0</td>\n",
              "      <td>0</td>\n",
              "      <td>0</td>\n",
              "      <td>0</td>\n",
              "      <td>0</td>\n",
              "      <td>0</td>\n",
              "      <td>-7</td>\n",
              "      <td>13.745028</td>\n",
              "      <td>990.664917</td>\n",
              "      <td>23.074011</td>\n",
              "      <td>175.937436</td>\n",
              "      <td>0</td>\n",
              "      <td>3.468779</td>\n",
              "      <td>NaN</td>\n",
              "    </tr>\n",
              "    <tr>\n",
              "      <th>1</th>\n",
              "      <td>2001</td>\n",
              "      <td>1</td>\n",
              "      <td>1</td>\n",
              "      <td>1</td>\n",
              "      <td>0</td>\n",
              "      <td>0</td>\n",
              "      <td>0</td>\n",
              "      <td>0</td>\n",
              "      <td>0</td>\n",
              "      <td>0</td>\n",
              "      <td>0</td>\n",
              "      <td>-7</td>\n",
              "      <td>13.100408</td>\n",
              "      <td>990.351440</td>\n",
              "      <td>23.548584</td>\n",
              "      <td>168.426404</td>\n",
              "      <td>0</td>\n",
              "      <td>3.510417</td>\n",
              "      <td>NaN</td>\n",
              "    </tr>\n",
              "    <tr>\n",
              "      <th>2</th>\n",
              "      <td>2001</td>\n",
              "      <td>1</td>\n",
              "      <td>1</td>\n",
              "      <td>2</td>\n",
              "      <td>0</td>\n",
              "      <td>0</td>\n",
              "      <td>0</td>\n",
              "      <td>0</td>\n",
              "      <td>0</td>\n",
              "      <td>0</td>\n",
              "      <td>0</td>\n",
              "      <td>-7</td>\n",
              "      <td>12.506230</td>\n",
              "      <td>990.102417</td>\n",
              "      <td>23.780712</td>\n",
              "      <td>155.082913</td>\n",
              "      <td>0</td>\n",
              "      <td>3.519412</td>\n",
              "      <td>NaN</td>\n",
              "    </tr>\n",
              "    <tr>\n",
              "      <th>3</th>\n",
              "      <td>2001</td>\n",
              "      <td>1</td>\n",
              "      <td>1</td>\n",
              "      <td>3</td>\n",
              "      <td>0</td>\n",
              "      <td>0</td>\n",
              "      <td>0</td>\n",
              "      <td>0</td>\n",
              "      <td>0</td>\n",
              "      <td>0</td>\n",
              "      <td>0</td>\n",
              "      <td>-8</td>\n",
              "      <td>11.989790</td>\n",
              "      <td>989.884827</td>\n",
              "      <td>23.917717</td>\n",
              "      <td>141.645772</td>\n",
              "      <td>0</td>\n",
              "      <td>3.532073</td>\n",
              "      <td>NaN</td>\n",
              "    </tr>\n",
              "    <tr>\n",
              "      <th>4</th>\n",
              "      <td>2001</td>\n",
              "      <td>1</td>\n",
              "      <td>1</td>\n",
              "      <td>4</td>\n",
              "      <td>0</td>\n",
              "      <td>0</td>\n",
              "      <td>0</td>\n",
              "      <td>0</td>\n",
              "      <td>0</td>\n",
              "      <td>0</td>\n",
              "      <td>0</td>\n",
              "      <td>-8</td>\n",
              "      <td>11.537240</td>\n",
              "      <td>989.897583</td>\n",
              "      <td>24.119246</td>\n",
              "      <td>128.304109</td>\n",
              "      <td>0</td>\n",
              "      <td>3.579910</td>\n",
              "      <td>NaN</td>\n",
              "    </tr>\n",
              "    <tr>\n",
              "      <th>...</th>\n",
              "      <td>...</td>\n",
              "      <td>...</td>\n",
              "      <td>...</td>\n",
              "      <td>...</td>\n",
              "      <td>...</td>\n",
              "      <td>...</td>\n",
              "      <td>...</td>\n",
              "      <td>...</td>\n",
              "      <td>...</td>\n",
              "      <td>...</td>\n",
              "      <td>...</td>\n",
              "      <td>...</td>\n",
              "      <td>...</td>\n",
              "      <td>...</td>\n",
              "      <td>...</td>\n",
              "      <td>...</td>\n",
              "      <td>...</td>\n",
              "      <td>...</td>\n",
              "      <td>...</td>\n",
              "    </tr>\n",
              "    <tr>\n",
              "      <th>8755</th>\n",
              "      <td>2001</td>\n",
              "      <td>12</td>\n",
              "      <td>31</td>\n",
              "      <td>19</td>\n",
              "      <td>0</td>\n",
              "      <td>0</td>\n",
              "      <td>0</td>\n",
              "      <td>0</td>\n",
              "      <td>0</td>\n",
              "      <td>0</td>\n",
              "      <td>0</td>\n",
              "      <td>-7</td>\n",
              "      <td>18.089771</td>\n",
              "      <td>990.354980</td>\n",
              "      <td>16.967847</td>\n",
              "      <td>110.406153</td>\n",
              "      <td>0</td>\n",
              "      <td>3.170694</td>\n",
              "      <td>NaN</td>\n",
              "    </tr>\n",
              "    <tr>\n",
              "      <th>8756</th>\n",
              "      <td>2001</td>\n",
              "      <td>12</td>\n",
              "      <td>31</td>\n",
              "      <td>20</td>\n",
              "      <td>0</td>\n",
              "      <td>0</td>\n",
              "      <td>0</td>\n",
              "      <td>0</td>\n",
              "      <td>0</td>\n",
              "      <td>0</td>\n",
              "      <td>0</td>\n",
              "      <td>-7</td>\n",
              "      <td>17.137141</td>\n",
              "      <td>990.941711</td>\n",
              "      <td>18.170817</td>\n",
              "      <td>123.457001</td>\n",
              "      <td>0</td>\n",
              "      <td>3.287440</td>\n",
              "      <td>NaN</td>\n",
              "    </tr>\n",
              "    <tr>\n",
              "      <th>8757</th>\n",
              "      <td>2001</td>\n",
              "      <td>12</td>\n",
              "      <td>31</td>\n",
              "      <td>21</td>\n",
              "      <td>0</td>\n",
              "      <td>0</td>\n",
              "      <td>0</td>\n",
              "      <td>0</td>\n",
              "      <td>0</td>\n",
              "      <td>0</td>\n",
              "      <td>0</td>\n",
              "      <td>-7</td>\n",
              "      <td>16.179030</td>\n",
              "      <td>991.017090</td>\n",
              "      <td>19.593208</td>\n",
              "      <td>136.736637</td>\n",
              "      <td>0</td>\n",
              "      <td>3.300659</td>\n",
              "      <td>NaN</td>\n",
              "    </tr>\n",
              "    <tr>\n",
              "      <th>8758</th>\n",
              "      <td>2001</td>\n",
              "      <td>12</td>\n",
              "      <td>31</td>\n",
              "      <td>22</td>\n",
              "      <td>0</td>\n",
              "      <td>0</td>\n",
              "      <td>0</td>\n",
              "      <td>0</td>\n",
              "      <td>0</td>\n",
              "      <td>0</td>\n",
              "      <td>0</td>\n",
              "      <td>-6</td>\n",
              "      <td>15.272073</td>\n",
              "      <td>990.856323</td>\n",
              "      <td>20.951998</td>\n",
              "      <td>150.148973</td>\n",
              "      <td>0</td>\n",
              "      <td>3.317947</td>\n",
              "      <td>NaN</td>\n",
              "    </tr>\n",
              "    <tr>\n",
              "      <th>8759</th>\n",
              "      <td>2001</td>\n",
              "      <td>12</td>\n",
              "      <td>31</td>\n",
              "      <td>23</td>\n",
              "      <td>0</td>\n",
              "      <td>0</td>\n",
              "      <td>0</td>\n",
              "      <td>0</td>\n",
              "      <td>0</td>\n",
              "      <td>0</td>\n",
              "      <td>0</td>\n",
              "      <td>-6</td>\n",
              "      <td>14.463605</td>\n",
              "      <td>990.645386</td>\n",
              "      <td>22.119953</td>\n",
              "      <td>163.570310</td>\n",
              "      <td>0</td>\n",
              "      <td>3.385370</td>\n",
              "      <td>NaN</td>\n",
              "    </tr>\n",
              "  </tbody>\n",
              "</table>\n",
              "<p>8760 rows × 19 columns</p>\n",
              "</div>"
            ],
            "text/plain": [
              "      Year  Month  Day  ...  Snow Depth  Wind Speed  Unnamed: 18\n",
              "0     2001      1    1  ...           0    3.468779          NaN\n",
              "1     2001      1    1  ...           0    3.510417          NaN\n",
              "2     2001      1    1  ...           0    3.519412          NaN\n",
              "3     2001      1    1  ...           0    3.532073          NaN\n",
              "4     2001      1    1  ...           0    3.579910          NaN\n",
              "...    ...    ...  ...  ...         ...         ...          ...\n",
              "8755  2001     12   31  ...           0    3.170694          NaN\n",
              "8756  2001     12   31  ...           0    3.287440          NaN\n",
              "8757  2001     12   31  ...           0    3.300659          NaN\n",
              "8758  2001     12   31  ...           0    3.317947          NaN\n",
              "8759  2001     12   31  ...           0    3.385370          NaN\n",
              "\n",
              "[8760 rows x 19 columns]"
            ]
          },
          "metadata": {},
          "execution_count": 76
        }
      ]
    },
    {
      "cell_type": "code",
      "metadata": {
        "id": "YCI03lOuUvBa"
      },
      "source": [
        "ddf1=ddf1.drop(0)"
      ],
      "execution_count": null,
      "outputs": []
    },
    {
      "cell_type": "code",
      "metadata": {
        "id": "BGqwOeGXXTO9"
      },
      "source": [
        "ddf1=ddf1.drop(1)"
      ],
      "execution_count": null,
      "outputs": []
    },
    {
      "cell_type": "code",
      "metadata": {
        "colab": {
          "base_uri": "https://localhost:8080/",
          "height": 441
        },
        "id": "Jumc_7m0XeF-",
        "outputId": "372264cf-eb02-4d34-ffb4-2e63e4b836d4"
      },
      "source": [
        "ddf1"
      ],
      "execution_count": null,
      "outputs": [
        {
          "output_type": "execute_result",
          "data": {
            "text/html": [
              "<div>\n",
              "<style scoped>\n",
              "    .dataframe tbody tr th:only-of-type {\n",
              "        vertical-align: middle;\n",
              "    }\n",
              "\n",
              "    .dataframe tbody tr th {\n",
              "        vertical-align: top;\n",
              "    }\n",
              "\n",
              "    .dataframe thead th {\n",
              "        text-align: right;\n",
              "    }\n",
              "</style>\n",
              "<table border=\"1\" class=\"dataframe\">\n",
              "  <thead>\n",
              "    <tr style=\"text-align: right;\">\n",
              "      <th></th>\n",
              "      <th>Year</th>\n",
              "      <th>Month</th>\n",
              "      <th>Day</th>\n",
              "      <th>Hour</th>\n",
              "      <th>Minute</th>\n",
              "      <th>DHI</th>\n",
              "      <th>DNI</th>\n",
              "      <th>GHI</th>\n",
              "      <th>Clearsky DHI</th>\n",
              "      <th>Clearsky DNI</th>\n",
              "      <th>Clearsky GHI</th>\n",
              "      <th>Dew Point</th>\n",
              "      <th>Temperature</th>\n",
              "      <th>Pressure</th>\n",
              "      <th>Relative Humidity</th>\n",
              "      <th>Solar Zenith Angle</th>\n",
              "      <th>Snow Depth</th>\n",
              "      <th>Wind Speed</th>\n",
              "      <th>Unnamed: 18</th>\n",
              "    </tr>\n",
              "  </thead>\n",
              "  <tbody>\n",
              "    <tr>\n",
              "      <th>0</th>\n",
              "      <td>2001</td>\n",
              "      <td>1</td>\n",
              "      <td>1</td>\n",
              "      <td>0</td>\n",
              "      <td>0</td>\n",
              "      <td>0</td>\n",
              "      <td>0</td>\n",
              "      <td>0</td>\n",
              "      <td>0</td>\n",
              "      <td>0</td>\n",
              "      <td>0</td>\n",
              "      <td>-7</td>\n",
              "      <td>13.745028</td>\n",
              "      <td>990.664917</td>\n",
              "      <td>23.074011</td>\n",
              "      <td>175.937436</td>\n",
              "      <td>0</td>\n",
              "      <td>3.468779</td>\n",
              "      <td>NaN</td>\n",
              "    </tr>\n",
              "    <tr>\n",
              "      <th>1</th>\n",
              "      <td>2001</td>\n",
              "      <td>1</td>\n",
              "      <td>1</td>\n",
              "      <td>1</td>\n",
              "      <td>0</td>\n",
              "      <td>0</td>\n",
              "      <td>0</td>\n",
              "      <td>0</td>\n",
              "      <td>0</td>\n",
              "      <td>0</td>\n",
              "      <td>0</td>\n",
              "      <td>-7</td>\n",
              "      <td>13.100408</td>\n",
              "      <td>990.351440</td>\n",
              "      <td>23.548584</td>\n",
              "      <td>168.426404</td>\n",
              "      <td>0</td>\n",
              "      <td>3.510417</td>\n",
              "      <td>NaN</td>\n",
              "    </tr>\n",
              "    <tr>\n",
              "      <th>2</th>\n",
              "      <td>2001</td>\n",
              "      <td>1</td>\n",
              "      <td>1</td>\n",
              "      <td>2</td>\n",
              "      <td>0</td>\n",
              "      <td>0</td>\n",
              "      <td>0</td>\n",
              "      <td>0</td>\n",
              "      <td>0</td>\n",
              "      <td>0</td>\n",
              "      <td>0</td>\n",
              "      <td>-7</td>\n",
              "      <td>12.506230</td>\n",
              "      <td>990.102417</td>\n",
              "      <td>23.780712</td>\n",
              "      <td>155.082913</td>\n",
              "      <td>0</td>\n",
              "      <td>3.519412</td>\n",
              "      <td>NaN</td>\n",
              "    </tr>\n",
              "    <tr>\n",
              "      <th>3</th>\n",
              "      <td>2001</td>\n",
              "      <td>1</td>\n",
              "      <td>1</td>\n",
              "      <td>3</td>\n",
              "      <td>0</td>\n",
              "      <td>0</td>\n",
              "      <td>0</td>\n",
              "      <td>0</td>\n",
              "      <td>0</td>\n",
              "      <td>0</td>\n",
              "      <td>0</td>\n",
              "      <td>-8</td>\n",
              "      <td>11.989790</td>\n",
              "      <td>989.884827</td>\n",
              "      <td>23.917717</td>\n",
              "      <td>141.645772</td>\n",
              "      <td>0</td>\n",
              "      <td>3.532073</td>\n",
              "      <td>NaN</td>\n",
              "    </tr>\n",
              "    <tr>\n",
              "      <th>4</th>\n",
              "      <td>2001</td>\n",
              "      <td>1</td>\n",
              "      <td>1</td>\n",
              "      <td>4</td>\n",
              "      <td>0</td>\n",
              "      <td>0</td>\n",
              "      <td>0</td>\n",
              "      <td>0</td>\n",
              "      <td>0</td>\n",
              "      <td>0</td>\n",
              "      <td>0</td>\n",
              "      <td>-8</td>\n",
              "      <td>11.537240</td>\n",
              "      <td>989.897583</td>\n",
              "      <td>24.119246</td>\n",
              "      <td>128.304109</td>\n",
              "      <td>0</td>\n",
              "      <td>3.579910</td>\n",
              "      <td>NaN</td>\n",
              "    </tr>\n",
              "    <tr>\n",
              "      <th>...</th>\n",
              "      <td>...</td>\n",
              "      <td>...</td>\n",
              "      <td>...</td>\n",
              "      <td>...</td>\n",
              "      <td>...</td>\n",
              "      <td>...</td>\n",
              "      <td>...</td>\n",
              "      <td>...</td>\n",
              "      <td>...</td>\n",
              "      <td>...</td>\n",
              "      <td>...</td>\n",
              "      <td>...</td>\n",
              "      <td>...</td>\n",
              "      <td>...</td>\n",
              "      <td>...</td>\n",
              "      <td>...</td>\n",
              "      <td>...</td>\n",
              "      <td>...</td>\n",
              "      <td>...</td>\n",
              "    </tr>\n",
              "    <tr>\n",
              "      <th>8755</th>\n",
              "      <td>2001</td>\n",
              "      <td>12</td>\n",
              "      <td>31</td>\n",
              "      <td>19</td>\n",
              "      <td>0</td>\n",
              "      <td>0</td>\n",
              "      <td>0</td>\n",
              "      <td>0</td>\n",
              "      <td>0</td>\n",
              "      <td>0</td>\n",
              "      <td>0</td>\n",
              "      <td>-7</td>\n",
              "      <td>18.089771</td>\n",
              "      <td>990.354980</td>\n",
              "      <td>16.967847</td>\n",
              "      <td>110.406153</td>\n",
              "      <td>0</td>\n",
              "      <td>3.170694</td>\n",
              "      <td>NaN</td>\n",
              "    </tr>\n",
              "    <tr>\n",
              "      <th>8756</th>\n",
              "      <td>2001</td>\n",
              "      <td>12</td>\n",
              "      <td>31</td>\n",
              "      <td>20</td>\n",
              "      <td>0</td>\n",
              "      <td>0</td>\n",
              "      <td>0</td>\n",
              "      <td>0</td>\n",
              "      <td>0</td>\n",
              "      <td>0</td>\n",
              "      <td>0</td>\n",
              "      <td>-7</td>\n",
              "      <td>17.137141</td>\n",
              "      <td>990.941711</td>\n",
              "      <td>18.170817</td>\n",
              "      <td>123.457001</td>\n",
              "      <td>0</td>\n",
              "      <td>3.287440</td>\n",
              "      <td>NaN</td>\n",
              "    </tr>\n",
              "    <tr>\n",
              "      <th>8757</th>\n",
              "      <td>2001</td>\n",
              "      <td>12</td>\n",
              "      <td>31</td>\n",
              "      <td>21</td>\n",
              "      <td>0</td>\n",
              "      <td>0</td>\n",
              "      <td>0</td>\n",
              "      <td>0</td>\n",
              "      <td>0</td>\n",
              "      <td>0</td>\n",
              "      <td>0</td>\n",
              "      <td>-7</td>\n",
              "      <td>16.179030</td>\n",
              "      <td>991.017090</td>\n",
              "      <td>19.593208</td>\n",
              "      <td>136.736637</td>\n",
              "      <td>0</td>\n",
              "      <td>3.300659</td>\n",
              "      <td>NaN</td>\n",
              "    </tr>\n",
              "    <tr>\n",
              "      <th>8758</th>\n",
              "      <td>2001</td>\n",
              "      <td>12</td>\n",
              "      <td>31</td>\n",
              "      <td>22</td>\n",
              "      <td>0</td>\n",
              "      <td>0</td>\n",
              "      <td>0</td>\n",
              "      <td>0</td>\n",
              "      <td>0</td>\n",
              "      <td>0</td>\n",
              "      <td>0</td>\n",
              "      <td>-6</td>\n",
              "      <td>15.272073</td>\n",
              "      <td>990.856323</td>\n",
              "      <td>20.951998</td>\n",
              "      <td>150.148973</td>\n",
              "      <td>0</td>\n",
              "      <td>3.317947</td>\n",
              "      <td>NaN</td>\n",
              "    </tr>\n",
              "    <tr>\n",
              "      <th>8759</th>\n",
              "      <td>2001</td>\n",
              "      <td>12</td>\n",
              "      <td>31</td>\n",
              "      <td>23</td>\n",
              "      <td>0</td>\n",
              "      <td>0</td>\n",
              "      <td>0</td>\n",
              "      <td>0</td>\n",
              "      <td>0</td>\n",
              "      <td>0</td>\n",
              "      <td>0</td>\n",
              "      <td>-6</td>\n",
              "      <td>14.463605</td>\n",
              "      <td>990.645386</td>\n",
              "      <td>22.119953</td>\n",
              "      <td>163.570310</td>\n",
              "      <td>0</td>\n",
              "      <td>3.385370</td>\n",
              "      <td>NaN</td>\n",
              "    </tr>\n",
              "  </tbody>\n",
              "</table>\n",
              "<p>8760 rows × 19 columns</p>\n",
              "</div>"
            ],
            "text/plain": [
              "      Year  Month  Day  ...  Snow Depth  Wind Speed  Unnamed: 18\n",
              "0     2001      1    1  ...           0    3.468779          NaN\n",
              "1     2001      1    1  ...           0    3.510417          NaN\n",
              "2     2001      1    1  ...           0    3.519412          NaN\n",
              "3     2001      1    1  ...           0    3.532073          NaN\n",
              "4     2001      1    1  ...           0    3.579910          NaN\n",
              "...    ...    ...  ...  ...         ...         ...          ...\n",
              "8755  2001     12   31  ...           0    3.170694          NaN\n",
              "8756  2001     12   31  ...           0    3.287440          NaN\n",
              "8757  2001     12   31  ...           0    3.300659          NaN\n",
              "8758  2001     12   31  ...           0    3.317947          NaN\n",
              "8759  2001     12   31  ...           0    3.385370          NaN\n",
              "\n",
              "[8760 rows x 19 columns]"
            ]
          },
          "metadata": {},
          "execution_count": 77
        }
      ]
    },
    {
      "cell_type": "code",
      "metadata": {
        "colab": {
          "base_uri": "https://localhost:8080/"
        },
        "id": "ULMYiPxwXlTe",
        "outputId": "b43684eb-a0ea-4e63-f84c-c00a105b4f40"
      },
      "source": [
        "ddf1.iloc[1]"
      ],
      "execution_count": null,
      "outputs": [
        {
          "output_type": "execute_result",
          "data": {
            "text/plain": [
              "Year                  2001.000000\n",
              "Month                    1.000000\n",
              "Day                      1.000000\n",
              "Hour                     1.000000\n",
              "Minute                   0.000000\n",
              "DHI                      0.000000\n",
              "DNI                      0.000000\n",
              "GHI                      0.000000\n",
              "Clearsky DHI             0.000000\n",
              "Clearsky DNI             0.000000\n",
              "Clearsky GHI             0.000000\n",
              "Dew Point               -7.000000\n",
              "Temperature             13.100408\n",
              "Pressure               990.351440\n",
              "Relative Humidity       23.548584\n",
              "Solar Zenith Angle     168.426404\n",
              "Snow Depth               0.000000\n",
              "Wind Speed               3.510417\n",
              "Unnamed: 18                   NaN\n",
              "Name: 1, dtype: float64"
            ]
          },
          "metadata": {},
          "execution_count": 78
        }
      ]
    },
    {
      "cell_type": "code",
      "metadata": {
        "id": "jtjxnRSYW67a"
      },
      "source": [
        "ddf2=pd.DataFrame(columns=['Wind Speed'])\n",
        "for i in range(int(len(ddf1)/24)): #loopng over days\n",
        "  sum=0.0\n",
        "  for j in range(24): #looping over hours\n",
        "    sum+=ddf1['Wind Speed'].iloc[i*24+j]\n",
        "  # print(sum)\n",
        "  sum=sum/24\n",
        "  ddf2=ddf2.append({'Wind Speed': sum}, ignore_index=True)\n",
        "  "
      ],
      "execution_count": null,
      "outputs": []
    },
    {
      "cell_type": "code",
      "metadata": {
        "colab": {
          "base_uri": "https://localhost:8080/",
          "height": 424
        },
        "id": "IcxF38LBXE3S",
        "outputId": "d8d24f2b-296c-49ff-890e-a81bbd30233e"
      },
      "source": [
        "ddf2"
      ],
      "execution_count": null,
      "outputs": [
        {
          "output_type": "execute_result",
          "data": {
            "text/html": [
              "<div>\n",
              "<style scoped>\n",
              "    .dataframe tbody tr th:only-of-type {\n",
              "        vertical-align: middle;\n",
              "    }\n",
              "\n",
              "    .dataframe tbody tr th {\n",
              "        vertical-align: top;\n",
              "    }\n",
              "\n",
              "    .dataframe thead th {\n",
              "        text-align: right;\n",
              "    }\n",
              "</style>\n",
              "<table border=\"1\" class=\"dataframe\">\n",
              "  <thead>\n",
              "    <tr style=\"text-align: right;\">\n",
              "      <th></th>\n",
              "      <th>Wind Speed</th>\n",
              "    </tr>\n",
              "  </thead>\n",
              "  <tbody>\n",
              "    <tr>\n",
              "      <th>0</th>\n",
              "      <td>2.750510</td>\n",
              "    </tr>\n",
              "    <tr>\n",
              "      <th>1</th>\n",
              "      <td>2.401115</td>\n",
              "    </tr>\n",
              "    <tr>\n",
              "      <th>2</th>\n",
              "      <td>2.497226</td>\n",
              "    </tr>\n",
              "    <tr>\n",
              "      <th>3</th>\n",
              "      <td>2.638047</td>\n",
              "    </tr>\n",
              "    <tr>\n",
              "      <th>4</th>\n",
              "      <td>2.840103</td>\n",
              "    </tr>\n",
              "    <tr>\n",
              "      <th>...</th>\n",
              "      <td>...</td>\n",
              "    </tr>\n",
              "    <tr>\n",
              "      <th>360</th>\n",
              "      <td>3.156978</td>\n",
              "    </tr>\n",
              "    <tr>\n",
              "      <th>361</th>\n",
              "      <td>2.942983</td>\n",
              "    </tr>\n",
              "    <tr>\n",
              "      <th>362</th>\n",
              "      <td>2.643079</td>\n",
              "    </tr>\n",
              "    <tr>\n",
              "      <th>363</th>\n",
              "      <td>2.770112</td>\n",
              "    </tr>\n",
              "    <tr>\n",
              "      <th>364</th>\n",
              "      <td>2.733672</td>\n",
              "    </tr>\n",
              "  </tbody>\n",
              "</table>\n",
              "<p>365 rows × 1 columns</p>\n",
              "</div>"
            ],
            "text/plain": [
              "     Wind Speed\n",
              "0      2.750510\n",
              "1      2.401115\n",
              "2      2.497226\n",
              "3      2.638047\n",
              "4      2.840103\n",
              "..          ...\n",
              "360    3.156978\n",
              "361    2.942983\n",
              "362    2.643079\n",
              "363    2.770112\n",
              "364    2.733672\n",
              "\n",
              "[365 rows x 1 columns]"
            ]
          },
          "metadata": {},
          "execution_count": 81
        }
      ]
    },
    {
      "cell_type": "markdown",
      "metadata": {
        "id": "bht8C1zbQTjp"
      },
      "source": [
        "Daily Values"
      ]
    },
    {
      "cell_type": "code",
      "metadata": {
        "id": "ZNv77CIs4C4n"
      },
      "source": [
        "df=pd.read_csv('data/20012_26.25_73.05_2002.csv')"
      ],
      "execution_count": null,
      "outputs": []
    },
    {
      "cell_type": "code",
      "metadata": {
        "colab": {
          "base_uri": "https://localhost:8080/"
        },
        "id": "gGvjaHHv4J6p",
        "outputId": "88d48dde-93b5-4f60-9715-09568ce64edb"
      },
      "source": [
        "df.head()\n",
        "len(df)"
      ],
      "execution_count": null,
      "outputs": [
        {
          "output_type": "execute_result",
          "data": {
            "text/plain": [
              "8760"
            ]
          },
          "metadata": {},
          "execution_count": 6
        }
      ]
    },
    {
      "cell_type": "code",
      "metadata": {
        "colab": {
          "base_uri": "https://localhost:8080/"
        },
        "id": "0nFxs2fm6S5V",
        "outputId": "ec8faf0c-a190-495d-d4a5-0f5018d4e4d0"
      },
      "source": [
        "print(365*24)"
      ],
      "execution_count": null,
      "outputs": [
        {
          "output_type": "stream",
          "name": "stdout",
          "text": [
            "8760\n"
          ]
        }
      ]
    },
    {
      "cell_type": "code",
      "metadata": {
        "colab": {
          "base_uri": "https://localhost:8080/"
        },
        "id": "Ao5EUz1p64no",
        "outputId": "a0520705-7c20-4957-a856-40f8fa275cd5"
      },
      "source": [
        "print(df['Wind Speed'].iloc[0])"
      ],
      "execution_count": null,
      "outputs": [
        {
          "output_type": "stream",
          "name": "stdout",
          "text": [
            "1.97305977344513\n"
          ]
        }
      ]
    },
    {
      "cell_type": "code",
      "metadata": {
        "id": "z1vpwP4f4Ni-"
      },
      "source": [
        "df2=pd.DataFrame(columns=['Wind Speed'])\n",
        "for i in range(int(len(df)/24)): #loopng over days\n",
        "  sum=0.0\n",
        "  for j in range(24): #looping over hours\n",
        "    sum+=df['Wind Speed'].iloc[i*24+j]\n",
        "  sum=sum/24\n",
        "  df2=df2.append({'Wind Speed': sum}, ignore_index=True)\n",
        "  "
      ],
      "execution_count": null,
      "outputs": []
    },
    {
      "cell_type": "code",
      "metadata": {
        "colab": {
          "base_uri": "https://localhost:8080/",
          "height": 206
        },
        "id": "OVTDuXtf8Jkd",
        "outputId": "a5613ab2-b8b6-4408-e904-b30e6de71eff"
      },
      "source": [
        "df2.head()"
      ],
      "execution_count": null,
      "outputs": [
        {
          "output_type": "execute_result",
          "data": {
            "text/html": [
              "<div>\n",
              "<style scoped>\n",
              "    .dataframe tbody tr th:only-of-type {\n",
              "        vertical-align: middle;\n",
              "    }\n",
              "\n",
              "    .dataframe tbody tr th {\n",
              "        vertical-align: top;\n",
              "    }\n",
              "\n",
              "    .dataframe thead th {\n",
              "        text-align: right;\n",
              "    }\n",
              "</style>\n",
              "<table border=\"1\" class=\"dataframe\">\n",
              "  <thead>\n",
              "    <tr style=\"text-align: right;\">\n",
              "      <th></th>\n",
              "      <th>Wind Speed</th>\n",
              "    </tr>\n",
              "  </thead>\n",
              "  <tbody>\n",
              "    <tr>\n",
              "      <th>0</th>\n",
              "      <td>2.327425</td>\n",
              "    </tr>\n",
              "    <tr>\n",
              "      <th>1</th>\n",
              "      <td>2.833572</td>\n",
              "    </tr>\n",
              "    <tr>\n",
              "      <th>2</th>\n",
              "      <td>2.555026</td>\n",
              "    </tr>\n",
              "    <tr>\n",
              "      <th>3</th>\n",
              "      <td>2.973344</td>\n",
              "    </tr>\n",
              "    <tr>\n",
              "      <th>4</th>\n",
              "      <td>2.664695</td>\n",
              "    </tr>\n",
              "  </tbody>\n",
              "</table>\n",
              "</div>"
            ],
            "text/plain": [
              "   Wind Speed\n",
              "0    2.327425\n",
              "1    2.833572\n",
              "2    2.555026\n",
              "3    2.973344\n",
              "4    2.664695"
            ]
          },
          "metadata": {},
          "execution_count": 10
        }
      ]
    },
    {
      "cell_type": "code",
      "metadata": {
        "colab": {
          "base_uri": "https://localhost:8080/",
          "height": 424
        },
        "id": "2jqRvdPh9IyI",
        "outputId": "ab8ed64e-c385-497b-df68-37083c63fe50"
      },
      "source": [
        "df2"
      ],
      "execution_count": null,
      "outputs": [
        {
          "output_type": "execute_result",
          "data": {
            "text/html": [
              "<div>\n",
              "<style scoped>\n",
              "    .dataframe tbody tr th:only-of-type {\n",
              "        vertical-align: middle;\n",
              "    }\n",
              "\n",
              "    .dataframe tbody tr th {\n",
              "        vertical-align: top;\n",
              "    }\n",
              "\n",
              "    .dataframe thead th {\n",
              "        text-align: right;\n",
              "    }\n",
              "</style>\n",
              "<table border=\"1\" class=\"dataframe\">\n",
              "  <thead>\n",
              "    <tr style=\"text-align: right;\">\n",
              "      <th></th>\n",
              "      <th>Wind Speed</th>\n",
              "    </tr>\n",
              "  </thead>\n",
              "  <tbody>\n",
              "    <tr>\n",
              "      <th>0</th>\n",
              "      <td>2.327425</td>\n",
              "    </tr>\n",
              "    <tr>\n",
              "      <th>1</th>\n",
              "      <td>2.833572</td>\n",
              "    </tr>\n",
              "    <tr>\n",
              "      <th>2</th>\n",
              "      <td>2.555026</td>\n",
              "    </tr>\n",
              "    <tr>\n",
              "      <th>3</th>\n",
              "      <td>2.973344</td>\n",
              "    </tr>\n",
              "    <tr>\n",
              "      <th>4</th>\n",
              "      <td>2.664695</td>\n",
              "    </tr>\n",
              "    <tr>\n",
              "      <th>...</th>\n",
              "      <td>...</td>\n",
              "    </tr>\n",
              "    <tr>\n",
              "      <th>360</th>\n",
              "      <td>2.369528</td>\n",
              "    </tr>\n",
              "    <tr>\n",
              "      <th>361</th>\n",
              "      <td>1.901246</td>\n",
              "    </tr>\n",
              "    <tr>\n",
              "      <th>362</th>\n",
              "      <td>2.024929</td>\n",
              "    </tr>\n",
              "    <tr>\n",
              "      <th>363</th>\n",
              "      <td>1.607879</td>\n",
              "    </tr>\n",
              "    <tr>\n",
              "      <th>364</th>\n",
              "      <td>3.284778</td>\n",
              "    </tr>\n",
              "  </tbody>\n",
              "</table>\n",
              "<p>365 rows × 1 columns</p>\n",
              "</div>"
            ],
            "text/plain": [
              "     Wind Speed\n",
              "0      2.327425\n",
              "1      2.833572\n",
              "2      2.555026\n",
              "3      2.973344\n",
              "4      2.664695\n",
              "..          ...\n",
              "360    2.369528\n",
              "361    1.901246\n",
              "362    2.024929\n",
              "363    1.607879\n",
              "364    3.284778\n",
              "\n",
              "[365 rows x 1 columns]"
            ]
          },
          "metadata": {},
          "execution_count": 16
        }
      ]
    },
    {
      "cell_type": "code",
      "metadata": {
        "colab": {
          "base_uri": "https://localhost:8080/"
        },
        "id": "rpX9iYRH8S0Y",
        "outputId": "e53f808f-1d51-4bcd-93d6-ae3daf7cb1e1"
      },
      "source": [
        "len(df2)"
      ],
      "execution_count": null,
      "outputs": [
        {
          "output_type": "execute_result",
          "data": {
            "text/plain": [
              "365"
            ]
          },
          "metadata": {},
          "execution_count": 11
        }
      ]
    },
    {
      "cell_type": "markdown",
      "metadata": {
        "id": "gEjdGhj5rvfR"
      },
      "source": [
        "Start the model form here:"
      ]
    },
    {
      "cell_type": "markdown",
      "metadata": {
        "id": "WsM9_s2X8mn_"
      },
      "source": [
        "Model"
      ]
    },
    {
      "cell_type": "code",
      "metadata": {
        "id": "IXJgXXIV82eW"
      },
      "source": [
        "import numpy as np"
      ],
      "execution_count": null,
      "outputs": []
    },
    {
      "cell_type": "code",
      "metadata": {
        "id": "rwUI_Blo8W0Z"
      },
      "source": [
        "# split a univariate sequence into samples\n",
        "def split_sequence(sequence, n_steps):\n",
        "\tX, y = list(), list()\n",
        "\tfor i in range(len(sequence)):\n",
        "\t\t# find the end of this pattern\n",
        "\t\tend_ix = i + n_steps\n",
        "\t\t# check if we are beyond the sequence\n",
        "\t\tif end_ix > len(sequence)-1:\n",
        "\t\t\tbreak\n",
        "\t\t# gather input and output parts of the pattern\n",
        "\t\tseq_x, seq_y = sequence.iloc[i:end_ix], sequence.iloc[end_ix]\n",
        "\t\tX.append(seq_x)\n",
        "\t\ty.append(seq_y)\n",
        "\treturn np.array(X), np.array(y)"
      ],
      "execution_count": null,
      "outputs": []
    },
    {
      "cell_type": "code",
      "metadata": {
        "id": "XTsfvZRL8bGw"
      },
      "source": [
        "# define input sequence\n",
        "raw_seq = [10, 20, 30, 40, 50, 60, 70, 80, 90]\n",
        "# choose a number of time steps\n",
        "n_steps = 7 #7 days as input\n",
        "# split into samples\n",
        "X, y = split_sequence(df2, n_steps)"
      ],
      "execution_count": null,
      "outputs": []
    },
    {
      "cell_type": "code",
      "metadata": {
        "id": "1tEhp20KSAAa"
      },
      "source": [
        "from keras.models import Sequential\n",
        "from keras.layers import LSTM\n",
        "from keras.layers import Dense\n",
        " "
      ],
      "execution_count": null,
      "outputs": []
    },
    {
      "cell_type": "code",
      "metadata": {
        "colab": {
          "base_uri": "https://localhost:8080/",
          "height": 237
        },
        "id": "T1htbDM4Q9L4",
        "outputId": "fd965a78-b286-4582-de41-0d4e80a2def1"
      },
      "source": [
        "# reshape from [samples, timesteps] into [samples, timesteps, features]\n",
        "n_features = 1\n",
        "X = X.reshape((X.shape[0], X.shape[1], n_features))\n",
        "# define model\n",
        "model = Sequential()\n",
        "model.add(LSTM(50, activation='relu', return_sequences=True, input_shape=(n_steps, n_features)))\n",
        "model.add(LSTM(50, activation='relu'))\n",
        "model.add(Dense(1))\n",
        "model.compile(optimizer='adam', loss='mse')\n",
        "# fit model\n",
        "model.fit(X, y, epochs=50, verbose=1)"
      ],
      "execution_count": null,
      "outputs": [
        {
          "output_type": "error",
          "ename": "ValueError",
          "evalue": "ignored",
          "traceback": [
            "\u001b[0;31m---------------------------------------------------------------------------\u001b[0m",
            "\u001b[0;31mValueError\u001b[0m                                Traceback (most recent call last)",
            "\u001b[0;32m<ipython-input-107-e298610f0ac9>\u001b[0m in \u001b[0;36m<module>\u001b[0;34m()\u001b[0m\n\u001b[1;32m      1\u001b[0m \u001b[0;31m# reshape from [samples, timesteps] into [samples, timesteps, features]\u001b[0m\u001b[0;34m\u001b[0m\u001b[0;34m\u001b[0m\u001b[0;34m\u001b[0m\u001b[0m\n\u001b[1;32m      2\u001b[0m \u001b[0mn_features\u001b[0m \u001b[0;34m=\u001b[0m \u001b[0;36m1\u001b[0m\u001b[0;34m\u001b[0m\u001b[0;34m\u001b[0m\u001b[0m\n\u001b[0;32m----> 3\u001b[0;31m \u001b[0mX\u001b[0m \u001b[0;34m=\u001b[0m \u001b[0mX\u001b[0m\u001b[0;34m.\u001b[0m\u001b[0mreshape\u001b[0m\u001b[0;34m(\u001b[0m\u001b[0;34m(\u001b[0m\u001b[0mX\u001b[0m\u001b[0;34m.\u001b[0m\u001b[0mshape\u001b[0m\u001b[0;34m[\u001b[0m\u001b[0;36m0\u001b[0m\u001b[0;34m]\u001b[0m\u001b[0;34m,\u001b[0m \u001b[0mX\u001b[0m\u001b[0;34m.\u001b[0m\u001b[0mshape\u001b[0m\u001b[0;34m[\u001b[0m\u001b[0;36m1\u001b[0m\u001b[0;34m]\u001b[0m\u001b[0;34m,\u001b[0m \u001b[0mn_features\u001b[0m\u001b[0;34m)\u001b[0m\u001b[0;34m)\u001b[0m\u001b[0;34m\u001b[0m\u001b[0;34m\u001b[0m\u001b[0m\n\u001b[0m\u001b[1;32m      4\u001b[0m \u001b[0;31m# define model\u001b[0m\u001b[0;34m\u001b[0m\u001b[0;34m\u001b[0m\u001b[0;34m\u001b[0m\u001b[0m\n\u001b[1;32m      5\u001b[0m \u001b[0mmodel\u001b[0m \u001b[0;34m=\u001b[0m \u001b[0mSequential\u001b[0m\u001b[0;34m(\u001b[0m\u001b[0;34m)\u001b[0m\u001b[0;34m\u001b[0m\u001b[0;34m\u001b[0m\u001b[0m\n",
            "\u001b[0;31mValueError\u001b[0m: cannot reshape array of size 51002 into shape (3643,7,1)"
          ]
        }
      ]
    },
    {
      "cell_type": "code",
      "metadata": {
        "colab": {
          "base_uri": "https://localhost:8080/"
        },
        "id": "loHYb0QuR881",
        "outputId": "f0361551-7e70-44e8-ad1b-8915794b1614"
      },
      "source": [
        "# demonstrate prediction\n",
        "x_input = np.array(df2.iloc[100:107])\n",
        "x_input = x_input.reshape((1, n_steps, n_features))\n",
        "yhat = model.predict(x_input, verbose=0)\n",
        "print(yhat)\n",
        "\n",
        "print(df2.iloc[0:7])"
      ],
      "execution_count": null,
      "outputs": [
        {
          "output_type": "stream",
          "name": "stdout",
          "text": [
            "[[3.0501304]]\n",
            "   Wind Speed\n",
            "0    2.327425\n",
            "1    2.833572\n",
            "2    2.555026\n",
            "3    2.973344\n",
            "4    2.664695\n",
            "5    2.371462\n",
            "6    2.589434\n"
          ]
        }
      ]
    },
    {
      "cell_type": "code",
      "metadata": {
        "id": "L0CJc8gesV2n"
      },
      "source": [
        "n_steps=7"
      ],
      "execution_count": null,
      "outputs": []
    },
    {
      "cell_type": "markdown",
      "metadata": {
        "id": "E-1YRk5jr89-"
      },
      "source": [
        "For Rajasthan1"
      ]
    },
    {
      "cell_type": "code",
      "metadata": {
        "id": "6dkKqZaTSEwo"
      },
      "source": [
        "df_rj1=pd.read_csv('Rajasthan1.csv')"
      ],
      "execution_count": null,
      "outputs": []
    },
    {
      "cell_type": "code",
      "metadata": {
        "id": "xELhAaOhvFPf"
      },
      "source": [
        "df_rj1"
      ],
      "execution_count": null,
      "outputs": []
    },
    {
      "cell_type": "code",
      "metadata": {
        "colab": {
          "base_uri": "https://localhost:8080/"
        },
        "id": "hGOCjj8Dtgtf",
        "outputId": "5bdc2979-f29d-4a7a-d528-3785abafc17b"
      },
      "source": [
        "len(df_rj1)"
      ],
      "execution_count": null,
      "outputs": [
        {
          "output_type": "execute_result",
          "data": {
            "text/plain": [
              "5475"
            ]
          },
          "metadata": {},
          "execution_count": 112
        }
      ]
    },
    {
      "cell_type": "code",
      "metadata": {
        "id": "RnwY6CcCu3EI"
      },
      "source": [
        "del df_rj1['Unnamed: 0']"
      ],
      "execution_count": null,
      "outputs": []
    },
    {
      "cell_type": "code",
      "metadata": {
        "id": "jjwXvq26scNU"
      },
      "source": [
        "df_rj1_train=df_rj1[0:3650]\n",
        "df_rj1_test=df_rj1[3650:]"
      ],
      "execution_count": null,
      "outputs": []
    },
    {
      "cell_type": "code",
      "metadata": {
        "id": "v2Y9wQY-sFyy"
      },
      "source": [
        "X, y = split_sequence(df_rj1_train, n_steps)"
      ],
      "execution_count": null,
      "outputs": []
    },
    {
      "cell_type": "code",
      "metadata": {
        "colab": {
          "base_uri": "https://localhost:8080/"
        },
        "id": "7AGTpJuZuPYe",
        "outputId": "1879bae2-4bdc-43f4-b0cb-b845e7f49279"
      },
      "source": [
        "X.shape"
      ],
      "execution_count": null,
      "outputs": [
        {
          "output_type": "execute_result",
          "data": {
            "text/plain": [
              "(3643, 7, 1)"
            ]
          },
          "metadata": {},
          "execution_count": 159
        }
      ]
    },
    {
      "cell_type": "code",
      "metadata": {
        "id": "9HMBr90FtKHE"
      },
      "source": [
        "# reshape from [samples, timesteps] into [samples, timesteps, features]\n",
        "n_features = 1\n",
        "X = X.reshape((X.shape[0], X.shape[1], n_features))\n",
        "# define model\n",
        "model = Sequential()\n",
        "model.add(LSTM(50, activation='relu', return_sequences=True, input_shape=(n_steps, n_features)))\n",
        "model.add(LSTM(50, activation='relu'))\n",
        "model.add(Dense(1))\n",
        "model.compile(optimizer='adam', loss='mse')\n",
        "# fit model\n",
        "model.fit(X, y, epochs=50, verbose=1)"
      ],
      "execution_count": null,
      "outputs": []
    },
    {
      "cell_type": "code",
      "metadata": {
        "colab": {
          "base_uri": "https://localhost:8080/"
        },
        "id": "qUWON1TtsG7N",
        "outputId": "f655d270-c09e-46c6-91d7-a26b981981b2"
      },
      "source": [
        "import keras.backend as K\n",
        "print(K.eval(model.optimizer.lr))"
      ],
      "execution_count": null,
      "outputs": [
        {
          "output_type": "stream",
          "name": "stdout",
          "text": [
            "0.001\n"
          ]
        }
      ]
    },
    {
      "cell_type": "code",
      "metadata": {
        "colab": {
          "base_uri": "https://localhost:8080/"
        },
        "id": "zXfdUPlUwwFk",
        "outputId": "6e7c9407-408c-4763-b75f-3293fbdd7136"
      },
      "source": [
        "X.shape"
      ],
      "execution_count": null,
      "outputs": [
        {
          "output_type": "execute_result",
          "data": {
            "text/plain": [
              "(3643, 7, 1)"
            ]
          },
          "metadata": {},
          "execution_count": 163
        }
      ]
    },
    {
      "cell_type": "code",
      "metadata": {
        "colab": {
          "base_uri": "https://localhost:8080/"
        },
        "id": "e7Hb11eexBZ9",
        "outputId": "8ea92200-5107-4689-df6a-12f435afe9cd"
      },
      "source": [
        "X[1].shape"
      ],
      "execution_count": null,
      "outputs": [
        {
          "output_type": "execute_result",
          "data": {
            "text/plain": [
              "(7, 1)"
            ]
          },
          "metadata": {},
          "execution_count": 165
        }
      ]
    },
    {
      "cell_type": "code",
      "metadata": {
        "colab": {
          "base_uri": "https://localhost:8080/"
        },
        "id": "vqpaW6hqwyIU",
        "outputId": "648b72b2-5b6e-4a75-a98e-5f838e9c3638"
      },
      "source": [
        "y.shape"
      ],
      "execution_count": null,
      "outputs": [
        {
          "output_type": "execute_result",
          "data": {
            "text/plain": [
              "(3643, 1)"
            ]
          },
          "metadata": {},
          "execution_count": 164
        }
      ]
    },
    {
      "cell_type": "code",
      "metadata": {
        "id": "fM7GiqhWvsPK"
      },
      "source": [
        "def get_metrics(X,y):\n",
        "  size=X.shape[0]\n",
        "  mse=0.0\n",
        "  mae=0.0\n",
        "  mape=0.0\n",
        "  for i in range(size):\n",
        "    yhat = model.predict(X[i].reshape((1, n_steps, n_features)),verbose=0)\n",
        "    mse+=(yhat-y[i])*(yhat-y[i])\n",
        "    mae+=abs((yhat-y[i]))\n",
        "    mape+=abs((y[i]-yhat)/y[i])\n",
        "  \n",
        "  mse=mse/size\n",
        "  mae=mae/size\n",
        "  mape=mape/size\n",
        "  print(\"MSE= \",mse)\n",
        "  print(\"MAPE= \",mae)\n",
        "  print(\"MAPE= \",mape)"
      ],
      "execution_count": null,
      "outputs": []
    },
    {
      "cell_type": "code",
      "metadata": {
        "colab": {
          "base_uri": "https://localhost:8080/"
        },
        "id": "CiULHZsvzrGv",
        "outputId": "95fb2534-0808-43b5-c88a-11830725fc4a"
      },
      "source": [
        "X[1].shape"
      ],
      "execution_count": null,
      "outputs": [
        {
          "output_type": "execute_result",
          "data": {
            "text/plain": [
              "(7, 1)"
            ]
          },
          "metadata": {},
          "execution_count": 187
        }
      ]
    },
    {
      "cell_type": "code",
      "metadata": {
        "colab": {
          "base_uri": "https://localhost:8080/"
        },
        "id": "bbhu_BL_yh7M",
        "outputId": "70528740-70c3-4405-a205-9a22950a907e"
      },
      "source": [
        "get_metrics(X,y)"
      ],
      "execution_count": null,
      "outputs": [
        {
          "output_type": "stream",
          "name": "stdout",
          "text": [
            "MSE=  [[0.59629473]]\n",
            "MAPE=  [[0.60696462]]\n",
            "MAPE=  [[0.25699195]]\n"
          ]
        }
      ]
    },
    {
      "cell_type": "code",
      "metadata": {
        "id": "6ASFlks3ym3i"
      },
      "source": [
        "X, y = split_sequence(df_rj1_test, n_steps)"
      ],
      "execution_count": null,
      "outputs": []
    },
    {
      "cell_type": "code",
      "metadata": {
        "colab": {
          "base_uri": "https://localhost:8080/"
        },
        "id": "LMk1JDEi1qOk",
        "outputId": "bf7f596d-2f18-4c40-f379-4fdb95dd1b92"
      },
      "source": [
        "get_metrics(X,y)"
      ],
      "execution_count": null,
      "outputs": [
        {
          "output_type": "stream",
          "name": "stdout",
          "text": [
            "MSE=  [[0.69491095]]\n",
            "MAPE=  [[0.65003601]]\n",
            "MAPE=  [[0.2533884]]\n"
          ]
        }
      ]
    },
    {
      "cell_type": "code",
      "metadata": {
        "colab": {
          "base_uri": "https://localhost:8080/"
        },
        "id": "OfJwionD2PUl",
        "outputId": "1e7003d8-d7a4-4364-b0a4-6f7f7de26030"
      },
      "source": [
        "print(X[1],y[1])\n",
        "print(model.predict(X[1].reshape((1, n_steps, n_features)),verbose=0))"
      ],
      "execution_count": null,
      "outputs": [
        {
          "output_type": "stream",
          "name": "stdout",
          "text": [
            "[[3.1202378 ]\n",
            " [2.47421804]\n",
            " [1.71024389]\n",
            " [1.78010493]\n",
            " [1.70760183]\n",
            " [2.69992536]\n",
            " [3.28460699]] [2.61484574]\n",
            "[[3.1211452]]\n"
          ]
        }
      ]
    },
    {
      "cell_type": "markdown",
      "metadata": {
        "id": "ZQ1VFfyg02jx"
      },
      "source": [
        "For Rajasthan2"
      ]
    },
    {
      "cell_type": "code",
      "metadata": {
        "id": "eSU1MFWX02j2",
        "colab": {
          "base_uri": "https://localhost:8080/",
          "height": 167
        },
        "outputId": "29056f5f-88d7-4117-d061-976f14827b3a"
      },
      "source": [
        "df_rj1=pd.read_csv('Rajasthan2.csv')"
      ],
      "execution_count": null,
      "outputs": [
        {
          "output_type": "error",
          "ename": "NameError",
          "evalue": "ignored",
          "traceback": [
            "\u001b[0;31m---------------------------------------------------------------------------\u001b[0m",
            "\u001b[0;31mNameError\u001b[0m                                 Traceback (most recent call last)",
            "\u001b[0;32m<ipython-input-1-786fe7ba91b7>\u001b[0m in \u001b[0;36m<module>\u001b[0;34m()\u001b[0m\n\u001b[0;32m----> 1\u001b[0;31m \u001b[0mdf_rj1\u001b[0m\u001b[0;34m=\u001b[0m\u001b[0mpd\u001b[0m\u001b[0;34m.\u001b[0m\u001b[0mread_csv\u001b[0m\u001b[0;34m(\u001b[0m\u001b[0;34m'Rajasthan2.csv'\u001b[0m\u001b[0;34m)\u001b[0m\u001b[0;34m\u001b[0m\u001b[0;34m\u001b[0m\u001b[0m\n\u001b[0m",
            "\u001b[0;31mNameError\u001b[0m: name 'pd' is not defined"
          ]
        }
      ]
    },
    {
      "cell_type": "code",
      "metadata": {
        "id": "O-WeR14X02kF"
      },
      "source": [
        "del df_rj1['Unnamed: 0']"
      ],
      "execution_count": null,
      "outputs": []
    },
    {
      "cell_type": "code",
      "metadata": {
        "id": "K4rfZH0i02kI"
      },
      "source": [
        "df_rj1_train=df_rj1[0:3650]\n",
        "df_rj1_test=df_rj1[3650:]"
      ],
      "execution_count": null,
      "outputs": []
    },
    {
      "cell_type": "code",
      "metadata": {
        "id": "P4YEimCk02kL"
      },
      "source": [
        "X, y = split_sequence(df_rj1_train, n_steps)"
      ],
      "execution_count": null,
      "outputs": []
    },
    {
      "cell_type": "code",
      "metadata": {
        "colab": {
          "base_uri": "https://localhost:8080/"
        },
        "id": "VA1kCoN802kP",
        "outputId": "42b7d521-f7ed-4687-fda9-ae9c14b7b9c4"
      },
      "source": [
        "# reshape from [samples, timesteps] into [samples, timesteps, features]\n",
        "n_features = 1\n",
        "X = X.reshape((X.shape[0], X.shape[1], n_features))\n",
        "# define model\n",
        "model = Sequential()\n",
        "model.add(LSTM(50, activation='relu', return_sequences=True, input_shape=(n_steps, n_features)))\n",
        "model.add(LSTM(50, activation='relu'))\n",
        "model.add(Dense(1))\n",
        "model.compile(optimizer='adam', loss='mse')\n",
        "# fit model\n",
        "model.fit(X, y, epochs=50, verbose=1)"
      ],
      "execution_count": null,
      "outputs": [
        {
          "output_type": "stream",
          "name": "stdout",
          "text": [
            "Epoch 1/50\n",
            "114/114 [==============================] - 3s 8ms/step - loss: 1.7833\n",
            "Epoch 2/50\n",
            "114/114 [==============================] - 1s 9ms/step - loss: 0.6496\n",
            "Epoch 3/50\n",
            "114/114 [==============================] - 1s 9ms/step - loss: 0.5693\n",
            "Epoch 4/50\n",
            "114/114 [==============================] - 1s 9ms/step - loss: 0.4883\n",
            "Epoch 5/50\n",
            "114/114 [==============================] - 1s 9ms/step - loss: 0.4584\n",
            "Epoch 6/50\n",
            "114/114 [==============================] - 1s 10ms/step - loss: 0.4559\n",
            "Epoch 7/50\n",
            "114/114 [==============================] - 1s 9ms/step - loss: 0.4537\n",
            "Epoch 8/50\n",
            "114/114 [==============================] - 1s 9ms/step - loss: 0.4435\n",
            "Epoch 9/50\n",
            "114/114 [==============================] - 1s 9ms/step - loss: 0.4531\n",
            "Epoch 10/50\n",
            "114/114 [==============================] - 1s 9ms/step - loss: 0.4364\n",
            "Epoch 11/50\n",
            "114/114 [==============================] - 1s 9ms/step - loss: 0.4390\n",
            "Epoch 12/50\n",
            "114/114 [==============================] - 1s 9ms/step - loss: 0.4373\n",
            "Epoch 13/50\n",
            "114/114 [==============================] - 1s 9ms/step - loss: 0.4374\n",
            "Epoch 14/50\n",
            "114/114 [==============================] - 1s 8ms/step - loss: 0.4431\n",
            "Epoch 15/50\n",
            "114/114 [==============================] - 1s 9ms/step - loss: 0.4374\n",
            "Epoch 16/50\n",
            "114/114 [==============================] - 1s 9ms/step - loss: 0.4361\n",
            "Epoch 17/50\n",
            "114/114 [==============================] - 1s 9ms/step - loss: 0.4342\n",
            "Epoch 18/50\n",
            "114/114 [==============================] - 1s 9ms/step - loss: 0.4345\n",
            "Epoch 19/50\n",
            "114/114 [==============================] - 1s 9ms/step - loss: 0.4356\n",
            "Epoch 20/50\n",
            "114/114 [==============================] - 1s 9ms/step - loss: 0.4334\n",
            "Epoch 21/50\n",
            "114/114 [==============================] - 1s 9ms/step - loss: 0.4391\n",
            "Epoch 22/50\n",
            "114/114 [==============================] - 1s 9ms/step - loss: 0.4341\n",
            "Epoch 23/50\n",
            "114/114 [==============================] - 1s 9ms/step - loss: 0.4287\n",
            "Epoch 24/50\n",
            "114/114 [==============================] - 1s 9ms/step - loss: 0.4343\n",
            "Epoch 25/50\n",
            "114/114 [==============================] - 1s 9ms/step - loss: 0.4328\n",
            "Epoch 26/50\n",
            "114/114 [==============================] - 1s 9ms/step - loss: 0.4399\n",
            "Epoch 27/50\n",
            "114/114 [==============================] - 1s 9ms/step - loss: 0.4395\n",
            "Epoch 28/50\n",
            "114/114 [==============================] - 1s 9ms/step - loss: 0.4351\n",
            "Epoch 29/50\n",
            "114/114 [==============================] - 1s 10ms/step - loss: 0.4285\n",
            "Epoch 30/50\n",
            "114/114 [==============================] - 1s 10ms/step - loss: 0.4305\n",
            "Epoch 31/50\n",
            "114/114 [==============================] - 1s 9ms/step - loss: 0.4390\n",
            "Epoch 32/50\n",
            "114/114 [==============================] - 1s 9ms/step - loss: 0.4414\n",
            "Epoch 33/50\n",
            "114/114 [==============================] - 1s 10ms/step - loss: 0.4308\n",
            "Epoch 34/50\n",
            "114/114 [==============================] - 1s 10ms/step - loss: 0.4382\n",
            "Epoch 35/50\n",
            "114/114 [==============================] - 1s 9ms/step - loss: 0.4329\n",
            "Epoch 36/50\n",
            "114/114 [==============================] - 1s 10ms/step - loss: 0.4334\n",
            "Epoch 37/50\n",
            "114/114 [==============================] - 1s 10ms/step - loss: 0.4328\n",
            "Epoch 38/50\n",
            "114/114 [==============================] - 1s 10ms/step - loss: 0.4300\n",
            "Epoch 39/50\n",
            "114/114 [==============================] - 1s 10ms/step - loss: 0.4307\n",
            "Epoch 40/50\n",
            "114/114 [==============================] - 1s 9ms/step - loss: 0.4323\n",
            "Epoch 41/50\n",
            "114/114 [==============================] - 1s 9ms/step - loss: 0.4308\n",
            "Epoch 42/50\n",
            "114/114 [==============================] - 1s 9ms/step - loss: 0.4325\n",
            "Epoch 43/50\n",
            "114/114 [==============================] - 1s 9ms/step - loss: 0.4356\n",
            "Epoch 44/50\n",
            "114/114 [==============================] - 1s 9ms/step - loss: 0.4335\n",
            "Epoch 45/50\n",
            "114/114 [==============================] - 1s 9ms/step - loss: 0.4282\n",
            "Epoch 46/50\n",
            "114/114 [==============================] - 1s 9ms/step - loss: 0.4307\n",
            "Epoch 47/50\n",
            "114/114 [==============================] - 1s 10ms/step - loss: 0.4273\n",
            "Epoch 48/50\n",
            "114/114 [==============================] - 1s 9ms/step - loss: 0.4276\n",
            "Epoch 49/50\n",
            "114/114 [==============================] - 1s 9ms/step - loss: 0.4320\n",
            "Epoch 50/50\n",
            "114/114 [==============================] - 1s 9ms/step - loss: 0.4291\n"
          ]
        },
        {
          "output_type": "execute_result",
          "data": {
            "text/plain": [
              "<keras.callbacks.History at 0x7fcb4b61be50>"
            ]
          },
          "metadata": {},
          "execution_count": 204
        }
      ]
    },
    {
      "cell_type": "code",
      "metadata": {
        "id": "6J2Civvm02kW"
      },
      "source": [
        "def get_metrics(X,y):\n",
        "  size=X.shape[0]\n",
        "  mse=0.0\n",
        "  mae=0.0\n",
        "  mape=0.0\n",
        "  for i in range(size):\n",
        "    yhat = model.predict(X[i].reshape((1, n_steps, n_features)),verbose=0)\n",
        "    mse+=(yhat-y[i])*(yhat-y[i])\n",
        "    mae+=abs((yhat-y[i]))\n",
        "    mape+=abs((y[i]-yhat)/y[i])\n",
        "  \n",
        "  mse=mse/size\n",
        "  mae=mae/size\n",
        "  mape=mape/size\n",
        "  print(\"MSE= \",mse)\n",
        "  print(\"MAPE= \",mae)\n",
        "  print(\"MAPE= \",mape)"
      ],
      "execution_count": null,
      "outputs": []
    },
    {
      "cell_type": "code",
      "metadata": {
        "colab": {
          "base_uri": "https://localhost:8080/"
        },
        "id": "dgab4jyr3Kws",
        "outputId": "ff1a16b9-18ca-4abb-8b85-2e3ff12bc407"
      },
      "source": [
        "get_metrics(X,y)"
      ],
      "execution_count": null,
      "outputs": [
        {
          "output_type": "stream",
          "name": "stdout",
          "text": [
            "MSE=  [[0.42822032]]\n",
            "MAPE=  [[0.51052447]]\n",
            "MAPE=  [[0.23288052]]\n"
          ]
        }
      ]
    },
    {
      "cell_type": "code",
      "metadata": {
        "id": "4RCQHKh13Kwt"
      },
      "source": [
        "X, y = split_sequence(df_rj1_test, n_steps)"
      ],
      "execution_count": null,
      "outputs": []
    },
    {
      "cell_type": "code",
      "metadata": {
        "colab": {
          "base_uri": "https://localhost:8080/"
        },
        "id": "HGPUH0Eu3Kwt",
        "outputId": "5f678aab-1eee-4604-d525-6753d0e78abd"
      },
      "source": [
        "get_metrics(X,y)"
      ],
      "execution_count": null,
      "outputs": [
        {
          "output_type": "stream",
          "name": "stdout",
          "text": [
            "MSE=  [[0.43178717]]\n",
            "MAPE=  [[0.51406067]]\n",
            "MAPE=  [[0.23407707]]\n"
          ]
        }
      ]
    },
    {
      "cell_type": "code",
      "metadata": {
        "colab": {
          "base_uri": "https://localhost:8080/"
        },
        "id": "_lHiW5fc3Kwv",
        "outputId": "024da7b9-de17-4fdc-ef2e-e49a464a327e"
      },
      "source": [
        "print(X[1],y[1])\n",
        "print(model.predict(X[1].reshape((1, n_steps, n_features)),verbose=0))"
      ],
      "execution_count": null,
      "outputs": [
        {
          "output_type": "stream",
          "name": "stdout",
          "text": [
            "[[2.22311289]\n",
            " [1.70888176]\n",
            " [2.15840032]\n",
            " [2.58308075]\n",
            " [2.20122171]\n",
            " [2.59029947]\n",
            " [3.27305872]] [3.65195856]\n",
            "[[3.0482762]]\n"
          ]
        }
      ]
    },
    {
      "cell_type": "code",
      "metadata": {
        "id": "yfUXpBNc02kZ"
      },
      "source": [
        ""
      ],
      "execution_count": null,
      "outputs": []
    },
    {
      "cell_type": "markdown",
      "metadata": {
        "id": "K5G616_O3VME"
      },
      "source": [
        "For Rajasthan3"
      ]
    },
    {
      "cell_type": "code",
      "metadata": {
        "id": "1PiAAqyx3VMI"
      },
      "source": [
        "df_rj1=pd.read_csv('Rajasthan3.csv')"
      ],
      "execution_count": null,
      "outputs": []
    },
    {
      "cell_type": "code",
      "metadata": {
        "id": "ypQ50OOY3VMN"
      },
      "source": [
        "del df_rj1['Unnamed: 0']"
      ],
      "execution_count": null,
      "outputs": []
    },
    {
      "cell_type": "code",
      "metadata": {
        "id": "4ddRvQY03VMQ"
      },
      "source": [
        "df_rj1_train=df_rj1[0:3650]\n",
        "df_rj1_test=df_rj1[3650:]"
      ],
      "execution_count": null,
      "outputs": []
    },
    {
      "cell_type": "code",
      "metadata": {
        "id": "eMTOp0193VMT"
      },
      "source": [
        "X, y = split_sequence(df_rj1_train, n_steps)"
      ],
      "execution_count": null,
      "outputs": []
    },
    {
      "cell_type": "code",
      "metadata": {
        "colab": {
          "base_uri": "https://localhost:8080/"
        },
        "id": "WfS-1HEr3VMX",
        "outputId": "fa848f37-df98-4f10-ef79-f6e3fecbd539"
      },
      "source": [
        "# reshape from [samples, timesteps] into [samples, timesteps, features]\n",
        "n_features = 1\n",
        "X = X.reshape((X.shape[0], X.shape[1], n_features))\n",
        "# define model\n",
        "model = Sequential()\n",
        "model.add(LSTM(50, activation='relu', return_sequences=True, input_shape=(n_steps, n_features)))\n",
        "model.add(LSTM(50, activation='relu'))\n",
        "model.add(Dense(1))\n",
        "model.compile(optimizer='adam', loss='mse')\n",
        "# fit model\n",
        "model.fit(X, y, epochs=50, verbose=1)"
      ],
      "execution_count": null,
      "outputs": [
        {
          "output_type": "stream",
          "name": "stdout",
          "text": [
            "Epoch 1/50\n",
            "114/114 [==============================] - 3s 9ms/step - loss: 1.8977\n",
            "Epoch 2/50\n",
            "114/114 [==============================] - 1s 9ms/step - loss: 0.6465\n",
            "Epoch 3/50\n",
            "114/114 [==============================] - 1s 9ms/step - loss: 0.5781\n",
            "Epoch 4/50\n",
            "114/114 [==============================] - 1s 9ms/step - loss: 0.4945\n",
            "Epoch 5/50\n",
            "114/114 [==============================] - 1s 9ms/step - loss: 0.4517\n",
            "Epoch 6/50\n",
            "114/114 [==============================] - 1s 9ms/step - loss: 0.4417\n",
            "Epoch 7/50\n",
            "114/114 [==============================] - 1s 9ms/step - loss: 0.4423\n",
            "Epoch 8/50\n",
            "114/114 [==============================] - 1s 9ms/step - loss: 0.4303\n",
            "Epoch 9/50\n",
            "114/114 [==============================] - 1s 9ms/step - loss: 0.4279\n",
            "Epoch 10/50\n",
            "114/114 [==============================] - 1s 9ms/step - loss: 0.4230\n",
            "Epoch 11/50\n",
            "114/114 [==============================] - 1s 9ms/step - loss: 0.4299\n",
            "Epoch 12/50\n",
            "114/114 [==============================] - 1s 9ms/step - loss: 0.4238\n",
            "Epoch 13/50\n",
            "114/114 [==============================] - 1s 9ms/step - loss: 0.4175\n",
            "Epoch 14/50\n",
            "114/114 [==============================] - 1s 9ms/step - loss: 0.4248\n",
            "Epoch 15/50\n",
            "114/114 [==============================] - 1s 9ms/step - loss: 0.4147\n",
            "Epoch 16/50\n",
            "114/114 [==============================] - 1s 10ms/step - loss: 0.4211\n",
            "Epoch 17/50\n",
            "114/114 [==============================] - 1s 10ms/step - loss: 0.4169\n",
            "Epoch 18/50\n",
            "114/114 [==============================] - 1s 9ms/step - loss: 0.4215\n",
            "Epoch 19/50\n",
            "114/114 [==============================] - 1s 9ms/step - loss: 0.4336\n",
            "Epoch 20/50\n",
            "114/114 [==============================] - 1s 9ms/step - loss: 0.4273\n",
            "Epoch 21/50\n",
            "114/114 [==============================] - 1s 9ms/step - loss: 0.4135\n",
            "Epoch 22/50\n",
            "114/114 [==============================] - 1s 9ms/step - loss: 0.4133\n",
            "Epoch 23/50\n",
            "114/114 [==============================] - 1s 9ms/step - loss: 0.4164\n",
            "Epoch 24/50\n",
            "114/114 [==============================] - 1s 9ms/step - loss: 0.4181\n",
            "Epoch 25/50\n",
            "114/114 [==============================] - 1s 9ms/step - loss: 0.4190\n",
            "Epoch 26/50\n",
            "114/114 [==============================] - 1s 9ms/step - loss: 0.4177\n",
            "Epoch 27/50\n",
            "114/114 [==============================] - 1s 9ms/step - loss: 0.4161\n",
            "Epoch 28/50\n",
            "114/114 [==============================] - 1s 9ms/step - loss: 0.4170\n",
            "Epoch 29/50\n",
            "114/114 [==============================] - 1s 9ms/step - loss: 0.4136\n",
            "Epoch 30/50\n",
            "114/114 [==============================] - 1s 9ms/step - loss: 0.4208\n",
            "Epoch 31/50\n",
            "114/114 [==============================] - 1s 9ms/step - loss: 0.4100\n",
            "Epoch 32/50\n",
            "114/114 [==============================] - 1s 9ms/step - loss: 0.4119\n",
            "Epoch 33/50\n",
            "114/114 [==============================] - 1s 9ms/step - loss: 0.4147\n",
            "Epoch 34/50\n",
            "114/114 [==============================] - 1s 9ms/step - loss: 0.4144\n",
            "Epoch 35/50\n",
            "114/114 [==============================] - 1s 9ms/step - loss: 0.4101\n",
            "Epoch 36/50\n",
            "114/114 [==============================] - 1s 9ms/step - loss: 0.4172\n",
            "Epoch 37/50\n",
            "114/114 [==============================] - 1s 9ms/step - loss: 0.4114\n",
            "Epoch 38/50\n",
            "114/114 [==============================] - 1s 10ms/step - loss: 0.4130\n",
            "Epoch 39/50\n",
            "114/114 [==============================] - 1s 10ms/step - loss: 0.4153\n",
            "Epoch 40/50\n",
            "114/114 [==============================] - 1s 9ms/step - loss: 0.4079\n",
            "Epoch 41/50\n",
            "114/114 [==============================] - 1s 9ms/step - loss: 0.4155\n",
            "Epoch 42/50\n",
            "114/114 [==============================] - 1s 9ms/step - loss: 0.4088\n",
            "Epoch 43/50\n",
            "114/114 [==============================] - 1s 9ms/step - loss: 0.4138\n",
            "Epoch 44/50\n",
            "114/114 [==============================] - 1s 9ms/step - loss: 0.4110\n",
            "Epoch 45/50\n",
            "114/114 [==============================] - 1s 9ms/step - loss: 0.4135\n",
            "Epoch 46/50\n",
            "114/114 [==============================] - 1s 9ms/step - loss: 0.4201\n",
            "Epoch 47/50\n",
            "114/114 [==============================] - 1s 9ms/step - loss: 0.4116\n",
            "Epoch 48/50\n",
            "114/114 [==============================] - 1s 10ms/step - loss: 0.4109\n",
            "Epoch 49/50\n",
            "114/114 [==============================] - 1s 9ms/step - loss: 0.4137\n",
            "Epoch 50/50\n",
            "114/114 [==============================] - 1s 9ms/step - loss: 0.4104\n"
          ]
        },
        {
          "output_type": "execute_result",
          "data": {
            "text/plain": [
              "<keras.callbacks.History at 0x7fcb4b2bd190>"
            ]
          },
          "metadata": {},
          "execution_count": 214
        }
      ]
    },
    {
      "cell_type": "code",
      "metadata": {
        "id": "IyhM5ssg3VMb"
      },
      "source": [
        "def get_metrics(X,y):\n",
        "  size=X.shape[0]\n",
        "  mse=0.0\n",
        "  mae=0.0\n",
        "  mape=0.0\n",
        "  for i in range(size):\n",
        "    yhat = model.predict(X[i].reshape((1, n_steps, n_features)),verbose=0)\n",
        "    mse+=(yhat-y[i])*(yhat-y[i])\n",
        "    mae+=abs((yhat-y[i]))\n",
        "    mape+=abs((y[i]-yhat)/y[i])\n",
        "  \n",
        "  mse=mse/size\n",
        "  mae=mae/size\n",
        "  mape=mape/size\n",
        "  print(\"MSE= \",mse)\n",
        "  print(\"MAPE= \",mae)\n",
        "  print(\"MAPE= \",mape)"
      ],
      "execution_count": null,
      "outputs": []
    },
    {
      "cell_type": "code",
      "metadata": {
        "colab": {
          "base_uri": "https://localhost:8080/"
        },
        "id": "gEzOPaNM3VMd",
        "outputId": "f58323d9-b3cd-4191-94a1-458003f765a4"
      },
      "source": [
        "get_metrics(X,y)"
      ],
      "execution_count": null,
      "outputs": [
        {
          "output_type": "stream",
          "name": "stdout",
          "text": [
            "MSE=  [[0.40180154]]\n",
            "MAPE=  [[0.48989117]]\n",
            "MAPE=  [[0.21939084]]\n"
          ]
        }
      ]
    },
    {
      "cell_type": "code",
      "metadata": {
        "id": "XsGOdowg3VMe"
      },
      "source": [
        "X, y = split_sequence(df_rj1_test, n_steps)"
      ],
      "execution_count": null,
      "outputs": []
    },
    {
      "cell_type": "code",
      "metadata": {
        "colab": {
          "base_uri": "https://localhost:8080/"
        },
        "id": "bCT0lnsP3VMh",
        "outputId": "0dd3e220-af6e-4d12-dfa3-85c8d7bee3df"
      },
      "source": [
        "get_metrics(X,y)"
      ],
      "execution_count": null,
      "outputs": [
        {
          "output_type": "stream",
          "name": "stdout",
          "text": [
            "MSE=  [[0.36655597]]\n",
            "MAPE=  [[0.47110083]]\n",
            "MAPE=  [[0.20115753]]\n"
          ]
        }
      ]
    },
    {
      "cell_type": "code",
      "metadata": {
        "colab": {
          "base_uri": "https://localhost:8080/"
        },
        "id": "qdkckwiH3VMi",
        "outputId": "3a28ad27-4f99-4087-aacc-0015ad3ffef4"
      },
      "source": [
        "print(X[1],y[1])\n",
        "print(model.predict(X[1].reshape((1, n_steps, n_features)),verbose=0))"
      ],
      "execution_count": null,
      "outputs": [
        {
          "output_type": "stream",
          "name": "stdout",
          "text": [
            "[[1.67324088]\n",
            " [2.53296256]\n",
            " [2.75000324]\n",
            " [2.47666694]\n",
            " [3.0107489 ]\n",
            " [2.37216843]\n",
            " [1.43135912]] [1.63967266]\n",
            "[[1.7971389]]\n"
          ]
        }
      ]
    },
    {
      "cell_type": "markdown",
      "metadata": {
        "id": "ZzPsIO7X3dbT"
      },
      "source": [
        "For Rajasthan4"
      ]
    },
    {
      "cell_type": "code",
      "metadata": {
        "id": "abws18Vk3dbU"
      },
      "source": [
        "df_rj1=pd.read_csv('Rajasthan4.csv')"
      ],
      "execution_count": null,
      "outputs": []
    },
    {
      "cell_type": "code",
      "metadata": {
        "id": "7zjfUX643dbU"
      },
      "source": [
        "del df_rj1['Unnamed: 0']"
      ],
      "execution_count": null,
      "outputs": []
    },
    {
      "cell_type": "code",
      "metadata": {
        "id": "0XyUMNb73dbV"
      },
      "source": [
        "df_rj1_train=df_rj1[0:3650]\n",
        "df_rj1_test=df_rj1[3650:]"
      ],
      "execution_count": null,
      "outputs": []
    },
    {
      "cell_type": "code",
      "metadata": {
        "id": "O4sko0iB3dbW"
      },
      "source": [
        "X, y = split_sequence(df_rj1_train, n_steps)"
      ],
      "execution_count": null,
      "outputs": []
    },
    {
      "cell_type": "code",
      "metadata": {
        "colab": {
          "base_uri": "https://localhost:8080/"
        },
        "id": "VdOhW9B23dbW",
        "outputId": "6963c0a0-cfef-4a79-fff2-6e209d06a2de"
      },
      "source": [
        "# reshape from [samples, timesteps] into [samples, timesteps, features]\n",
        "n_features = 1\n",
        "X = X.reshape((X.shape[0], X.shape[1], n_features))\n",
        "# define model\n",
        "model = Sequential()\n",
        "model.add(LSTM(50, activation='relu', return_sequences=True, input_shape=(n_steps, n_features)))\n",
        "model.add(LSTM(50, activation='relu'))\n",
        "model.add(Dense(1))\n",
        "model.compile(optimizer='adam', loss='mse')\n",
        "# fit model\n",
        "model.fit(X, y, epochs=50, verbose=1)"
      ],
      "execution_count": null,
      "outputs": [
        {
          "output_type": "stream",
          "name": "stdout",
          "text": [
            "Epoch 1/50\n",
            "114/114 [==============================] - 3s 9ms/step - loss: 2.4059\n",
            "Epoch 2/50\n",
            "114/114 [==============================] - 1s 9ms/step - loss: 0.7809\n",
            "Epoch 3/50\n",
            "114/114 [==============================] - 1s 9ms/step - loss: 0.6634\n",
            "Epoch 4/50\n",
            "114/114 [==============================] - 1s 9ms/step - loss: 0.5273\n",
            "Epoch 5/50\n",
            "114/114 [==============================] - 1s 9ms/step - loss: 0.4773\n",
            "Epoch 6/50\n",
            "114/114 [==============================] - 1s 9ms/step - loss: 0.4651\n",
            "Epoch 7/50\n",
            "114/114 [==============================] - 1s 9ms/step - loss: 0.4738\n",
            "Epoch 8/50\n",
            "114/114 [==============================] - 1s 9ms/step - loss: 0.4736\n",
            "Epoch 9/50\n",
            "114/114 [==============================] - 1s 9ms/step - loss: 0.4593\n",
            "Epoch 10/50\n",
            "114/114 [==============================] - 1s 9ms/step - loss: 0.4644\n",
            "Epoch 11/50\n",
            "114/114 [==============================] - 1s 9ms/step - loss: 0.4619\n",
            "Epoch 12/50\n",
            "114/114 [==============================] - 1s 10ms/step - loss: 0.4682\n",
            "Epoch 13/50\n",
            "114/114 [==============================] - 1s 10ms/step - loss: 0.4603\n",
            "Epoch 14/50\n",
            "114/114 [==============================] - 1s 10ms/step - loss: 0.4565\n",
            "Epoch 15/50\n",
            "114/114 [==============================] - 1s 10ms/step - loss: 0.4553\n",
            "Epoch 16/50\n",
            "114/114 [==============================] - 1s 9ms/step - loss: 0.4509\n",
            "Epoch 17/50\n",
            "114/114 [==============================] - 1s 10ms/step - loss: 0.4528\n",
            "Epoch 18/50\n",
            "114/114 [==============================] - 1s 9ms/step - loss: 0.4580\n",
            "Epoch 19/50\n",
            "114/114 [==============================] - 1s 9ms/step - loss: 0.4546\n",
            "Epoch 20/50\n",
            "114/114 [==============================] - 1s 9ms/step - loss: 0.4572\n",
            "Epoch 21/50\n",
            "114/114 [==============================] - 1s 9ms/step - loss: 0.4593\n",
            "Epoch 22/50\n",
            "114/114 [==============================] - 1s 9ms/step - loss: 0.4592\n",
            "Epoch 23/50\n",
            "114/114 [==============================] - 1s 9ms/step - loss: 0.4533\n",
            "Epoch 24/50\n",
            "114/114 [==============================] - 1s 9ms/step - loss: 0.4503\n",
            "Epoch 25/50\n",
            "114/114 [==============================] - 1s 9ms/step - loss: 0.4528\n",
            "Epoch 26/50\n",
            "114/114 [==============================] - 1s 9ms/step - loss: 0.4538\n",
            "Epoch 27/50\n",
            "114/114 [==============================] - 1s 9ms/step - loss: 0.4501\n",
            "Epoch 28/50\n",
            "114/114 [==============================] - 1s 9ms/step - loss: 0.4497\n",
            "Epoch 29/50\n",
            "114/114 [==============================] - 1s 9ms/step - loss: 0.4455\n",
            "Epoch 30/50\n",
            "114/114 [==============================] - 1s 10ms/step - loss: 0.4458\n",
            "Epoch 31/50\n",
            "114/114 [==============================] - 1s 10ms/step - loss: 0.4465\n",
            "Epoch 32/50\n",
            "114/114 [==============================] - 1s 9ms/step - loss: 0.4576\n",
            "Epoch 33/50\n",
            "114/114 [==============================] - 1s 10ms/step - loss: 0.4521\n",
            "Epoch 34/50\n",
            "114/114 [==============================] - 1s 9ms/step - loss: 0.4484\n",
            "Epoch 35/50\n",
            "114/114 [==============================] - 1s 9ms/step - loss: 0.4448\n",
            "Epoch 36/50\n",
            "114/114 [==============================] - 1s 9ms/step - loss: 0.4505\n",
            "Epoch 37/50\n",
            "114/114 [==============================] - 1s 10ms/step - loss: 0.4477\n",
            "Epoch 38/50\n",
            "114/114 [==============================] - 1s 9ms/step - loss: 0.4511\n",
            "Epoch 39/50\n",
            "114/114 [==============================] - 1s 9ms/step - loss: 0.4494\n",
            "Epoch 40/50\n",
            "114/114 [==============================] - 1s 10ms/step - loss: 0.4451\n",
            "Epoch 41/50\n",
            "114/114 [==============================] - 1s 9ms/step - loss: 0.4495\n",
            "Epoch 42/50\n",
            "114/114 [==============================] - 1s 9ms/step - loss: 0.4464\n",
            "Epoch 43/50\n",
            "114/114 [==============================] - 1s 9ms/step - loss: 0.4522\n",
            "Epoch 44/50\n",
            "114/114 [==============================] - 1s 9ms/step - loss: 0.4501\n",
            "Epoch 45/50\n",
            "114/114 [==============================] - 1s 10ms/step - loss: 0.4470\n",
            "Epoch 46/50\n",
            "114/114 [==============================] - 1s 10ms/step - loss: 0.4436\n",
            "Epoch 47/50\n",
            "114/114 [==============================] - 1s 10ms/step - loss: 0.4486\n",
            "Epoch 48/50\n",
            "114/114 [==============================] - 1s 10ms/step - loss: 0.4439\n",
            "Epoch 49/50\n",
            "114/114 [==============================] - 1s 9ms/step - loss: 0.4493\n",
            "Epoch 50/50\n",
            "114/114 [==============================] - 1s 9ms/step - loss: 0.4471\n"
          ]
        },
        {
          "output_type": "execute_result",
          "data": {
            "text/plain": [
              "<keras.callbacks.History at 0x7fcb4b5e1050>"
            ]
          },
          "metadata": {},
          "execution_count": 224
        }
      ]
    },
    {
      "cell_type": "code",
      "metadata": {
        "id": "DWzVyRYK3dbX"
      },
      "source": [
        "def get_metrics(X,y):\n",
        "  size=X.shape[0]\n",
        "  mse=0.0\n",
        "  mae=0.0\n",
        "  mape=0.0\n",
        "  for i in range(size):\n",
        "    yhat = model.predict(X[i].reshape((1, n_steps, n_features)),verbose=0)\n",
        "    mse+=(yhat-y[i])*(yhat-y[i])\n",
        "    mae+=abs((yhat-y[i]))\n",
        "    mape+=abs((y[i]-yhat)/y[i])\n",
        "  \n",
        "  mse=mse/size\n",
        "  mae=mae/size\n",
        "  mape=mape/size\n",
        "  print(\"MSE= \",mse)\n",
        "  print(\"MAPE= \",mae)\n",
        "  print(\"MAPE= \",mape)"
      ],
      "execution_count": null,
      "outputs": []
    },
    {
      "cell_type": "code",
      "metadata": {
        "colab": {
          "base_uri": "https://localhost:8080/"
        },
        "id": "Wu0eoFYG3dbY",
        "outputId": "8e538d10-b0da-45dc-ac9a-422de1e82021"
      },
      "source": [
        "get_metrics(X,y)"
      ],
      "execution_count": null,
      "outputs": [
        {
          "output_type": "stream",
          "name": "stdout",
          "text": [
            "MSE=  [[0.44455149]]\n",
            "MAPE=  [[0.52534499]]\n",
            "MAPE=  [[0.22481548]]\n"
          ]
        }
      ]
    },
    {
      "cell_type": "code",
      "metadata": {
        "id": "JtoGJ8IJ3dbY"
      },
      "source": [
        "X, y = split_sequence(df_rj1_test, n_steps)"
      ],
      "execution_count": null,
      "outputs": []
    },
    {
      "cell_type": "code",
      "metadata": {
        "colab": {
          "base_uri": "https://localhost:8080/"
        },
        "id": "KC_wOBb-3dbZ",
        "outputId": "715089f1-7538-4a9a-ec8e-a463c909bd7c"
      },
      "source": [
        "get_metrics(X,y)"
      ],
      "execution_count": null,
      "outputs": [
        {
          "output_type": "stream",
          "name": "stdout",
          "text": [
            "MSE=  [[0.49922157]]\n",
            "MAPE=  [[0.54975125]]\n",
            "MAPE=  [[0.24361658]]\n"
          ]
        }
      ]
    },
    {
      "cell_type": "code",
      "metadata": {
        "colab": {
          "base_uri": "https://localhost:8080/"
        },
        "id": "oghsy2Xr3dbZ",
        "outputId": "3200cbb5-be28-4cbd-aae7-c61a2d16720f"
      },
      "source": [
        "print(X[1],y[1])\n",
        "print(model.predict(X[1].reshape((1, n_steps, n_features)),verbose=0))"
      ],
      "execution_count": null,
      "outputs": [
        {
          "output_type": "stream",
          "name": "stdout",
          "text": [
            "[[2.968328  ]\n",
            " [1.8874262 ]\n",
            " [2.96495191]\n",
            " [1.41972753]\n",
            " [2.66607391]\n",
            " [2.26880564]\n",
            " [2.83725868]] [3.25754037]\n",
            "[[2.9153163]]\n"
          ]
        }
      ]
    },
    {
      "cell_type": "code",
      "metadata": {
        "id": "kZGLDtOo3dbb"
      },
      "source": [
        ""
      ],
      "execution_count": null,
      "outputs": []
    },
    {
      "cell_type": "markdown",
      "metadata": {
        "id": "cu-6tge73imN"
      },
      "source": [
        "For Rajasthan5"
      ]
    },
    {
      "cell_type": "code",
      "metadata": {
        "id": "Vl16c9pd3imO"
      },
      "source": [
        "df_rj1=pd.read_csv('Rajasthan5.csv')"
      ],
      "execution_count": null,
      "outputs": []
    },
    {
      "cell_type": "code",
      "metadata": {
        "id": "kBcss-MW3imP"
      },
      "source": [
        "del df_rj1['Unnamed: 0']"
      ],
      "execution_count": null,
      "outputs": []
    },
    {
      "cell_type": "code",
      "metadata": {
        "id": "4GgaMvDe3imR"
      },
      "source": [
        "df_rj1_train=df_rj1[0:3650]\n",
        "df_rj1_test=df_rj1[3650:]"
      ],
      "execution_count": null,
      "outputs": []
    },
    {
      "cell_type": "code",
      "metadata": {
        "id": "Sg6Dm1g63imS"
      },
      "source": [
        "X, y = split_sequence(df_rj1_train, n_steps)"
      ],
      "execution_count": null,
      "outputs": []
    },
    {
      "cell_type": "code",
      "metadata": {
        "colab": {
          "base_uri": "https://localhost:8080/"
        },
        "id": "t123sWtY3imT",
        "outputId": "6de2099f-4748-4c5b-ea7c-95e6c62d9150"
      },
      "source": [
        "# reshape from [samples, timesteps] into [samples, timesteps, features]\n",
        "n_features = 1\n",
        "X = X.reshape((X.shape[0], X.shape[1], n_features))\n",
        "# define model\n",
        "model = Sequential()\n",
        "model.add(LSTM(50, activation='relu', return_sequences=True, input_shape=(n_steps, n_features)))\n",
        "model.add(LSTM(50, activation='relu'))\n",
        "model.add(Dense(1))\n",
        "model.compile(optimizer='adam', loss='mse')\n",
        "# fit model\n",
        "model.fit(X, y, epochs=50, verbose=1)"
      ],
      "execution_count": null,
      "outputs": [
        {
          "output_type": "stream",
          "name": "stdout",
          "text": [
            "Epoch 1/50\n",
            "114/114 [==============================] - 3s 9ms/step - loss: 2.7838\n",
            "Epoch 2/50\n",
            "114/114 [==============================] - 1s 9ms/step - loss: 0.7414\n",
            "Epoch 3/50\n",
            "114/114 [==============================] - 1s 9ms/step - loss: 0.5826\n",
            "Epoch 4/50\n",
            "114/114 [==============================] - 1s 9ms/step - loss: 0.5122\n",
            "Epoch 5/50\n",
            "114/114 [==============================] - 1s 10ms/step - loss: 0.4935\n",
            "Epoch 6/50\n",
            "114/114 [==============================] - 1s 10ms/step - loss: 0.4961\n",
            "Epoch 7/50\n",
            "114/114 [==============================] - 1s 10ms/step - loss: 0.4977\n",
            "Epoch 8/50\n",
            "114/114 [==============================] - 1s 10ms/step - loss: 0.4859\n",
            "Epoch 9/50\n",
            "114/114 [==============================] - 1s 10ms/step - loss: 0.4929\n",
            "Epoch 10/50\n",
            "114/114 [==============================] - 1s 10ms/step - loss: 0.4817\n",
            "Epoch 11/50\n",
            "114/114 [==============================] - 1s 10ms/step - loss: 0.4795\n",
            "Epoch 12/50\n",
            "114/114 [==============================] - 1s 10ms/step - loss: 0.4848\n",
            "Epoch 13/50\n",
            "114/114 [==============================] - 1s 10ms/step - loss: 0.4885\n",
            "Epoch 14/50\n",
            "114/114 [==============================] - 1s 10ms/step - loss: 0.4890\n",
            "Epoch 15/50\n",
            "114/114 [==============================] - 1s 10ms/step - loss: 0.4854\n",
            "Epoch 16/50\n",
            "114/114 [==============================] - 1s 9ms/step - loss: 0.4814\n",
            "Epoch 17/50\n",
            "114/114 [==============================] - 1s 9ms/step - loss: 0.4970\n",
            "Epoch 18/50\n",
            "114/114 [==============================] - 1s 10ms/step - loss: 0.4794\n",
            "Epoch 19/50\n",
            "114/114 [==============================] - 1s 9ms/step - loss: 0.4855\n",
            "Epoch 20/50\n",
            "114/114 [==============================] - 1s 10ms/step - loss: 0.4877\n",
            "Epoch 21/50\n",
            "114/114 [==============================] - 1s 9ms/step - loss: 0.4804\n",
            "Epoch 22/50\n",
            "114/114 [==============================] - 1s 9ms/step - loss: 0.4923\n",
            "Epoch 23/50\n",
            "114/114 [==============================] - 1s 9ms/step - loss: 0.4864\n",
            "Epoch 24/50\n",
            "114/114 [==============================] - 1s 9ms/step - loss: 0.4833\n",
            "Epoch 25/50\n",
            "114/114 [==============================] - 1s 9ms/step - loss: 0.4799\n",
            "Epoch 26/50\n",
            "114/114 [==============================] - 1s 9ms/step - loss: 0.4770\n",
            "Epoch 27/50\n",
            "114/114 [==============================] - 1s 10ms/step - loss: 0.4736\n",
            "Epoch 28/50\n",
            "114/114 [==============================] - 1s 10ms/step - loss: 0.4754\n",
            "Epoch 29/50\n",
            "114/114 [==============================] - 1s 9ms/step - loss: 0.4843\n",
            "Epoch 30/50\n",
            "114/114 [==============================] - 1s 9ms/step - loss: 0.4832\n",
            "Epoch 31/50\n",
            "114/114 [==============================] - 1s 9ms/step - loss: 0.4846\n",
            "Epoch 32/50\n",
            "114/114 [==============================] - 1s 9ms/step - loss: 0.4825\n",
            "Epoch 33/50\n",
            "114/114 [==============================] - 1s 9ms/step - loss: 0.4780\n",
            "Epoch 34/50\n",
            "114/114 [==============================] - 1s 9ms/step - loss: 0.4794\n",
            "Epoch 35/50\n",
            "114/114 [==============================] - 1s 9ms/step - loss: 0.4775\n",
            "Epoch 36/50\n",
            "114/114 [==============================] - 1s 9ms/step - loss: 0.4799\n",
            "Epoch 37/50\n",
            "114/114 [==============================] - 1s 10ms/step - loss: 0.4784\n",
            "Epoch 38/50\n",
            "114/114 [==============================] - 1s 9ms/step - loss: 0.4712\n",
            "Epoch 39/50\n",
            "114/114 [==============================] - 1s 10ms/step - loss: 0.4743\n",
            "Epoch 40/50\n",
            "114/114 [==============================] - 1s 10ms/step - loss: 0.4805\n",
            "Epoch 41/50\n",
            "114/114 [==============================] - 1s 9ms/step - loss: 0.4803\n",
            "Epoch 42/50\n",
            "114/114 [==============================] - 1s 10ms/step - loss: 0.4818\n",
            "Epoch 43/50\n",
            "114/114 [==============================] - 1s 9ms/step - loss: 0.4715\n",
            "Epoch 44/50\n",
            "114/114 [==============================] - 1s 10ms/step - loss: 0.4728\n",
            "Epoch 45/50\n",
            "114/114 [==============================] - 1s 10ms/step - loss: 0.4783\n",
            "Epoch 46/50\n",
            "114/114 [==============================] - 1s 9ms/step - loss: 0.4768\n",
            "Epoch 47/50\n",
            "114/114 [==============================] - 1s 9ms/step - loss: 0.4801\n",
            "Epoch 48/50\n",
            "114/114 [==============================] - 1s 9ms/step - loss: 0.4740\n",
            "Epoch 49/50\n",
            "114/114 [==============================] - 1s 9ms/step - loss: 0.4795\n",
            "Epoch 50/50\n",
            "114/114 [==============================] - 1s 9ms/step - loss: 0.4816\n"
          ]
        },
        {
          "output_type": "execute_result",
          "data": {
            "text/plain": [
              "<keras.callbacks.History at 0x7fcb526d9390>"
            ]
          },
          "metadata": {},
          "execution_count": 234
        }
      ]
    },
    {
      "cell_type": "code",
      "metadata": {
        "id": "XVFabP1m3imU"
      },
      "source": [
        "def get_metrics(X,y):\n",
        "  size=X.shape[0]\n",
        "  mse=0.0\n",
        "  mae=0.0\n",
        "  mape=0.0\n",
        "  for i in range(size):\n",
        "    yhat = model.predict(X[i].reshape((1, n_steps, n_features)),verbose=0)\n",
        "    mse+=(yhat-y[i])*(yhat-y[i])\n",
        "    mae+=abs((yhat-y[i]))\n",
        "    mape+=abs((y[i]-yhat)/y[i])\n",
        "  \n",
        "  mse=mse/size\n",
        "  mae=mae/size\n",
        "  mape=mape/size\n",
        "  print(\"MSE= \",mse)\n",
        "  print(\"MAPE= \",mae)\n",
        "  print(\"MAPE= \",mape)"
      ],
      "execution_count": null,
      "outputs": []
    },
    {
      "cell_type": "code",
      "metadata": {
        "colab": {
          "base_uri": "https://localhost:8080/"
        },
        "id": "k2-jSJ1Q3imV",
        "outputId": "c8d113cb-f3c7-4110-884f-c4ff57ca8c70"
      },
      "source": [
        "get_metrics(X,y)"
      ],
      "execution_count": null,
      "outputs": [
        {
          "output_type": "stream",
          "name": "stdout",
          "text": [
            "MSE=  [[0.52998984]]\n",
            "MAPE=  [[0.57714016]]\n",
            "MAPE=  [[0.25164071]]\n"
          ]
        }
      ]
    },
    {
      "cell_type": "code",
      "metadata": {
        "id": "ExqXgHZE3imV"
      },
      "source": [
        "X, y = split_sequence(df_rj1_test, n_steps)"
      ],
      "execution_count": null,
      "outputs": []
    },
    {
      "cell_type": "code",
      "metadata": {
        "colab": {
          "base_uri": "https://localhost:8080/"
        },
        "id": "saf5IE-u3imW",
        "outputId": "fa319d22-d6f9-4e4f-d0e9-8e843b9a1e85"
      },
      "source": [
        "get_metrics(X,y)"
      ],
      "execution_count": null,
      "outputs": [
        {
          "output_type": "stream",
          "name": "stdout",
          "text": [
            "MSE=  [[0.54844033]]\n",
            "MAPE=  [[0.58286575]]\n",
            "MAPE=  [[0.25332649]]\n"
          ]
        }
      ]
    },
    {
      "cell_type": "code",
      "metadata": {
        "colab": {
          "base_uri": "https://localhost:8080/"
        },
        "id": "4_ICm5Oi3imX",
        "outputId": "ceae7967-6500-441a-fe54-353a8c23e035"
      },
      "source": [
        "print(X[1],y[1])\n",
        "print(model.predict(X[1].reshape((1, n_steps, n_features)),verbose=0))"
      ],
      "execution_count": null,
      "outputs": [
        {
          "output_type": "stream",
          "name": "stdout",
          "text": [
            "[[2.5030784 ]\n",
            " [3.75442104]\n",
            " [3.81702284]\n",
            " [3.66438784]\n",
            " [4.03356438]\n",
            " [4.17388174]\n",
            " [3.59413673]] [3.14355398]\n",
            "[[3.6445425]]\n"
          ]
        }
      ]
    },
    {
      "cell_type": "code",
      "metadata": {
        "id": "rOJKDlGR3imZ"
      },
      "source": [
        ""
      ],
      "execution_count": null,
      "outputs": []
    }
  ]
}